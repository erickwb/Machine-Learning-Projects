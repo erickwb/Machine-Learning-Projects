{
  "nbformat": 4,
  "nbformat_minor": 0,
  "metadata": {
    "colab": {
      "name": "deposit_analysis.ipynb",
      "provenance": [],
      "collapsed_sections": [],
      "mount_file_id": "1zKeL_la_ZyIQbLOPcFq8fnkCj9PhGohO",
      "authorship_tag": "ABX9TyNmUe73r+Y4qqn2m3fu3aFQ"
    },
    "kernelspec": {
      "name": "python3",
      "display_name": "Python 3"
    },
    "language_info": {
      "name": "python"
    }
  },
  "cells": [
    {
      "cell_type": "markdown",
      "metadata": {
        "id": "s4SOeRqDrSoh"
      },
      "source": [
        "Name: Erick Correia Silva\n",
        "\n",
        "Dataframe: bank-additional\n",
        "\n",
        "Date: 07/09/2021\n"
      ]
    },
    {
      "cell_type": "code",
      "metadata": {
        "id": "aQRFKTr1IXuw"
      },
      "source": [
        "#import das bibliotecas\n",
        "\n",
        "import pandas as pd\n",
        "import numpy as np\n",
        "from sklearn import preprocessing\n",
        "from sklearn.preprocessing import LabelEncoder \n",
        "from sklearn.neighbors import KNeighborsClassifier\n",
        "from sklearn.model_selection import train_test_split\n",
        "from imblearn.under_sampling import NearMiss\n",
        "from sklearn.model_selection import cross_val_score\n",
        "from sklearn.model_selection import KFold\n",
        "from sklearn.pipeline import Pipeline\n",
        "from sklearn.model_selection import GridSearchCV\n",
        "#classificadores\n",
        "from sklearn.tree import DecisionTreeClassifier\n",
        "from sklearn.naive_bayes import GaussianNB\n",
        "from sklearn import svm\n",
        "from sklearn.ensemble import RandomForestClassifier\n",
        "from sklearn.ensemble import GradientBoostingClassifier\n",
        "from sklearn.neural_network import MLPClassifier\n",
        "#metricas\n",
        "from yellowbrick.classifier import ConfusionMatrix\n",
        "from sklearn import metrics\n",
        "from sklearn.metrics import f1_score\n",
        "#graficos\n",
        "import seaborn as sns\n",
        "\n"
      ],
      "execution_count": 5,
      "outputs": []
    },
    {
      "cell_type": "markdown",
      "metadata": {
        "id": "EkWT4S_I8fFm"
      },
      "source": [
        "##Pre processamento dos dados\n"
      ]
    },
    {
      "cell_type": "markdown",
      "metadata": {
        "id": "w_F_r9Tb8lA6"
      },
      "source": [
        "(instanciando o datset ,verificando se a dados faltantes, dividindo os dados de amostra e classe, transformando os dados categorios em dados numericos, balanceando os dados da classe ) "
      ]
    },
    {
      "cell_type": "code",
      "metadata": {
        "id": "qSRvuoVfws8M",
        "colab": {
          "base_uri": "https://localhost:8080/",
          "height": 456
        },
        "outputId": "95c3e78a-1164-4657-b8a9-6dbbcc8f7569"
      },
      "source": [
        "#abrindo dataset\n",
        "data = pd.read_csv(\"/content/drive/MyDrive/ML atividades /Dadasets/bank/bank-additional-full.csv\", sep =\";\")\n",
        "print(data.shape)\n",
        "#pre visualizaçao do dataset\n",
        "data.head(100)"
      ],
      "execution_count": 6,
      "outputs": [
        {
          "output_type": "stream",
          "name": "stdout",
          "text": [
            "(41188, 21)\n"
          ]
        },
        {
          "output_type": "execute_result",
          "data": {
            "text/html": [
              "<div>\n",
              "<style scoped>\n",
              "    .dataframe tbody tr th:only-of-type {\n",
              "        vertical-align: middle;\n",
              "    }\n",
              "\n",
              "    .dataframe tbody tr th {\n",
              "        vertical-align: top;\n",
              "    }\n",
              "\n",
              "    .dataframe thead th {\n",
              "        text-align: right;\n",
              "    }\n",
              "</style>\n",
              "<table border=\"1\" class=\"dataframe\">\n",
              "  <thead>\n",
              "    <tr style=\"text-align: right;\">\n",
              "      <th></th>\n",
              "      <th>age</th>\n",
              "      <th>job</th>\n",
              "      <th>marital</th>\n",
              "      <th>education</th>\n",
              "      <th>default</th>\n",
              "      <th>housing</th>\n",
              "      <th>loan</th>\n",
              "      <th>contact</th>\n",
              "      <th>month</th>\n",
              "      <th>day_of_week</th>\n",
              "      <th>duration</th>\n",
              "      <th>campaign</th>\n",
              "      <th>pdays</th>\n",
              "      <th>previous</th>\n",
              "      <th>poutcome</th>\n",
              "      <th>emp.var.rate</th>\n",
              "      <th>cons.price.idx</th>\n",
              "      <th>cons.conf.idx</th>\n",
              "      <th>euribor3m</th>\n",
              "      <th>nr.employed</th>\n",
              "      <th>y</th>\n",
              "    </tr>\n",
              "  </thead>\n",
              "  <tbody>\n",
              "    <tr>\n",
              "      <th>0</th>\n",
              "      <td>56</td>\n",
              "      <td>housemaid</td>\n",
              "      <td>married</td>\n",
              "      <td>basic.4y</td>\n",
              "      <td>no</td>\n",
              "      <td>no</td>\n",
              "      <td>no</td>\n",
              "      <td>telephone</td>\n",
              "      <td>may</td>\n",
              "      <td>mon</td>\n",
              "      <td>261</td>\n",
              "      <td>1</td>\n",
              "      <td>999</td>\n",
              "      <td>0</td>\n",
              "      <td>nonexistent</td>\n",
              "      <td>1.1</td>\n",
              "      <td>93.994</td>\n",
              "      <td>-36.4</td>\n",
              "      <td>4.857</td>\n",
              "      <td>5191.0</td>\n",
              "      <td>no</td>\n",
              "    </tr>\n",
              "    <tr>\n",
              "      <th>1</th>\n",
              "      <td>57</td>\n",
              "      <td>services</td>\n",
              "      <td>married</td>\n",
              "      <td>high.school</td>\n",
              "      <td>unknown</td>\n",
              "      <td>no</td>\n",
              "      <td>no</td>\n",
              "      <td>telephone</td>\n",
              "      <td>may</td>\n",
              "      <td>mon</td>\n",
              "      <td>149</td>\n",
              "      <td>1</td>\n",
              "      <td>999</td>\n",
              "      <td>0</td>\n",
              "      <td>nonexistent</td>\n",
              "      <td>1.1</td>\n",
              "      <td>93.994</td>\n",
              "      <td>-36.4</td>\n",
              "      <td>4.857</td>\n",
              "      <td>5191.0</td>\n",
              "      <td>no</td>\n",
              "    </tr>\n",
              "    <tr>\n",
              "      <th>2</th>\n",
              "      <td>37</td>\n",
              "      <td>services</td>\n",
              "      <td>married</td>\n",
              "      <td>high.school</td>\n",
              "      <td>no</td>\n",
              "      <td>yes</td>\n",
              "      <td>no</td>\n",
              "      <td>telephone</td>\n",
              "      <td>may</td>\n",
              "      <td>mon</td>\n",
              "      <td>226</td>\n",
              "      <td>1</td>\n",
              "      <td>999</td>\n",
              "      <td>0</td>\n",
              "      <td>nonexistent</td>\n",
              "      <td>1.1</td>\n",
              "      <td>93.994</td>\n",
              "      <td>-36.4</td>\n",
              "      <td>4.857</td>\n",
              "      <td>5191.0</td>\n",
              "      <td>no</td>\n",
              "    </tr>\n",
              "    <tr>\n",
              "      <th>3</th>\n",
              "      <td>40</td>\n",
              "      <td>admin.</td>\n",
              "      <td>married</td>\n",
              "      <td>basic.6y</td>\n",
              "      <td>no</td>\n",
              "      <td>no</td>\n",
              "      <td>no</td>\n",
              "      <td>telephone</td>\n",
              "      <td>may</td>\n",
              "      <td>mon</td>\n",
              "      <td>151</td>\n",
              "      <td>1</td>\n",
              "      <td>999</td>\n",
              "      <td>0</td>\n",
              "      <td>nonexistent</td>\n",
              "      <td>1.1</td>\n",
              "      <td>93.994</td>\n",
              "      <td>-36.4</td>\n",
              "      <td>4.857</td>\n",
              "      <td>5191.0</td>\n",
              "      <td>no</td>\n",
              "    </tr>\n",
              "    <tr>\n",
              "      <th>4</th>\n",
              "      <td>56</td>\n",
              "      <td>services</td>\n",
              "      <td>married</td>\n",
              "      <td>high.school</td>\n",
              "      <td>no</td>\n",
              "      <td>no</td>\n",
              "      <td>yes</td>\n",
              "      <td>telephone</td>\n",
              "      <td>may</td>\n",
              "      <td>mon</td>\n",
              "      <td>307</td>\n",
              "      <td>1</td>\n",
              "      <td>999</td>\n",
              "      <td>0</td>\n",
              "      <td>nonexistent</td>\n",
              "      <td>1.1</td>\n",
              "      <td>93.994</td>\n",
              "      <td>-36.4</td>\n",
              "      <td>4.857</td>\n",
              "      <td>5191.0</td>\n",
              "      <td>no</td>\n",
              "    </tr>\n",
              "    <tr>\n",
              "      <th>...</th>\n",
              "      <td>...</td>\n",
              "      <td>...</td>\n",
              "      <td>...</td>\n",
              "      <td>...</td>\n",
              "      <td>...</td>\n",
              "      <td>...</td>\n",
              "      <td>...</td>\n",
              "      <td>...</td>\n",
              "      <td>...</td>\n",
              "      <td>...</td>\n",
              "      <td>...</td>\n",
              "      <td>...</td>\n",
              "      <td>...</td>\n",
              "      <td>...</td>\n",
              "      <td>...</td>\n",
              "      <td>...</td>\n",
              "      <td>...</td>\n",
              "      <td>...</td>\n",
              "      <td>...</td>\n",
              "      <td>...</td>\n",
              "      <td>...</td>\n",
              "    </tr>\n",
              "    <tr>\n",
              "      <th>95</th>\n",
              "      <td>45</td>\n",
              "      <td>services</td>\n",
              "      <td>married</td>\n",
              "      <td>professional.course</td>\n",
              "      <td>no</td>\n",
              "      <td>yes</td>\n",
              "      <td>no</td>\n",
              "      <td>telephone</td>\n",
              "      <td>may</td>\n",
              "      <td>mon</td>\n",
              "      <td>221</td>\n",
              "      <td>1</td>\n",
              "      <td>999</td>\n",
              "      <td>0</td>\n",
              "      <td>nonexistent</td>\n",
              "      <td>1.1</td>\n",
              "      <td>93.994</td>\n",
              "      <td>-36.4</td>\n",
              "      <td>4.857</td>\n",
              "      <td>5191.0</td>\n",
              "      <td>no</td>\n",
              "    </tr>\n",
              "    <tr>\n",
              "      <th>96</th>\n",
              "      <td>42</td>\n",
              "      <td>management</td>\n",
              "      <td>married</td>\n",
              "      <td>university.degree</td>\n",
              "      <td>no</td>\n",
              "      <td>no</td>\n",
              "      <td>no</td>\n",
              "      <td>telephone</td>\n",
              "      <td>may</td>\n",
              "      <td>mon</td>\n",
              "      <td>426</td>\n",
              "      <td>1</td>\n",
              "      <td>999</td>\n",
              "      <td>0</td>\n",
              "      <td>nonexistent</td>\n",
              "      <td>1.1</td>\n",
              "      <td>93.994</td>\n",
              "      <td>-36.4</td>\n",
              "      <td>4.857</td>\n",
              "      <td>5191.0</td>\n",
              "      <td>no</td>\n",
              "    </tr>\n",
              "    <tr>\n",
              "      <th>97</th>\n",
              "      <td>53</td>\n",
              "      <td>admin.</td>\n",
              "      <td>divorced</td>\n",
              "      <td>university.degree</td>\n",
              "      <td>unknown</td>\n",
              "      <td>no</td>\n",
              "      <td>no</td>\n",
              "      <td>telephone</td>\n",
              "      <td>may</td>\n",
              "      <td>mon</td>\n",
              "      <td>287</td>\n",
              "      <td>1</td>\n",
              "      <td>999</td>\n",
              "      <td>0</td>\n",
              "      <td>nonexistent</td>\n",
              "      <td>1.1</td>\n",
              "      <td>93.994</td>\n",
              "      <td>-36.4</td>\n",
              "      <td>4.857</td>\n",
              "      <td>5191.0</td>\n",
              "      <td>no</td>\n",
              "    </tr>\n",
              "    <tr>\n",
              "      <th>98</th>\n",
              "      <td>37</td>\n",
              "      <td>technician</td>\n",
              "      <td>single</td>\n",
              "      <td>professional.course</td>\n",
              "      <td>no</td>\n",
              "      <td>no</td>\n",
              "      <td>no</td>\n",
              "      <td>telephone</td>\n",
              "      <td>may</td>\n",
              "      <td>mon</td>\n",
              "      <td>197</td>\n",
              "      <td>1</td>\n",
              "      <td>999</td>\n",
              "      <td>0</td>\n",
              "      <td>nonexistent</td>\n",
              "      <td>1.1</td>\n",
              "      <td>93.994</td>\n",
              "      <td>-36.4</td>\n",
              "      <td>4.857</td>\n",
              "      <td>5191.0</td>\n",
              "      <td>no</td>\n",
              "    </tr>\n",
              "    <tr>\n",
              "      <th>99</th>\n",
              "      <td>44</td>\n",
              "      <td>blue-collar</td>\n",
              "      <td>married</td>\n",
              "      <td>basic.6y</td>\n",
              "      <td>no</td>\n",
              "      <td>no</td>\n",
              "      <td>no</td>\n",
              "      <td>telephone</td>\n",
              "      <td>may</td>\n",
              "      <td>mon</td>\n",
              "      <td>257</td>\n",
              "      <td>1</td>\n",
              "      <td>999</td>\n",
              "      <td>0</td>\n",
              "      <td>nonexistent</td>\n",
              "      <td>1.1</td>\n",
              "      <td>93.994</td>\n",
              "      <td>-36.4</td>\n",
              "      <td>4.857</td>\n",
              "      <td>5191.0</td>\n",
              "      <td>no</td>\n",
              "    </tr>\n",
              "  </tbody>\n",
              "</table>\n",
              "<p>100 rows × 21 columns</p>\n",
              "</div>"
            ],
            "text/plain": [
              "    age          job   marital  ... euribor3m nr.employed   y\n",
              "0    56    housemaid   married  ...     4.857      5191.0  no\n",
              "1    57     services   married  ...     4.857      5191.0  no\n",
              "2    37     services   married  ...     4.857      5191.0  no\n",
              "3    40       admin.   married  ...     4.857      5191.0  no\n",
              "4    56     services   married  ...     4.857      5191.0  no\n",
              "..  ...          ...       ...  ...       ...         ...  ..\n",
              "95   45     services   married  ...     4.857      5191.0  no\n",
              "96   42   management   married  ...     4.857      5191.0  no\n",
              "97   53       admin.  divorced  ...     4.857      5191.0  no\n",
              "98   37   technician    single  ...     4.857      5191.0  no\n",
              "99   44  blue-collar   married  ...     4.857      5191.0  no\n",
              "\n",
              "[100 rows x 21 columns]"
            ]
          },
          "metadata": {},
          "execution_count": 6
        }
      ]
    },
    {
      "cell_type": "code",
      "metadata": {
        "id": "1WbjbpRA7-oI",
        "colab": {
          "base_uri": "https://localhost:8080/"
        },
        "outputId": "5b09af38-d4cf-4753-9f59-bc058abc9047"
      },
      "source": [
        "#informaçoes sobre os dados\n",
        "print(data.info())\n",
        "print(\"\\n ##########################################\\n\")\n",
        "#verificando de a dados faltantes\n",
        "print(data.isna().sum())"
      ],
      "execution_count": 7,
      "outputs": [
        {
          "output_type": "stream",
          "name": "stdout",
          "text": [
            "<class 'pandas.core.frame.DataFrame'>\n",
            "RangeIndex: 41188 entries, 0 to 41187\n",
            "Data columns (total 21 columns):\n",
            " #   Column          Non-Null Count  Dtype  \n",
            "---  ------          --------------  -----  \n",
            " 0   age             41188 non-null  int64  \n",
            " 1   job             41188 non-null  object \n",
            " 2   marital         41188 non-null  object \n",
            " 3   education       41188 non-null  object \n",
            " 4   default         41188 non-null  object \n",
            " 5   housing         41188 non-null  object \n",
            " 6   loan            41188 non-null  object \n",
            " 7   contact         41188 non-null  object \n",
            " 8   month           41188 non-null  object \n",
            " 9   day_of_week     41188 non-null  object \n",
            " 10  duration        41188 non-null  int64  \n",
            " 11  campaign        41188 non-null  int64  \n",
            " 12  pdays           41188 non-null  int64  \n",
            " 13  previous        41188 non-null  int64  \n",
            " 14  poutcome        41188 non-null  object \n",
            " 15  emp.var.rate    41188 non-null  float64\n",
            " 16  cons.price.idx  41188 non-null  float64\n",
            " 17  cons.conf.idx   41188 non-null  float64\n",
            " 18  euribor3m       41188 non-null  float64\n",
            " 19  nr.employed     41188 non-null  float64\n",
            " 20  y               41188 non-null  object \n",
            "dtypes: float64(5), int64(5), object(11)\n",
            "memory usage: 6.6+ MB\n",
            "None\n",
            "\n",
            " ##########################################\n",
            "\n",
            "age               0\n",
            "job               0\n",
            "marital           0\n",
            "education         0\n",
            "default           0\n",
            "housing           0\n",
            "loan              0\n",
            "contact           0\n",
            "month             0\n",
            "day_of_week       0\n",
            "duration          0\n",
            "campaign          0\n",
            "pdays             0\n",
            "previous          0\n",
            "poutcome          0\n",
            "emp.var.rate      0\n",
            "cons.price.idx    0\n",
            "cons.conf.idx     0\n",
            "euribor3m         0\n",
            "nr.employed       0\n",
            "y                 0\n",
            "dtype: int64\n"
          ]
        }
      ]
    },
    {
      "cell_type": "markdown",
      "metadata": {
        "id": "kRhwbK-92ICx"
      },
      "source": [
        "Tratando os dados Unknown"
      ]
    },
    {
      "cell_type": "code",
      "metadata": {
        "id": "UBeAY3EA1gRt"
      },
      "source": [
        "index_names = data[ (data['age'] == 'unknown')\n",
        "                | (data['job'] == 'unknown')\n",
        "                |(data['marital'] == 'unknown')\n",
        "                |(data['education'] == 'unknown')\n",
        "                |(data['default'] == 'unknown')\n",
        "                |(data['housing'] == 'unknown')\n",
        "                |(data['loan'] == 'unknown')\n",
        "                |(data['contact'] == 'unknown')\n",
        "                |(data['month'] == 'unknown')\n",
        "                |(data['day_of_week'] == 'unknown')\n",
        "                |(data['duration'] == 'unknown')\n",
        "                |(data['campaign'] == 'unknown')\n",
        "                |(data['pdays'] == 'unknown')\n",
        "                |(data['previous'] == 'unknown')\n",
        "                |(data['poutcome'] == 'unknown')\n",
        "                |(data['emp.var.rate'] == 'unknown')\n",
        "                |(data['cons.price.idx'] == 'unknown')\n",
        "                |(data['cons.conf.idx'] == 'unknown')\n",
        "                |(data['euribor3m'] == 'unknown')\n",
        "                |(data['y'] == 'unknown')].index\n",
        "\n",
        "\n",
        "data.drop(index_names, inplace=True)"
      ],
      "execution_count": 8,
      "outputs": []
    },
    {
      "cell_type": "code",
      "metadata": {
        "id": "v32H6XkT_Fau",
        "colab": {
          "base_uri": "https://localhost:8080/",
          "height": 435
        },
        "outputId": "f9364be4-778f-4968-ac72-89885ae493b9"
      },
      "source": [
        "#verificação do balanceamento das classe \n",
        "print(data.y.value_counts())\n",
        "print(\"\\nDepositos dentro do prazo {:.4f}% do dataset.\\n\".format((data[data.y == 'yes'].shape[0] / data.shape[0]) * 100))\n",
        " \n",
        "# plotar gráfico de barras para as Classes\n",
        "sns.countplot('y', data=data);\n"
      ],
      "execution_count": 9,
      "outputs": [
        {
          "output_type": "stream",
          "name": "stdout",
          "text": [
            "no     26629\n",
            "yes     3859\n",
            "Name: y, dtype: int64\n",
            "\n",
            "Depositos dentro do prazo 12.6574% do dataset.\n",
            "\n"
          ]
        },
        {
          "output_type": "stream",
          "name": "stderr",
          "text": [
            "/usr/local/lib/python3.7/dist-packages/seaborn/_decorators.py:43: FutureWarning: Pass the following variable as a keyword arg: x. From version 0.12, the only valid positional argument will be `data`, and passing other arguments without an explicit keyword will result in an error or misinterpretation.\n",
            "  FutureWarning\n"
          ]
        },
        {
          "output_type": "display_data",
          "data": {
            "image/png": "[encoded data removed]",
            "text/plain": [
              "<Figure size 432x288 with 1 Axes>"
            ]
          },
          "metadata": {
            "needs_background": "light"
          }
        }
      ]
    },
    {
      "cell_type": "markdown",
      "metadata": {
        "id": "_Sg8AAvdSUv2"
      },
      "source": [
        "#Transformando dados categoricos em numericos"
      ]
    },
    {
      "cell_type": "markdown",
      "metadata": {
        "id": "pavSUmhUSp_q"
      },
      "source": [
        "Transformando a coluna y (classe) em numerica"
      ]
    },
    {
      "cell_type": "code",
      "metadata": {
        "id": "1qtQ9QdDr97O"
      },
      "source": [
        "y_map = {\"no\": 0, \"yes\": 1}\n",
        "data['y'].replace(y_map, inplace= True)"
      ],
      "execution_count": 10,
      "outputs": []
    },
    {
      "cell_type": "markdown",
      "metadata": {
        "id": "d_0Mz9JqStrC"
      },
      "source": [
        "Transformando a coluna job para numerica "
      ]
    },
    {
      "cell_type": "code",
      "metadata": {
        "id": "ZPeIVdXOSarf"
      },
      "source": [
        "job_map = {\"admin.\": 0, \"blue-collar\": 1, \"technician\": 2, \"services\": 3, \"management\": 4,\"retired\": 5, \n",
        "           \"self-employed\": 6, \"entrepreneur\": 7, \"unemployed\": 8, \"housemaid\": 9, \"student\": 10}\n",
        "\n",
        "data['job'].replace(job_map, inplace= True)"
      ],
      "execution_count": 11,
      "outputs": []
    },
    {
      "cell_type": "markdown",
      "metadata": {
        "id": "ElvNv_-oUn1H"
      },
      "source": [
        "Transformando a coluna marital em numerica"
      ]
    },
    {
      "cell_type": "code",
      "metadata": {
        "id": "0MF4GN3-UwNy"
      },
      "source": [
        "marital_map = {\"married\": 0, \"single\": 1, \"divorced\": 2}\n",
        "data['marital'].replace(marital_map, inplace= True)"
      ],
      "execution_count": 12,
      "outputs": []
    },
    {
      "cell_type": "markdown",
      "metadata": {
        "id": "buUOHL9WVo1Y"
      },
      "source": [
        "Transformando a coluna education em numerica"
      ]
    },
    {
      "cell_type": "code",
      "metadata": {
        "id": "-qFbEB54VpnN"
      },
      "source": [
        "education_map = {\"illiterate\": 0, \"basic.6y\": 1, \"basic.4y\": 2, \"basic.9y\": 3, \n",
        "                 \"professional.course\": 4, \"high.school\": 5, \"university.degree\": 6}\n",
        "\n",
        "data['education'].replace(education_map, inplace= True)"
      ],
      "execution_count": 13,
      "outputs": []
    },
    {
      "cell_type": "markdown",
      "metadata": {
        "id": "Py1J7taRWox8"
      },
      "source": [
        "Transformando a coluna defaul em numerica"
      ]
    },
    {
      "cell_type": "code",
      "metadata": {
        "id": "41kEzaYcWxES"
      },
      "source": [
        "default_map = {\"no\": 0, \"yes\": 1}\n",
        "                 \n",
        "data['default'].replace(default_map, inplace= True)"
      ],
      "execution_count": 14,
      "outputs": []
    },
    {
      "cell_type": "markdown",
      "metadata": {
        "id": "2Jcc0Z8CXQCU"
      },
      "source": [
        "Transformando a coluna housing em numerica"
      ]
    },
    {
      "cell_type": "code",
      "metadata": {
        "id": "FxzDSemXXZA6"
      },
      "source": [
        "housing_map = {\"no\": 0, \"yes\": 1}\n",
        "                 \n",
        "data['housing'].replace(housing_map, inplace= True)"
      ],
      "execution_count": 15,
      "outputs": []
    },
    {
      "cell_type": "markdown",
      "metadata": {
        "id": "A43j_q28Xs0_"
      },
      "source": [
        "Transformando a coluna loan em numerica"
      ]
    },
    {
      "cell_type": "code",
      "metadata": {
        "id": "-QgQFZbqXvmT"
      },
      "source": [
        "loan_map = {\"no\": 0, \"yes\": 1}\n",
        "                 \n",
        "data['loan'].replace(loan_map, inplace= True)"
      ],
      "execution_count": 16,
      "outputs": []
    },
    {
      "cell_type": "markdown",
      "metadata": {
        "id": "A3vneHBdX6_S"
      },
      "source": [
        "Transformando a coluna contact em numerica"
      ]
    },
    {
      "cell_type": "code",
      "metadata": {
        "id": "DKSRkHOuYDdT"
      },
      "source": [
        "contact_map = {\"cellular\": 0, \"telephone\": 1}\n",
        "\n",
        "data['contact'].replace(contact_map, inplace= True)"
      ],
      "execution_count": 17,
      "outputs": []
    },
    {
      "cell_type": "markdown",
      "metadata": {
        "id": "VadBHMTOYefz"
      },
      "source": [
        "Transformando a coluna month em numerica "
      ]
    },
    {
      "cell_type": "code",
      "metadata": {
        "id": "uRIY0bUWYiSg"
      },
      "source": [
        "month_map = {\"mar\": 0, \"apr\": 1, \"may\": 2, \"jun\": 3, \"jul\": 4, \"aug\": 5, \"sep\": 6, \"oct\": 7, \"nov\": 8, \"dec\": 9}\n",
        "\n",
        "data['month'].replace(month_map, inplace= True)"
      ],
      "execution_count": 18,
      "outputs": []
    },
    {
      "cell_type": "markdown",
      "metadata": {
        "id": "PfainNKSZo8b"
      },
      "source": [
        "Transformando a coluna day_of_week em numerica"
      ]
    },
    {
      "cell_type": "code",
      "metadata": {
        "id": "HVB4Td8DZs7V"
      },
      "source": [
        "day_of_week_map = {\"mon\": 0, \"tue\": 1, \"wed\": 2, \"thu\":3 ,\"fri\": 4}\n",
        "\n",
        "data['day_of_week'].replace(day_of_week_map, inplace= True)"
      ],
      "execution_count": 19,
      "outputs": []
    },
    {
      "cell_type": "markdown",
      "metadata": {
        "id": "EVa1yuYKaWjA"
      },
      "source": [
        "Transformando a coluna poutcome em numerica "
      ]
    },
    {
      "cell_type": "code",
      "metadata": {
        "id": "ndsVnmh-aa4y"
      },
      "source": [
        "poutcome_map = {\"nonexistent\": 0, \"failure\": 1, \"success\": 2}\n",
        "\n",
        "data['poutcome'].replace(poutcome_map, inplace= True)"
      ],
      "execution_count": 20,
      "outputs": []
    },
    {
      "cell_type": "code",
      "metadata": {
        "id": "k_feLg1ZbVtx",
        "colab": {
          "base_uri": "https://localhost:8080/",
          "height": 932
        },
        "outputId": "48b0030a-ba44-46a7-ac99-84637b800d25"
      },
      "source": [
        "#new dataset\n",
        "print(data.info())\n",
        "\n",
        "data"
      ],
      "execution_count": 21,
      "outputs": [
        {
          "output_type": "stream",
          "name": "stdout",
          "text": [
            "<class 'pandas.core.frame.DataFrame'>\n",
            "Int64Index: 30488 entries, 0 to 41187\n",
            "Data columns (total 21 columns):\n",
            " #   Column          Non-Null Count  Dtype  \n",
            "---  ------          --------------  -----  \n",
            " 0   age             30488 non-null  int64  \n",
            " 1   job             30488 non-null  int64  \n",
            " 2   marital         30488 non-null  int64  \n",
            " 3   education       30488 non-null  int64  \n",
            " 4   default         30488 non-null  int64  \n",
            " 5   housing         30488 non-null  int64  \n",
            " 6   loan            30488 non-null  int64  \n",
            " 7   contact         30488 non-null  int64  \n",
            " 8   month           30488 non-null  int64  \n",
            " 9   day_of_week     30488 non-null  int64  \n",
            " 10  duration        30488 non-null  int64  \n",
            " 11  campaign        30488 non-null  int64  \n",
            " 12  pdays           30488 non-null  int64  \n",
            " 13  previous        30488 non-null  int64  \n",
            " 14  poutcome        30488 non-null  int64  \n",
            " 15  emp.var.rate    30488 non-null  float64\n",
            " 16  cons.price.idx  30488 non-null  float64\n",
            " 17  cons.conf.idx   30488 non-null  float64\n",
            " 18  euribor3m       30488 non-null  float64\n",
            " 19  nr.employed     30488 non-null  float64\n",
            " 20  y               30488 non-null  int64  \n",
            "dtypes: float64(5), int64(16)\n",
            "memory usage: 6.4 MB\n",
            "None\n"
          ]
        },
        {
          "output_type": "execute_result",
          "data": {
            "text/html": [
              "<div>\n",
              "<style scoped>\n",
              "    .dataframe tbody tr th:only-of-type {\n",
              "        vertical-align: middle;\n",
              "    }\n",
              "\n",
              "    .dataframe tbody tr th {\n",
              "        vertical-align: top;\n",
              "    }\n",
              "\n",
              "    .dataframe thead th {\n",
              "        text-align: right;\n",
              "    }\n",
              "</style>\n",
              "<table border=\"1\" class=\"dataframe\">\n",
              "  <thead>\n",
              "    <tr style=\"text-align: right;\">\n",
              "      <th></th>\n",
              "      <th>age</th>\n",
              "      <th>job</th>\n",
              "      <th>marital</th>\n",
              "      <th>education</th>\n",
              "      <th>default</th>\n",
              "      <th>housing</th>\n",
              "      <th>loan</th>\n",
              "      <th>contact</th>\n",
              "      <th>month</th>\n",
              "      <th>day_of_week</th>\n",
              "      <th>duration</th>\n",
              "      <th>campaign</th>\n",
              "      <th>pdays</th>\n",
              "      <th>previous</th>\n",
              "      <th>poutcome</th>\n",
              "      <th>emp.var.rate</th>\n",
              "      <th>cons.price.idx</th>\n",
              "      <th>cons.conf.idx</th>\n",
              "      <th>euribor3m</th>\n",
              "      <th>nr.employed</th>\n",
              "      <th>y</th>\n",
              "    </tr>\n",
              "  </thead>\n",
              "  <tbody>\n",
              "    <tr>\n",
              "      <th>0</th>\n",
              "      <td>56</td>\n",
              "      <td>9</td>\n",
              "      <td>0</td>\n",
              "      <td>2</td>\n",
              "      <td>0</td>\n",
              "      <td>0</td>\n",
              "      <td>0</td>\n",
              "      <td>1</td>\n",
              "      <td>2</td>\n",
              "      <td>0</td>\n",
              "      <td>261</td>\n",
              "      <td>1</td>\n",
              "      <td>999</td>\n",
              "      <td>0</td>\n",
              "      <td>0</td>\n",
              "      <td>1.1</td>\n",
              "      <td>93.994</td>\n",
              "      <td>-36.4</td>\n",
              "      <td>4.857</td>\n",
              "      <td>5191.0</td>\n",
              "      <td>0</td>\n",
              "    </tr>\n",
              "    <tr>\n",
              "      <th>2</th>\n",
              "      <td>37</td>\n",
              "      <td>3</td>\n",
              "      <td>0</td>\n",
              "      <td>5</td>\n",
              "      <td>0</td>\n",
              "      <td>1</td>\n",
              "      <td>0</td>\n",
              "      <td>1</td>\n",
              "      <td>2</td>\n",
              "      <td>0</td>\n",
              "      <td>226</td>\n",
              "      <td>1</td>\n",
              "      <td>999</td>\n",
              "      <td>0</td>\n",
              "      <td>0</td>\n",
              "      <td>1.1</td>\n",
              "      <td>93.994</td>\n",
              "      <td>-36.4</td>\n",
              "      <td>4.857</td>\n",
              "      <td>5191.0</td>\n",
              "      <td>0</td>\n",
              "    </tr>\n",
              "    <tr>\n",
              "      <th>3</th>\n",
              "      <td>40</td>\n",
              "      <td>0</td>\n",
              "      <td>0</td>\n",
              "      <td>1</td>\n",
              "      <td>0</td>\n",
              "      <td>0</td>\n",
              "      <td>0</td>\n",
              "      <td>1</td>\n",
              "      <td>2</td>\n",
              "      <td>0</td>\n",
              "      <td>151</td>\n",
              "      <td>1</td>\n",
              "      <td>999</td>\n",
              "      <td>0</td>\n",
              "      <td>0</td>\n",
              "      <td>1.1</td>\n",
              "      <td>93.994</td>\n",
              "      <td>-36.4</td>\n",
              "      <td>4.857</td>\n",
              "      <td>5191.0</td>\n",
              "      <td>0</td>\n",
              "    </tr>\n",
              "    <tr>\n",
              "      <th>4</th>\n",
              "      <td>56</td>\n",
              "      <td>3</td>\n",
              "      <td>0</td>\n",
              "      <td>5</td>\n",
              "      <td>0</td>\n",
              "      <td>0</td>\n",
              "      <td>1</td>\n",
              "      <td>1</td>\n",
              "      <td>2</td>\n",
              "      <td>0</td>\n",
              "      <td>307</td>\n",
              "      <td>1</td>\n",
              "      <td>999</td>\n",
              "      <td>0</td>\n",
              "      <td>0</td>\n",
              "      <td>1.1</td>\n",
              "      <td>93.994</td>\n",
              "      <td>-36.4</td>\n",
              "      <td>4.857</td>\n",
              "      <td>5191.0</td>\n",
              "      <td>0</td>\n",
              "    </tr>\n",
              "    <tr>\n",
              "      <th>6</th>\n",
              "      <td>59</td>\n",
              "      <td>0</td>\n",
              "      <td>0</td>\n",
              "      <td>4</td>\n",
              "      <td>0</td>\n",
              "      <td>0</td>\n",
              "      <td>0</td>\n",
              "      <td>1</td>\n",
              "      <td>2</td>\n",
              "      <td>0</td>\n",
              "      <td>139</td>\n",
              "      <td>1</td>\n",
              "      <td>999</td>\n",
              "      <td>0</td>\n",
              "      <td>0</td>\n",
              "      <td>1.1</td>\n",
              "      <td>93.994</td>\n",
              "      <td>-36.4</td>\n",
              "      <td>4.857</td>\n",
              "      <td>5191.0</td>\n",
              "      <td>0</td>\n",
              "    </tr>\n",
              "    <tr>\n",
              "      <th>...</th>\n",
              "      <td>...</td>\n",
              "      <td>...</td>\n",
              "      <td>...</td>\n",
              "      <td>...</td>\n",
              "      <td>...</td>\n",
              "      <td>...</td>\n",
              "      <td>...</td>\n",
              "      <td>...</td>\n",
              "      <td>...</td>\n",
              "      <td>...</td>\n",
              "      <td>...</td>\n",
              "      <td>...</td>\n",
              "      <td>...</td>\n",
              "      <td>...</td>\n",
              "      <td>...</td>\n",
              "      <td>...</td>\n",
              "      <td>...</td>\n",
              "      <td>...</td>\n",
              "      <td>...</td>\n",
              "      <td>...</td>\n",
              "      <td>...</td>\n",
              "    </tr>\n",
              "    <tr>\n",
              "      <th>41183</th>\n",
              "      <td>73</td>\n",
              "      <td>5</td>\n",
              "      <td>0</td>\n",
              "      <td>4</td>\n",
              "      <td>0</td>\n",
              "      <td>1</td>\n",
              "      <td>0</td>\n",
              "      <td>0</td>\n",
              "      <td>8</td>\n",
              "      <td>4</td>\n",
              "      <td>334</td>\n",
              "      <td>1</td>\n",
              "      <td>999</td>\n",
              "      <td>0</td>\n",
              "      <td>0</td>\n",
              "      <td>-1.1</td>\n",
              "      <td>94.767</td>\n",
              "      <td>-50.8</td>\n",
              "      <td>1.028</td>\n",
              "      <td>4963.6</td>\n",
              "      <td>1</td>\n",
              "    </tr>\n",
              "    <tr>\n",
              "      <th>41184</th>\n",
              "      <td>46</td>\n",
              "      <td>1</td>\n",
              "      <td>0</td>\n",
              "      <td>4</td>\n",
              "      <td>0</td>\n",
              "      <td>0</td>\n",
              "      <td>0</td>\n",
              "      <td>0</td>\n",
              "      <td>8</td>\n",
              "      <td>4</td>\n",
              "      <td>383</td>\n",
              "      <td>1</td>\n",
              "      <td>999</td>\n",
              "      <td>0</td>\n",
              "      <td>0</td>\n",
              "      <td>-1.1</td>\n",
              "      <td>94.767</td>\n",
              "      <td>-50.8</td>\n",
              "      <td>1.028</td>\n",
              "      <td>4963.6</td>\n",
              "      <td>0</td>\n",
              "    </tr>\n",
              "    <tr>\n",
              "      <th>41185</th>\n",
              "      <td>56</td>\n",
              "      <td>5</td>\n",
              "      <td>0</td>\n",
              "      <td>6</td>\n",
              "      <td>0</td>\n",
              "      <td>1</td>\n",
              "      <td>0</td>\n",
              "      <td>0</td>\n",
              "      <td>8</td>\n",
              "      <td>4</td>\n",
              "      <td>189</td>\n",
              "      <td>2</td>\n",
              "      <td>999</td>\n",
              "      <td>0</td>\n",
              "      <td>0</td>\n",
              "      <td>-1.1</td>\n",
              "      <td>94.767</td>\n",
              "      <td>-50.8</td>\n",
              "      <td>1.028</td>\n",
              "      <td>4963.6</td>\n",
              "      <td>0</td>\n",
              "    </tr>\n",
              "    <tr>\n",
              "      <th>41186</th>\n",
              "      <td>44</td>\n",
              "      <td>2</td>\n",
              "      <td>0</td>\n",
              "      <td>4</td>\n",
              "      <td>0</td>\n",
              "      <td>0</td>\n",
              "      <td>0</td>\n",
              "      <td>0</td>\n",
              "      <td>8</td>\n",
              "      <td>4</td>\n",
              "      <td>442</td>\n",
              "      <td>1</td>\n",
              "      <td>999</td>\n",
              "      <td>0</td>\n",
              "      <td>0</td>\n",
              "      <td>-1.1</td>\n",
              "      <td>94.767</td>\n",
              "      <td>-50.8</td>\n",
              "      <td>1.028</td>\n",
              "      <td>4963.6</td>\n",
              "      <td>1</td>\n",
              "    </tr>\n",
              "    <tr>\n",
              "      <th>41187</th>\n",
              "      <td>74</td>\n",
              "      <td>5</td>\n",
              "      <td>0</td>\n",
              "      <td>4</td>\n",
              "      <td>0</td>\n",
              "      <td>1</td>\n",
              "      <td>0</td>\n",
              "      <td>0</td>\n",
              "      <td>8</td>\n",
              "      <td>4</td>\n",
              "      <td>239</td>\n",
              "      <td>3</td>\n",
              "      <td>999</td>\n",
              "      <td>1</td>\n",
              "      <td>1</td>\n",
              "      <td>-1.1</td>\n",
              "      <td>94.767</td>\n",
              "      <td>-50.8</td>\n",
              "      <td>1.028</td>\n",
              "      <td>4963.6</td>\n",
              "      <td>0</td>\n",
              "    </tr>\n",
              "  </tbody>\n",
              "</table>\n",
              "<p>30488 rows × 21 columns</p>\n",
              "</div>"
            ],
            "text/plain": [
              "       age  job  marital  education  ...  cons.conf.idx  euribor3m  nr.employed  y\n",
              "0       56    9        0          2  ...          -36.4      4.857       5191.0  0\n",
              "2       37    3        0          5  ...          -36.4      4.857       5191.0  0\n",
              "3       40    0        0          1  ...          -36.4      4.857       5191.0  0\n",
              "4       56    3        0          5  ...          -36.4      4.857       5191.0  0\n",
              "6       59    0        0          4  ...          -36.4      4.857       5191.0  0\n",
              "...    ...  ...      ...        ...  ...            ...        ...          ... ..\n",
              "41183   73    5        0          4  ...          -50.8      1.028       4963.6  1\n",
              "41184   46    1        0          4  ...          -50.8      1.028       4963.6  0\n",
              "41185   56    5        0          6  ...          -50.8      1.028       4963.6  0\n",
              "41186   44    2        0          4  ...          -50.8      1.028       4963.6  1\n",
              "41187   74    5        0          4  ...          -50.8      1.028       4963.6  0\n",
              "\n",
              "[30488 rows x 21 columns]"
            ]
          },
          "metadata": {},
          "execution_count": 21
        }
      ]
    },
    {
      "cell_type": "code",
      "metadata": {
        "id": "YOuF1KfRJjP6"
      },
      "source": [
        "#separando as amostras da classe do dataset\n",
        "X = data.iloc[:,:20].values \n",
        "y = data.iloc[:,20].values\n"
      ],
      "execution_count": 22,
      "outputs": []
    },
    {
      "cell_type": "markdown",
      "metadata": {
        "id": "KKccLJv38Cp5"
      },
      "source": [
        "##Medindo o melhor algoritmo para treinamento usando validação cruzada k-fold "
      ]
    },
    {
      "cell_type": "markdown",
      "metadata": {
        "id": "gze9w8Mb5jF4"
      },
      "source": [
        " Algoritmos utilizados (kNN, SVM, Árvore de Decisão, Random Forest, Gradient Boosting e Redes Neurais)"
      ]
    },
    {
      "cell_type": "code",
      "metadata": {
        "id": "6sR2uexi1Ebj"
      },
      "source": [
        "Colunas_result = [\n",
        "    'algoritmo',\n",
        "    'parametros',\n",
        "    'F1_score', \n",
        "]\n",
        "\n",
        "dataframe_grid = pd.DataFrame(columns= Colunas_result) #dataframe para guarda os valores dos grids\n",
        "\n",
        "\n",
        "#instanciando o 5-fold's\n",
        "kfold = KFold(n_splits=5, shuffle=True, random_state=42)\n"
      ],
      "execution_count": 23,
      "outputs": []
    },
    {
      "cell_type": "markdown",
      "metadata": {
        "id": "vVUldxO-_VhX"
      },
      "source": [
        "##Pipeline e Gridsearch KNN"
      ]
    },
    {
      "cell_type": "code",
      "metadata": {
        "id": "_1v-Rw8VnvMe",
        "colab": {
          "base_uri": "https://localhost:8080/"
        },
        "outputId": "19d51140-2532-46b6-eee2-475b3f3a68ed"
      },
      "source": [
        "#criando o pipeline para KNN\n",
        "model_knn = Pipeline(steps=[('scaler_normalize', preprocessing.MinMaxScaler()),\n",
        "                        ('std_scaler', preprocessing.StandardScaler()),\n",
        "                       ('classifier', KNeighborsClassifier())\n",
        "])\n",
        "\n",
        "model_knn.get_params().keys()\n"
      ],
      "execution_count": 24,
      "outputs": [
        {
          "output_type": "execute_result",
          "data": {
            "text/plain": [
              "dict_keys(['memory', 'steps', 'verbose', 'scaler_normalize', 'std_scaler', 'classifier', 'scaler_normalize__copy', 'scaler_normalize__feature_range', 'std_scaler__copy', 'std_scaler__with_mean', 'std_scaler__with_std', 'classifier__algorithm', 'classifier__leaf_size', 'classifier__metric', 'classifier__metric_params', 'classifier__n_jobs', 'classifier__n_neighbors', 'classifier__p', 'classifier__weights'])"
            ]
          },
          "metadata": {},
          "execution_count": 24
        }
      ]
    },
    {
      "cell_type": "code",
      "metadata": {
        "id": "afmDUYWn7jqD",
        "colab": {
          "base_uri": "https://localhost:8080/"
        },
        "outputId": "e4edd6fa-7294-4367-ed21-11243d436aaf"
      },
      "source": [
        "#paramentros do knn para gridsearch\n",
        "parameters_knn = {'classifier__n_neighbors': [1,3,5,7], \n",
        "                  'classifier__algorithm': ['auto' , 'ball_tree', 'kd_tree', 'brute'],\n",
        "                  'classifier__weights': ['uniform' , 'distance'],\n",
        "                  'classifier__metric': ['euclidean' , 'manhattan']}\n",
        "\n",
        "#instanciando o gridsearch\n",
        "grid = GridSearchCV(model_knn, param_grid= parameters_knn ,cv=kfold, n_jobs=-1, scoring= 'f1', return_train_score=False)\n",
        "grid.fit(X, y)\n",
        "\n",
        "# qual o melhor combinação\n",
        "print(grid.best_estimator_)\n",
        "#melhor f1\n",
        "print(grid.best_score_)"
      ],
      "execution_count": 25,
      "outputs": [
        {
          "output_type": "stream",
          "name": "stderr",
          "text": [
            "/usr/local/lib/python3.7/dist-packages/joblib/externals/loky/process_executor.py:691: UserWarning: A worker stopped while some jobs were given to the executor. This can be caused by a too short worker timeout or by a memory leak.\n",
            "  \"timeout or by a memory leak.\", UserWarning\n"
          ]
        },
        {
          "output_type": "stream",
          "name": "stdout",
          "text": [
            "Pipeline(memory=None,\n",
            "         steps=[('scaler_normalize',\n",
            "                 MinMaxScaler(copy=True, feature_range=(0, 1))),\n",
            "                ('std_scaler',\n",
            "                 StandardScaler(copy=True, with_mean=True, with_std=True)),\n",
            "                ('classifier',\n",
            "                 KNeighborsClassifier(algorithm='auto', leaf_size=30,\n",
            "                                      metric='euclidean', metric_params=None,\n",
            "                                      n_jobs=None, n_neighbors=7, p=2,\n",
            "                                      weights='distance'))],\n",
            "         verbose=False)\n",
            "0.4876165010783334\n"
          ]
        }
      ]
    },
    {
      "cell_type": "code",
      "metadata": {
        "id": "zoAptE0aRClp",
        "colab": {
          "base_uri": "https://localhost:8080/",
          "height": 80
        },
        "outputId": "8720aab1-7add-469d-b13a-bf393c12d877"
      },
      "source": [
        "#adicionando resultados na dataframe\n",
        "dataframe_grid.loc[len(dataframe_grid)] = 'KNN' ,grid.best_params_ ,grid.best_score_\n",
        "\n",
        "dataframe_grid"
      ],
      "execution_count": 26,
      "outputs": [
        {
          "output_type": "execute_result",
          "data": {
            "text/html": [
              "<div>\n",
              "<style scoped>\n",
              "    .dataframe tbody tr th:only-of-type {\n",
              "        vertical-align: middle;\n",
              "    }\n",
              "\n",
              "    .dataframe tbody tr th {\n",
              "        vertical-align: top;\n",
              "    }\n",
              "\n",
              "    .dataframe thead th {\n",
              "        text-align: right;\n",
              "    }\n",
              "</style>\n",
              "<table border=\"1\" class=\"dataframe\">\n",
              "  <thead>\n",
              "    <tr style=\"text-align: right;\">\n",
              "      <th></th>\n",
              "      <th>algoritmo</th>\n",
              "      <th>parametros</th>\n",
              "      <th>F1_score</th>\n",
              "    </tr>\n",
              "  </thead>\n",
              "  <tbody>\n",
              "    <tr>\n",
              "      <th>0</th>\n",
              "      <td>KNN</td>\n",
              "      <td>{'classifier__algorithm': 'auto', 'classifier_...</td>\n",
              "      <td>0.487617</td>\n",
              "    </tr>\n",
              "  </tbody>\n",
              "</table>\n",
              "</div>"
            ],
            "text/plain": [
              "  algoritmo                                         parametros  F1_score\n",
              "0       KNN  {'classifier__algorithm': 'auto', 'classifier_...  0.487617"
            ]
          },
          "metadata": {},
          "execution_count": 26
        }
      ]
    },
    {
      "cell_type": "markdown",
      "metadata": {
        "id": "OMD6vN1wGBe6"
      },
      "source": [
        "##Pipeline e Gridsearch SVM\n",
        "\n",
        "\n"
      ]
    },
    {
      "cell_type": "code",
      "metadata": {
        "id": "YNCNnrtgGARB",
        "colab": {
          "base_uri": "https://localhost:8080/"
        },
        "outputId": "ae7a742d-bc2b-43da-b378-0c6a71633020"
      },
      "source": [
        "#criando o pipeline para SVM\n",
        "model_svm = Pipeline(steps=[('scaler_normalize', preprocessing.MinMaxScaler()), \n",
        "                       ('std_scaler', preprocessing.StandardScaler()),\n",
        "                       ('classifier', svm.SVC(random_state=42))\n",
        "])\n",
        "\n",
        "model_svm.get_params().keys()"
      ],
      "execution_count": 27,
      "outputs": [
        {
          "output_type": "execute_result",
          "data": {
            "text/plain": [
              "dict_keys(['memory', 'steps', 'verbose', 'scaler_normalize', 'std_scaler', 'classifier', 'scaler_normalize__copy', 'scaler_normalize__feature_range', 'std_scaler__copy', 'std_scaler__with_mean', 'std_scaler__with_std', 'classifier__C', 'classifier__break_ties', 'classifier__cache_size', 'classifier__class_weight', 'classifier__coef0', 'classifier__decision_function_shape', 'classifier__degree', 'classifier__gamma', 'classifier__kernel', 'classifier__max_iter', 'classifier__probability', 'classifier__random_state', 'classifier__shrinking', 'classifier__tol', 'classifier__verbose'])"
            ]
          },
          "metadata": {},
          "execution_count": 27
        }
      ]
    },
    {
      "cell_type": "code",
      "metadata": {
        "id": "hsxP91f8Gn25"
      },
      "source": [
        "#paramentros do svm para gridsearch\n",
        "parameters_svm = {            \n",
        "             'classifier__C': np.logspace(0,4,10),\n",
        "             'classifier__kernel': ['rbf'],\n",
        "             'classifier__gamma': ['scale', 'auto'],\n",
        "             'classifier__max_iter': [-1,10,100]}\n",
        "\n",
        "#instanciando o gridsearch\n",
        "grid = GridSearchCV(model_svm, param_grid= parameters_svm ,cv=kfold, n_jobs=-1, scoring= 'f1', return_train_score=False)\n",
        "grid.fit(X, y)\n",
        "\n",
        "# qual o melhor combinação\n",
        "print(grid.best_estimator_)\n",
        "#melhor f1\n",
        "print(grid.best_score_)"
      ],
      "execution_count": null,
      "outputs": []
    },
    {
      "cell_type": "code",
      "metadata": {
        "id": "RpucM_G3V5c-"
      },
      "source": [
        "#adicionando resultados na dataframe\n",
        "dataframe_grid.loc[len(dataframe_grid)] = 'SVM' ,grid.best_params_ ,grid.best_score_\n",
        "\n",
        "dataframe_grid"
      ],
      "execution_count": null,
      "outputs": []
    },
    {
      "cell_type": "markdown",
      "metadata": {
        "id": "UwpB4J4oHy4r"
      },
      "source": [
        "##Pipeline e Gridseach Árvore de Decisão\n",
        "\n"
      ]
    },
    {
      "cell_type": "code",
      "metadata": {
        "id": "IovSZJnyyKcl"
      },
      "source": [
        "#criando o pipeline para decisiontree\n",
        "model_decisiontree = Pipeline(steps=[('scaler_normalize', preprocessing.MinMaxScaler()), \n",
        "                       ('std_scaler', preprocessing.StandardScaler()),\n",
        "                       ('classifier', DecisionTreeClassifier())\n",
        "])\n",
        "\n",
        "model_decisiontree.get_params().keys()"
      ],
      "execution_count": null,
      "outputs": []
    },
    {
      "cell_type": "code",
      "metadata": {
        "id": "5Eep1wGMJw_o"
      },
      "source": [
        "#paramentros do grid para decisiontree\n",
        "parameters_decisiontree = {     \n",
        "             'classifier__criterion' : ['gini', 'entropy'],\n",
        "             'classifier__max_depth' : [2,4,6,8,10,12]\n",
        "             }\n",
        "\n",
        "#instanciando o gridsearch\n",
        "grid = GridSearchCV(model_decisiontree, param_grid= parameters_decisiontree ,cv=kfold, n_jobs=-1, scoring= 'f1', return_train_score=False)\n",
        "grid.fit(X, y)\n",
        "\n",
        "# qual o melhor combinação\n",
        "print(grid.best_estimator_)\n",
        "#melhor f1\n",
        "print(grid.best_score_)"
      ],
      "execution_count": null,
      "outputs": []
    },
    {
      "cell_type": "code",
      "metadata": {
        "id": "YXpCO_gEZhBU"
      },
      "source": [
        "#adicionando resultados na dataframe\n",
        "dataframe_grid.loc[len(dataframe_grid)] = 'Arvore de decisão' ,grid.best_params_ ,grid.best_score_\n",
        "\n",
        "dataframe_grid"
      ],
      "execution_count": null,
      "outputs": []
    },
    {
      "cell_type": "markdown",
      "metadata": {
        "id": "HrALTXrsK5YD"
      },
      "source": [
        "##Pipeline e Gridseach Random Forest\n"
      ]
    },
    {
      "cell_type": "code",
      "metadata": {
        "id": "WjB5b3aIVPzV"
      },
      "source": [
        "#criando o pipeline para Random forest\n",
        "model_rf = Pipeline(steps=[('scaler_normalize', preprocessing.MinMaxScaler()), \n",
        "                       ('std_scaler', preprocessing.StandardScaler()),\n",
        "                       ('classifier', RandomForestClassifier(random_state=42))\n",
        "])\n",
        "\n",
        "model_rf.get_params().keys()"
      ],
      "execution_count": null,
      "outputs": []
    },
    {
      "cell_type": "code",
      "metadata": {
        "id": "bdXxqk-VLntR"
      },
      "source": [
        "#parametros para grid_seach Random forest\n",
        "parameters_rf = { \n",
        "    'classifier__n_estimators': [200, 500],\n",
        "    'classifier__max_features': ['auto', 'sqrt', 'log2'],\n",
        "    'classifier__max_depth' : [4,5,6,7,8],\n",
        "    'classifier__criterion' :['gini', 'entropy']\n",
        "}\n",
        "\n",
        "grid = GridSearchCV(model_rf, param_grid= parameters_rf ,cv=kfold, n_jobs=-1, scoring= 'f1', return_train_score=False)\n",
        "grid.fit(X, y)\n",
        "\n",
        "# qual o melhor combinação\n",
        "print(grid.best_estimator_)\n",
        "#melhor f1\n",
        "print(grid.best_score_)"
      ],
      "execution_count": null,
      "outputs": []
    },
    {
      "cell_type": "code",
      "metadata": {
        "id": "uN_mP9FzZiQV"
      },
      "source": [
        "#adicionando resultados na dataframe\n",
        "dataframe_grid.loc[len(dataframe_grid)] = 'Random forest' ,grid.best_params_ ,grid.best_score_\n",
        "\n",
        "dataframe_grid"
      ],
      "execution_count": null,
      "outputs": []
    },
    {
      "cell_type": "markdown",
      "metadata": {
        "id": "Zs92AZ0LNvXN"
      },
      "source": [
        "##Pipeline e Gridseach Gradient Boosting\n",
        "\n",
        "\n",
        "\n"
      ]
    },
    {
      "cell_type": "code",
      "metadata": {
        "id": "1es_oZhCVnQw"
      },
      "source": [
        "#criando o pipeline para Gradient Boosting\n",
        "model_GB = Pipeline(steps=[('std_scaler', preprocessing.StandardScaler()),\n",
        "                       ('classifier', GradientBoostingClassifier())\n",
        "])\n",
        "\n",
        "model_GB.get_params().keys()"
      ],
      "execution_count": null,
      "outputs": []
    },
    {
      "cell_type": "code",
      "metadata": {
        "id": "Eu7P7lYbQLS9"
      },
      "source": [
        "model_GB =GradientBoostingClassifier()\n",
        "\n",
        "#parametros para grid_seach gradient boosting\n",
        "parameters_GB = {\n",
        "    \"learning_rate\": [0.01, 0.025, 0.05],\n",
        "    \"max_depth\":[3,4,5],\n",
        "    \"max_features\":[\"log2\"],\n",
        "    \"criterion\": [\"mae\"],\n",
        "    }\n",
        "\n",
        "grid = GridSearchCV(model_GB, param_grid= parameters_GB ,cv=kfold, n_jobs=-1, scoring= 'f1', return_train_score=False)\n",
        "grid.fit(X, y)\n",
        "\n",
        "# qual o melhor combinação\n",
        "print(grid.best_estimator_)\n",
        "#melhor f1\n",
        "print(grid.best_score_)\n"
      ],
      "execution_count": null,
      "outputs": []
    },
    {
      "cell_type": "code",
      "metadata": {
        "id": "6AehXKbvZjTQ"
      },
      "source": [
        "#adicionando resultados na dataframe\n",
        "dataframe_grid.loc[len(dataframe_grid)] = 'Gradient boosting' ,grid.best_params_ ,grid.best_score_\n",
        "\n",
        "dataframe_grid"
      ],
      "execution_count": null,
      "outputs": []
    },
    {
      "cell_type": "markdown",
      "metadata": {
        "id": "4tRmZ3AuUYug"
      },
      "source": [
        "##Pipeline e Gridseach Rede Neural\n"
      ]
    },
    {
      "cell_type": "code",
      "metadata": {
        "id": "X6obCVlmWjMb"
      },
      "source": [
        "#criando o pipeline para Rede Neural\n",
        "model_RN = Pipeline(steps=[ ('std_scaler', preprocessing.StandardScaler()),\n",
        "                       ('classifier',MLPClassifier())\n",
        "])\n",
        "\n",
        "model_RN.get_params().keys()"
      ],
      "execution_count": null,
      "outputs": []
    },
    {
      "cell_type": "code",
      "metadata": {
        "id": "sFKOeMzJUYW3"
      },
      "source": [
        "model_RN = MLPClassifier()\n",
        "\n",
        "parameters_RN = {\n",
        "    'solver': ['lbfgs'],\n",
        "    'max_iter': [500,1000],\n",
        "    'alpha': 10.0 ** -np.arange(1, 7), #valores de alpha 1.e-01, 1.e-02, 1.e-03, 1.e-04, 1.e-05, 1.e-06])\n",
        "    'hidden_layer_sizes':np.arange(5, 9),\n",
        "    'random_state':[3,4,5,6]\n",
        "  }\n",
        "  \n",
        "grid = GridSearchCV(model_RN, param_grid= parameters_RN ,cv=kfold, n_jobs=-1, scoring= 'f1', return_train_score=False)\n",
        "grid.fit(X,y)\n",
        "\n",
        "# qual o melhor combinação\n",
        "print(grid.best_estimator_)\n",
        "#melhor f1\n",
        "print(grid.best_score_)\n"
      ],
      "execution_count": null,
      "outputs": []
    },
    {
      "cell_type": "code",
      "metadata": {
        "id": "5-M36nIsZkZr"
      },
      "source": [
        "#adicionando resultados na dataframe\n",
        "dataframe_grid.loc[len(dataframe_grid)] = 'Rede Neural' ,grid.best_params_ ,grid.best_score_\n",
        "\n",
        "dataframe_grid"
      ],
      "execution_count": null,
      "outputs": []
    },
    {
      "cell_type": "markdown",
      "metadata": {
        "id": "BUFORizMPugC"
      },
      "source": [
        "##Avaliando melhor modelo"
      ]
    },
    {
      "cell_type": "code",
      "metadata": {
        "id": "1Y-epMZFPybV"
      },
      "source": [
        "#encontrando o maior valor de F1 \n",
        "result = dataframe_grid.loc[dataframe_grid['F1_score'].idxmax()]\n",
        "print(result , \"\\n \\n Lista de parametros\")\n",
        "\n",
        "\n",
        "result.parametros\n"
      ],
      "execution_count": null,
      "outputs": []
    }
  ]
}