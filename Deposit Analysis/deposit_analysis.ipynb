{
  "nbformat": 4,
  "nbformat_minor": 0,
  "metadata": {
    "colab": {
      "name": "deposit_analysis.ipynb",
      "provenance": [],
      "collapsed_sections": [],
      "toc_visible": true,
      "authorship_tag": "ABX9TyMtVcps9WROyk3H0LWh7uq+",
      "include_colab_link": true
    },
    "kernelspec": {
      "name": "python3",
      "display_name": "Python 3"
    },
    "language_info": {
      "name": "python"
    }
  },
  "cells": [
    {
      "cell_type": "markdown",
      "metadata": {
        "id": "view-in-github",
        "colab_type": "text"
      },
      "source": [
        "<a href=\"https://colab.research.google.com/github/erickwb/Machine-Learning-Projects/blob/main/Deposit%20Analysis/deposit_analysis.ipynb\" target=\"_parent\"><img src=\"https://colab.research.google.com/assets/colab-badge.svg\" alt=\"Open In Colab\"/></a>"
      ]
    },
    {
      "cell_type": "markdown",
      "metadata": {
        "id": "s4SOeRqDrSoh"
      },
      "source": [
        "Name: Erick Correia Silva\n",
        "\n",
        "Dataframe: bank-additional\n",
        "\n",
        "Date: 07/09/2021\n"
      ]
    },
    {
      "cell_type": "code",
      "metadata": {
        "id": "aQRFKTr1IXuw"
      },
      "source": [
        "#import das bibliotecas\n",
        "\n",
        "import pandas as pd\n",
        "import numpy as np\n",
        "from sklearn import preprocessing\n",
        "from sklearn.preprocessing import LabelEncoder \n",
        "from sklearn.neighbors import KNeighborsClassifier\n",
        "from sklearn.model_selection import train_test_split\n",
        "from imblearn.under_sampling import NearMiss\n",
        "from sklearn.model_selection import cross_val_score\n",
        "from sklearn.model_selection import KFold\n",
        "from sklearn.pipeline import Pipeline\n",
        "from sklearn.model_selection import GridSearchCV\n",
        "#classificadores\n",
        "from sklearn.tree import DecisionTreeClassifier\n",
        "from sklearn.naive_bayes import GaussianNB\n",
        "from sklearn import svm\n",
        "from sklearn.ensemble import RandomForestClassifier\n",
        "from sklearn.ensemble import GradientBoostingClassifier\n",
        "from sklearn.neural_network import MLPClassifier\n",
        "#metricas\n",
        "from yellowbrick.classifier import ConfusionMatrix\n",
        "from sklearn import metrics\n",
        "#graficos\n",
        "import seaborn as sns\n",
        "\n"
      ],
      "execution_count": null,
      "outputs": []
    },
    {
      "cell_type": "markdown",
      "metadata": {
        "id": "EkWT4S_I8fFm"
      },
      "source": [
        "##Pre processamento dos dados\n"
      ]
    },
    {
      "cell_type": "markdown",
      "metadata": {
        "id": "w_F_r9Tb8lA6"
      },
      "source": [
        "(instanciando o datset ,verificando se a dados faltantes, dividindo os dados de amostra e classe, transformando os dados categorios em dados numericos, balanceando os dados da classe ) "
      ]
    },
    {
      "cell_type": "code",
      "metadata": {
        "id": "qSRvuoVfws8M",
        "colab": {
          "base_uri": "https://localhost:8080/",
          "height": 456
        },
        "outputId": "af32a212-652f-4c4d-eb73-282fe67f31e4"
      },
      "source": [
        "#abrindo dataset\n",
        "data = pd.read_csv(\"bank-additional-full.csv\", sep =\";\")\n",
        "print(data.shape)\n",
        "#pre visualizaçao do dataset\n",
        "data.head(100)"
      ],
      "execution_count": null,
      "outputs": [
        {
          "output_type": "stream",
          "text": [
            "(41188, 21)\n"
          ],
          "name": "stdout"
        },
        {
          "output_type": "execute_result",
          "data": {
            "text/html": [
              "<div>\n",
              "<style scoped>\n",
              "    .dataframe tbody tr th:only-of-type {\n",
              "        vertical-align: middle;\n",
              "    }\n",
              "\n",
              "    .dataframe tbody tr th {\n",
              "        vertical-align: top;\n",
              "    }\n",
              "\n",
              "    .dataframe thead th {\n",
              "        text-align: right;\n",
              "    }\n",
              "</style>\n",
              "<table border=\"1\" class=\"dataframe\">\n",
              "  <thead>\n",
              "    <tr style=\"text-align: right;\">\n",
              "      <th></th>\n",
              "      <th>age</th>\n",
              "      <th>job</th>\n",
              "      <th>marital</th>\n",
              "      <th>education</th>\n",
              "      <th>default</th>\n",
              "      <th>housing</th>\n",
              "      <th>loan</th>\n",
              "      <th>contact</th>\n",
              "      <th>month</th>\n",
              "      <th>day_of_week</th>\n",
              "      <th>duration</th>\n",
              "      <th>campaign</th>\n",
              "      <th>pdays</th>\n",
              "      <th>previous</th>\n",
              "      <th>poutcome</th>\n",
              "      <th>emp.var.rate</th>\n",
              "      <th>cons.price.idx</th>\n",
              "      <th>cons.conf.idx</th>\n",
              "      <th>euribor3m</th>\n",
              "      <th>nr.employed</th>\n",
              "      <th>y</th>\n",
              "    </tr>\n",
              "  </thead>\n",
              "  <tbody>\n",
              "    <tr>\n",
              "      <th>0</th>\n",
              "      <td>56</td>\n",
              "      <td>housemaid</td>\n",
              "      <td>married</td>\n",
              "      <td>basic.4y</td>\n",
              "      <td>no</td>\n",
              "      <td>no</td>\n",
              "      <td>no</td>\n",
              "      <td>telephone</td>\n",
              "      <td>may</td>\n",
              "      <td>mon</td>\n",
              "      <td>261</td>\n",
              "      <td>1</td>\n",
              "      <td>999</td>\n",
              "      <td>0</td>\n",
              "      <td>nonexistent</td>\n",
              "      <td>1.1</td>\n",
              "      <td>93.994</td>\n",
              "      <td>-36.4</td>\n",
              "      <td>4.857</td>\n",
              "      <td>5191.0</td>\n",
              "      <td>no</td>\n",
              "    </tr>\n",
              "    <tr>\n",
              "      <th>1</th>\n",
              "      <td>57</td>\n",
              "      <td>services</td>\n",
              "      <td>married</td>\n",
              "      <td>high.school</td>\n",
              "      <td>unknown</td>\n",
              "      <td>no</td>\n",
              "      <td>no</td>\n",
              "      <td>telephone</td>\n",
              "      <td>may</td>\n",
              "      <td>mon</td>\n",
              "      <td>149</td>\n",
              "      <td>1</td>\n",
              "      <td>999</td>\n",
              "      <td>0</td>\n",
              "      <td>nonexistent</td>\n",
              "      <td>1.1</td>\n",
              "      <td>93.994</td>\n",
              "      <td>-36.4</td>\n",
              "      <td>4.857</td>\n",
              "      <td>5191.0</td>\n",
              "      <td>no</td>\n",
              "    </tr>\n",
              "    <tr>\n",
              "      <th>2</th>\n",
              "      <td>37</td>\n",
              "      <td>services</td>\n",
              "      <td>married</td>\n",
              "      <td>high.school</td>\n",
              "      <td>no</td>\n",
              "      <td>yes</td>\n",
              "      <td>no</td>\n",
              "      <td>telephone</td>\n",
              "      <td>may</td>\n",
              "      <td>mon</td>\n",
              "      <td>226</td>\n",
              "      <td>1</td>\n",
              "      <td>999</td>\n",
              "      <td>0</td>\n",
              "      <td>nonexistent</td>\n",
              "      <td>1.1</td>\n",
              "      <td>93.994</td>\n",
              "      <td>-36.4</td>\n",
              "      <td>4.857</td>\n",
              "      <td>5191.0</td>\n",
              "      <td>no</td>\n",
              "    </tr>\n",
              "    <tr>\n",
              "      <th>3</th>\n",
              "      <td>40</td>\n",
              "      <td>admin.</td>\n",
              "      <td>married</td>\n",
              "      <td>basic.6y</td>\n",
              "      <td>no</td>\n",
              "      <td>no</td>\n",
              "      <td>no</td>\n",
              "      <td>telephone</td>\n",
              "      <td>may</td>\n",
              "      <td>mon</td>\n",
              "      <td>151</td>\n",
              "      <td>1</td>\n",
              "      <td>999</td>\n",
              "      <td>0</td>\n",
              "      <td>nonexistent</td>\n",
              "      <td>1.1</td>\n",
              "      <td>93.994</td>\n",
              "      <td>-36.4</td>\n",
              "      <td>4.857</td>\n",
              "      <td>5191.0</td>\n",
              "      <td>no</td>\n",
              "    </tr>\n",
              "    <tr>\n",
              "      <th>4</th>\n",
              "      <td>56</td>\n",
              "      <td>services</td>\n",
              "      <td>married</td>\n",
              "      <td>high.school</td>\n",
              "      <td>no</td>\n",
              "      <td>no</td>\n",
              "      <td>yes</td>\n",
              "      <td>telephone</td>\n",
              "      <td>may</td>\n",
              "      <td>mon</td>\n",
              "      <td>307</td>\n",
              "      <td>1</td>\n",
              "      <td>999</td>\n",
              "      <td>0</td>\n",
              "      <td>nonexistent</td>\n",
              "      <td>1.1</td>\n",
              "      <td>93.994</td>\n",
              "      <td>-36.4</td>\n",
              "      <td>4.857</td>\n",
              "      <td>5191.0</td>\n",
              "      <td>no</td>\n",
              "    </tr>\n",
              "    <tr>\n",
              "      <th>...</th>\n",
              "      <td>...</td>\n",
              "      <td>...</td>\n",
              "      <td>...</td>\n",
              "      <td>...</td>\n",
              "      <td>...</td>\n",
              "      <td>...</td>\n",
              "      <td>...</td>\n",
              "      <td>...</td>\n",
              "      <td>...</td>\n",
              "      <td>...</td>\n",
              "      <td>...</td>\n",
              "      <td>...</td>\n",
              "      <td>...</td>\n",
              "      <td>...</td>\n",
              "      <td>...</td>\n",
              "      <td>...</td>\n",
              "      <td>...</td>\n",
              "      <td>...</td>\n",
              "      <td>...</td>\n",
              "      <td>...</td>\n",
              "      <td>...</td>\n",
              "    </tr>\n",
              "    <tr>\n",
              "      <th>95</th>\n",
              "      <td>45</td>\n",
              "      <td>services</td>\n",
              "      <td>married</td>\n",
              "      <td>professional.course</td>\n",
              "      <td>no</td>\n",
              "      <td>yes</td>\n",
              "      <td>no</td>\n",
              "      <td>telephone</td>\n",
              "      <td>may</td>\n",
              "      <td>mon</td>\n",
              "      <td>221</td>\n",
              "      <td>1</td>\n",
              "      <td>999</td>\n",
              "      <td>0</td>\n",
              "      <td>nonexistent</td>\n",
              "      <td>1.1</td>\n",
              "      <td>93.994</td>\n",
              "      <td>-36.4</td>\n",
              "      <td>4.857</td>\n",
              "      <td>5191.0</td>\n",
              "      <td>no</td>\n",
              "    </tr>\n",
              "    <tr>\n",
              "      <th>96</th>\n",
              "      <td>42</td>\n",
              "      <td>management</td>\n",
              "      <td>married</td>\n",
              "      <td>university.degree</td>\n",
              "      <td>no</td>\n",
              "      <td>no</td>\n",
              "      <td>no</td>\n",
              "      <td>telephone</td>\n",
              "      <td>may</td>\n",
              "      <td>mon</td>\n",
              "      <td>426</td>\n",
              "      <td>1</td>\n",
              "      <td>999</td>\n",
              "      <td>0</td>\n",
              "      <td>nonexistent</td>\n",
              "      <td>1.1</td>\n",
              "      <td>93.994</td>\n",
              "      <td>-36.4</td>\n",
              "      <td>4.857</td>\n",
              "      <td>5191.0</td>\n",
              "      <td>no</td>\n",
              "    </tr>\n",
              "    <tr>\n",
              "      <th>97</th>\n",
              "      <td>53</td>\n",
              "      <td>admin.</td>\n",
              "      <td>divorced</td>\n",
              "      <td>university.degree</td>\n",
              "      <td>unknown</td>\n",
              "      <td>no</td>\n",
              "      <td>no</td>\n",
              "      <td>telephone</td>\n",
              "      <td>may</td>\n",
              "      <td>mon</td>\n",
              "      <td>287</td>\n",
              "      <td>1</td>\n",
              "      <td>999</td>\n",
              "      <td>0</td>\n",
              "      <td>nonexistent</td>\n",
              "      <td>1.1</td>\n",
              "      <td>93.994</td>\n",
              "      <td>-36.4</td>\n",
              "      <td>4.857</td>\n",
              "      <td>5191.0</td>\n",
              "      <td>no</td>\n",
              "    </tr>\n",
              "    <tr>\n",
              "      <th>98</th>\n",
              "      <td>37</td>\n",
              "      <td>technician</td>\n",
              "      <td>single</td>\n",
              "      <td>professional.course</td>\n",
              "      <td>no</td>\n",
              "      <td>no</td>\n",
              "      <td>no</td>\n",
              "      <td>telephone</td>\n",
              "      <td>may</td>\n",
              "      <td>mon</td>\n",
              "      <td>197</td>\n",
              "      <td>1</td>\n",
              "      <td>999</td>\n",
              "      <td>0</td>\n",
              "      <td>nonexistent</td>\n",
              "      <td>1.1</td>\n",
              "      <td>93.994</td>\n",
              "      <td>-36.4</td>\n",
              "      <td>4.857</td>\n",
              "      <td>5191.0</td>\n",
              "      <td>no</td>\n",
              "    </tr>\n",
              "    <tr>\n",
              "      <th>99</th>\n",
              "      <td>44</td>\n",
              "      <td>blue-collar</td>\n",
              "      <td>married</td>\n",
              "      <td>basic.6y</td>\n",
              "      <td>no</td>\n",
              "      <td>no</td>\n",
              "      <td>no</td>\n",
              "      <td>telephone</td>\n",
              "      <td>may</td>\n",
              "      <td>mon</td>\n",
              "      <td>257</td>\n",
              "      <td>1</td>\n",
              "      <td>999</td>\n",
              "      <td>0</td>\n",
              "      <td>nonexistent</td>\n",
              "      <td>1.1</td>\n",
              "      <td>93.994</td>\n",
              "      <td>-36.4</td>\n",
              "      <td>4.857</td>\n",
              "      <td>5191.0</td>\n",
              "      <td>no</td>\n",
              "    </tr>\n",
              "  </tbody>\n",
              "</table>\n",
              "<p>100 rows × 21 columns</p>\n",
              "</div>"
            ],
            "text/plain": [
              "    age          job   marital  ... euribor3m nr.employed   y\n",
              "0    56    housemaid   married  ...     4.857      5191.0  no\n",
              "1    57     services   married  ...     4.857      5191.0  no\n",
              "2    37     services   married  ...     4.857      5191.0  no\n",
              "3    40       admin.   married  ...     4.857      5191.0  no\n",
              "4    56     services   married  ...     4.857      5191.0  no\n",
              "..  ...          ...       ...  ...       ...         ...  ..\n",
              "95   45     services   married  ...     4.857      5191.0  no\n",
              "96   42   management   married  ...     4.857      5191.0  no\n",
              "97   53       admin.  divorced  ...     4.857      5191.0  no\n",
              "98   37   technician    single  ...     4.857      5191.0  no\n",
              "99   44  blue-collar   married  ...     4.857      5191.0  no\n",
              "\n",
              "[100 rows x 21 columns]"
            ]
          },
          "metadata": {},
          "execution_count": 140
        }
      ]
    },
    {
      "cell_type": "code",
      "metadata": {
        "colab": {
          "base_uri": "https://localhost:8080/"
        },
        "id": "1WbjbpRA7-oI",
        "outputId": "371cb4ce-2379-4723-a7b1-64da3f112100"
      },
      "source": [
        "#informaçoes sobre os dados\n",
        "print(data.info())\n",
        "\n",
        "#verificando de a dados faltantes\n",
        "print(data.isna().sum())\n"
      ],
      "execution_count": null,
      "outputs": [
        {
          "output_type": "stream",
          "text": [
            "<class 'pandas.core.frame.DataFrame'>\n",
            "RangeIndex: 41188 entries, 0 to 41187\n",
            "Data columns (total 21 columns):\n",
            " #   Column          Non-Null Count  Dtype  \n",
            "---  ------          --------------  -----  \n",
            " 0   age             41188 non-null  int64  \n",
            " 1   job             41188 non-null  object \n",
            " 2   marital         41188 non-null  object \n",
            " 3   education       41188 non-null  object \n",
            " 4   default         41188 non-null  object \n",
            " 5   housing         41188 non-null  object \n",
            " 6   loan            41188 non-null  object \n",
            " 7   contact         41188 non-null  object \n",
            " 8   month           41188 non-null  object \n",
            " 9   day_of_week     41188 non-null  object \n",
            " 10  duration        41188 non-null  int64  \n",
            " 11  campaign        41188 non-null  int64  \n",
            " 12  pdays           41188 non-null  int64  \n",
            " 13  previous        41188 non-null  int64  \n",
            " 14  poutcome        41188 non-null  object \n",
            " 15  emp.var.rate    41188 non-null  float64\n",
            " 16  cons.price.idx  41188 non-null  float64\n",
            " 17  cons.conf.idx   41188 non-null  float64\n",
            " 18  euribor3m       41188 non-null  float64\n",
            " 19  nr.employed     41188 non-null  float64\n",
            " 20  y               41188 non-null  object \n",
            "dtypes: float64(5), int64(5), object(11)\n",
            "memory usage: 6.6+ MB\n",
            "None\n",
            "age               0\n",
            "job               0\n",
            "marital           0\n",
            "education         0\n",
            "default           0\n",
            "housing           0\n",
            "loan              0\n",
            "contact           0\n",
            "month             0\n",
            "day_of_week       0\n",
            "duration          0\n",
            "campaign          0\n",
            "pdays             0\n",
            "previous          0\n",
            "poutcome          0\n",
            "emp.var.rate      0\n",
            "cons.price.idx    0\n",
            "cons.conf.idx     0\n",
            "euribor3m         0\n",
            "nr.employed       0\n",
            "y                 0\n",
            "dtype: int64\n"
          ],
          "name": "stdout"
        }
      ]
    },
    {
      "cell_type": "code",
      "metadata": {
        "colab": {
          "base_uri": "https://localhost:8080/",
          "height": 435
        },
        "id": "v32H6XkT_Fau",
        "outputId": "9db9c2a9-9066-4829-fa4a-c0b271b73827"
      },
      "source": [
        "#verificação do balanceamento das classe \n",
        "print(data.y.value_counts())\n",
        "print(\"\\nDepositos dentro do prazo {:.4f}% do dataset.\\n\".format((data[data.y == 'yes'].shape[0] / data.shape[0]) * 100))\n",
        " \n",
        "# plotar gráfico de barras para as Classes\n",
        "sns.countplot('y', data=data);\n"
      ],
      "execution_count": null,
      "outputs": [
        {
          "output_type": "stream",
          "text": [
            "no     36548\n",
            "yes     4640\n",
            "Name: y, dtype: int64\n",
            "\n",
            "Depositos dentro do prazo 11.2654% do dataset.\n",
            "\n"
          ],
          "name": "stdout"
        },
        {
          "output_type": "stream",
          "text": [
            "/usr/local/lib/python3.7/dist-packages/seaborn/_decorators.py:43: FutureWarning: Pass the following variable as a keyword arg: x. From version 0.12, the only valid positional argument will be `data`, and passing other arguments without an explicit keyword will result in an error or misinterpretation.\n",
            "  FutureWarning\n"
          ],
          "name": "stderr"
        },
        {
          "output_type": "display_data",
          "data": {
            "image/png": "[encoded data removed]",
            "text/plain": [
              "<Figure size 432x288 with 1 Axes>"
            ]
          },
          "metadata": {
            "needs_background": "light"
          }
        }
      ]
    },
    {
      "cell_type": "code",
      "metadata": {
        "id": "YOuF1KfRJjP6",
        "colab": {
          "base_uri": "https://localhost:8080/"
        },
        "outputId": "e979feee-f2df-4766-b69e-261bd4fd7e73"
      },
      "source": [
        "X = data.iloc[:,:20].values \n",
        "y = data.iloc[:,20].values\n",
        "#pre visualizaçao das amostras e dos rotulos\n",
        "print(\"dados de amostra\",X)\n",
        "print(\"dados da classe\" ,y)"
      ],
      "execution_count": null,
      "outputs": [
        {
          "output_type": "stream",
          "text": [
            "dados de amostra [[56 'housemaid' 'married' ... -36.4 4.857 5191.0]\n",
            " [57 'services' 'married' ... -36.4 4.857 5191.0]\n",
            " [37 'services' 'married' ... -36.4 4.857 5191.0]\n",
            " ...\n",
            " [56 'retired' 'married' ... -50.8 1.028 4963.6]\n",
            " [44 'technician' 'married' ... -50.8 1.028 4963.6]\n",
            " [74 'retired' 'married' ... -50.8 1.028 4963.6]]\n",
            "dados da classe ['no' 'no' 'no' ... 'no' 'yes' 'no']\n"
          ],
          "name": "stdout"
        }
      ]
    },
    {
      "cell_type": "code",
      "metadata": {
        "id": "LEGJa6kNKgTn",
        "colab": {
          "base_uri": "https://localhost:8080/",
          "height": 419
        },
        "outputId": "b402d92e-afc2-4104-b86e-b73973bfc253"
      },
      "source": [
        "#transformando os dados categorios em dados numericos \n",
        "\n",
        "labelencoder_1 = LabelEncoder()\n",
        "X[:,1] = labelencoder_1.fit_transform(X[:,1])\n",
        "\n",
        "labelencoder_2 = LabelEncoder()\n",
        "X[:,2] = labelencoder_2.fit_transform(X[:,2])\n",
        "\n",
        "labelencoder_3 = LabelEncoder()\n",
        "X[:,3] = labelencoder_3.fit_transform(X[:,3])\n",
        "\n",
        "labelencoder_4 = LabelEncoder()\n",
        "X[:,4] = labelencoder_4.fit_transform(X[:,4])\n",
        "\n",
        "labelencoder_5 = LabelEncoder()\n",
        "X[:,5] = labelencoder_5.fit_transform(X[:,5])\n",
        "\n",
        "labelencoder_6 = LabelEncoder()\n",
        "X[:,6] = labelencoder_6.fit_transform(X[:,6])\n",
        "\n",
        "labelencoder_7 = LabelEncoder()\n",
        "X[:,7] = labelencoder_7.fit_transform(X[:,7])\n",
        "\n",
        "labelencoder_8 = LabelEncoder()\n",
        "X[:,8] = labelencoder_8.fit_transform(X[:,8])\n",
        "\n",
        "labelencoder_9 = LabelEncoder()\n",
        "X[:,9] = labelencoder_9.fit_transform(X[:,9])\n",
        "\n",
        "labelencoder_10 = LabelEncoder()\n",
        "X[:,10] = labelencoder_9.fit_transform(X[:,10])\n",
        "\n",
        "labelencoder_14 = LabelEncoder()\n",
        "X[:,14] = labelencoder_14.fit_transform(X[:,14])\n",
        "\n",
        "labelencoder_y = LabelEncoder()\n",
        "y = labelencoder_y.fit_transform(y)\n",
        "\n",
        "#Visualizando o datset transformado\n",
        "df = pd.DataFrame(X)\n",
        "df\n",
        "\n"
      ],
      "execution_count": null,
      "outputs": [
        {
          "output_type": "execute_result",
          "data": {
            "text/html": [
              "<div>\n",
              "<style scoped>\n",
              "    .dataframe tbody tr th:only-of-type {\n",
              "        vertical-align: middle;\n",
              "    }\n",
              "\n",
              "    .dataframe tbody tr th {\n",
              "        vertical-align: top;\n",
              "    }\n",
              "\n",
              "    .dataframe thead th {\n",
              "        text-align: right;\n",
              "    }\n",
              "</style>\n",
              "<table border=\"1\" class=\"dataframe\">\n",
              "  <thead>\n",
              "    <tr style=\"text-align: right;\">\n",
              "      <th></th>\n",
              "      <th>0</th>\n",
              "      <th>1</th>\n",
              "      <th>2</th>\n",
              "      <th>3</th>\n",
              "      <th>4</th>\n",
              "      <th>5</th>\n",
              "      <th>6</th>\n",
              "      <th>7</th>\n",
              "      <th>8</th>\n",
              "      <th>9</th>\n",
              "      <th>10</th>\n",
              "      <th>11</th>\n",
              "      <th>12</th>\n",
              "      <th>13</th>\n",
              "      <th>14</th>\n",
              "      <th>15</th>\n",
              "      <th>16</th>\n",
              "      <th>17</th>\n",
              "      <th>18</th>\n",
              "      <th>19</th>\n",
              "    </tr>\n",
              "  </thead>\n",
              "  <tbody>\n",
              "    <tr>\n",
              "      <th>0</th>\n",
              "      <td>56</td>\n",
              "      <td>3</td>\n",
              "      <td>1</td>\n",
              "      <td>0</td>\n",
              "      <td>0</td>\n",
              "      <td>0</td>\n",
              "      <td>0</td>\n",
              "      <td>1</td>\n",
              "      <td>6</td>\n",
              "      <td>1</td>\n",
              "      <td>261</td>\n",
              "      <td>1</td>\n",
              "      <td>999</td>\n",
              "      <td>0</td>\n",
              "      <td>1</td>\n",
              "      <td>1.1</td>\n",
              "      <td>93.994</td>\n",
              "      <td>-36.4</td>\n",
              "      <td>4.857</td>\n",
              "      <td>5191</td>\n",
              "    </tr>\n",
              "    <tr>\n",
              "      <th>1</th>\n",
              "      <td>57</td>\n",
              "      <td>7</td>\n",
              "      <td>1</td>\n",
              "      <td>3</td>\n",
              "      <td>1</td>\n",
              "      <td>0</td>\n",
              "      <td>0</td>\n",
              "      <td>1</td>\n",
              "      <td>6</td>\n",
              "      <td>1</td>\n",
              "      <td>149</td>\n",
              "      <td>1</td>\n",
              "      <td>999</td>\n",
              "      <td>0</td>\n",
              "      <td>1</td>\n",
              "      <td>1.1</td>\n",
              "      <td>93.994</td>\n",
              "      <td>-36.4</td>\n",
              "      <td>4.857</td>\n",
              "      <td>5191</td>\n",
              "    </tr>\n",
              "    <tr>\n",
              "      <th>2</th>\n",
              "      <td>37</td>\n",
              "      <td>7</td>\n",
              "      <td>1</td>\n",
              "      <td>3</td>\n",
              "      <td>0</td>\n",
              "      <td>2</td>\n",
              "      <td>0</td>\n",
              "      <td>1</td>\n",
              "      <td>6</td>\n",
              "      <td>1</td>\n",
              "      <td>226</td>\n",
              "      <td>1</td>\n",
              "      <td>999</td>\n",
              "      <td>0</td>\n",
              "      <td>1</td>\n",
              "      <td>1.1</td>\n",
              "      <td>93.994</td>\n",
              "      <td>-36.4</td>\n",
              "      <td>4.857</td>\n",
              "      <td>5191</td>\n",
              "    </tr>\n",
              "    <tr>\n",
              "      <th>3</th>\n",
              "      <td>40</td>\n",
              "      <td>0</td>\n",
              "      <td>1</td>\n",
              "      <td>1</td>\n",
              "      <td>0</td>\n",
              "      <td>0</td>\n",
              "      <td>0</td>\n",
              "      <td>1</td>\n",
              "      <td>6</td>\n",
              "      <td>1</td>\n",
              "      <td>151</td>\n",
              "      <td>1</td>\n",
              "      <td>999</td>\n",
              "      <td>0</td>\n",
              "      <td>1</td>\n",
              "      <td>1.1</td>\n",
              "      <td>93.994</td>\n",
              "      <td>-36.4</td>\n",
              "      <td>4.857</td>\n",
              "      <td>5191</td>\n",
              "    </tr>\n",
              "    <tr>\n",
              "      <th>4</th>\n",
              "      <td>56</td>\n",
              "      <td>7</td>\n",
              "      <td>1</td>\n",
              "      <td>3</td>\n",
              "      <td>0</td>\n",
              "      <td>0</td>\n",
              "      <td>2</td>\n",
              "      <td>1</td>\n",
              "      <td>6</td>\n",
              "      <td>1</td>\n",
              "      <td>307</td>\n",
              "      <td>1</td>\n",
              "      <td>999</td>\n",
              "      <td>0</td>\n",
              "      <td>1</td>\n",
              "      <td>1.1</td>\n",
              "      <td>93.994</td>\n",
              "      <td>-36.4</td>\n",
              "      <td>4.857</td>\n",
              "      <td>5191</td>\n",
              "    </tr>\n",
              "    <tr>\n",
              "      <th>...</th>\n",
              "      <td>...</td>\n",
              "      <td>...</td>\n",
              "      <td>...</td>\n",
              "      <td>...</td>\n",
              "      <td>...</td>\n",
              "      <td>...</td>\n",
              "      <td>...</td>\n",
              "      <td>...</td>\n",
              "      <td>...</td>\n",
              "      <td>...</td>\n",
              "      <td>...</td>\n",
              "      <td>...</td>\n",
              "      <td>...</td>\n",
              "      <td>...</td>\n",
              "      <td>...</td>\n",
              "      <td>...</td>\n",
              "      <td>...</td>\n",
              "      <td>...</td>\n",
              "      <td>...</td>\n",
              "      <td>...</td>\n",
              "    </tr>\n",
              "    <tr>\n",
              "      <th>41183</th>\n",
              "      <td>73</td>\n",
              "      <td>5</td>\n",
              "      <td>1</td>\n",
              "      <td>5</td>\n",
              "      <td>0</td>\n",
              "      <td>2</td>\n",
              "      <td>0</td>\n",
              "      <td>0</td>\n",
              "      <td>7</td>\n",
              "      <td>0</td>\n",
              "      <td>334</td>\n",
              "      <td>1</td>\n",
              "      <td>999</td>\n",
              "      <td>0</td>\n",
              "      <td>1</td>\n",
              "      <td>-1.1</td>\n",
              "      <td>94.767</td>\n",
              "      <td>-50.8</td>\n",
              "      <td>1.028</td>\n",
              "      <td>4963.6</td>\n",
              "    </tr>\n",
              "    <tr>\n",
              "      <th>41184</th>\n",
              "      <td>46</td>\n",
              "      <td>1</td>\n",
              "      <td>1</td>\n",
              "      <td>5</td>\n",
              "      <td>0</td>\n",
              "      <td>0</td>\n",
              "      <td>0</td>\n",
              "      <td>0</td>\n",
              "      <td>7</td>\n",
              "      <td>0</td>\n",
              "      <td>383</td>\n",
              "      <td>1</td>\n",
              "      <td>999</td>\n",
              "      <td>0</td>\n",
              "      <td>1</td>\n",
              "      <td>-1.1</td>\n",
              "      <td>94.767</td>\n",
              "      <td>-50.8</td>\n",
              "      <td>1.028</td>\n",
              "      <td>4963.6</td>\n",
              "    </tr>\n",
              "    <tr>\n",
              "      <th>41185</th>\n",
              "      <td>56</td>\n",
              "      <td>5</td>\n",
              "      <td>1</td>\n",
              "      <td>6</td>\n",
              "      <td>0</td>\n",
              "      <td>2</td>\n",
              "      <td>0</td>\n",
              "      <td>0</td>\n",
              "      <td>7</td>\n",
              "      <td>0</td>\n",
              "      <td>189</td>\n",
              "      <td>2</td>\n",
              "      <td>999</td>\n",
              "      <td>0</td>\n",
              "      <td>1</td>\n",
              "      <td>-1.1</td>\n",
              "      <td>94.767</td>\n",
              "      <td>-50.8</td>\n",
              "      <td>1.028</td>\n",
              "      <td>4963.6</td>\n",
              "    </tr>\n",
              "    <tr>\n",
              "      <th>41186</th>\n",
              "      <td>44</td>\n",
              "      <td>9</td>\n",
              "      <td>1</td>\n",
              "      <td>5</td>\n",
              "      <td>0</td>\n",
              "      <td>0</td>\n",
              "      <td>0</td>\n",
              "      <td>0</td>\n",
              "      <td>7</td>\n",
              "      <td>0</td>\n",
              "      <td>442</td>\n",
              "      <td>1</td>\n",
              "      <td>999</td>\n",
              "      <td>0</td>\n",
              "      <td>1</td>\n",
              "      <td>-1.1</td>\n",
              "      <td>94.767</td>\n",
              "      <td>-50.8</td>\n",
              "      <td>1.028</td>\n",
              "      <td>4963.6</td>\n",
              "    </tr>\n",
              "    <tr>\n",
              "      <th>41187</th>\n",
              "      <td>74</td>\n",
              "      <td>5</td>\n",
              "      <td>1</td>\n",
              "      <td>5</td>\n",
              "      <td>0</td>\n",
              "      <td>2</td>\n",
              "      <td>0</td>\n",
              "      <td>0</td>\n",
              "      <td>7</td>\n",
              "      <td>0</td>\n",
              "      <td>239</td>\n",
              "      <td>3</td>\n",
              "      <td>999</td>\n",
              "      <td>1</td>\n",
              "      <td>0</td>\n",
              "      <td>-1.1</td>\n",
              "      <td>94.767</td>\n",
              "      <td>-50.8</td>\n",
              "      <td>1.028</td>\n",
              "      <td>4963.6</td>\n",
              "    </tr>\n",
              "  </tbody>\n",
              "</table>\n",
              "<p>41188 rows × 20 columns</p>\n",
              "</div>"
            ],
            "text/plain": [
              "       0  1  2  3  4  5  6  7   ...   12 13 14   15      16    17     18      19\n",
              "0      56  3  1  0  0  0  0  1  ...  999  0  1  1.1  93.994 -36.4  4.857    5191\n",
              "1      57  7  1  3  1  0  0  1  ...  999  0  1  1.1  93.994 -36.4  4.857    5191\n",
              "2      37  7  1  3  0  2  0  1  ...  999  0  1  1.1  93.994 -36.4  4.857    5191\n",
              "3      40  0  1  1  0  0  0  1  ...  999  0  1  1.1  93.994 -36.4  4.857    5191\n",
              "4      56  7  1  3  0  0  2  1  ...  999  0  1  1.1  93.994 -36.4  4.857    5191\n",
              "...    .. .. .. .. .. .. .. ..  ...  ... .. ..  ...     ...   ...    ...     ...\n",
              "41183  73  5  1  5  0  2  0  0  ...  999  0  1 -1.1  94.767 -50.8  1.028  4963.6\n",
              "41184  46  1  1  5  0  0  0  0  ...  999  0  1 -1.1  94.767 -50.8  1.028  4963.6\n",
              "41185  56  5  1  6  0  2  0  0  ...  999  0  1 -1.1  94.767 -50.8  1.028  4963.6\n",
              "41186  44  9  1  5  0  0  0  0  ...  999  0  1 -1.1  94.767 -50.8  1.028  4963.6\n",
              "41187  74  5  1  5  0  2  0  0  ...  999  1  0 -1.1  94.767 -50.8  1.028  4963.6\n",
              "\n",
              "[41188 rows x 20 columns]"
            ]
          },
          "metadata": {},
          "execution_count": 144
        }
      ]
    },
    {
      "cell_type": "code",
      "metadata": {
        "colab": {
          "base_uri": "https://localhost:8080/",
          "height": 489
        },
        "id": "nqP7lqL2Cot7",
        "outputId": "024fee4a-4ad5-47b3-a868-b56e3e0627ab"
      },
      "source": [
        "#balanceando os dados dos dados usando técnica de oversampling\n",
        "balanceamento = NearMiss()\n",
        "X, y = balanceamento.fit_sample(X, y)\n",
        " \n",
        "# ver o balanceamento das classes\n",
        "print(pd.Series(y).value_counts())\n",
        " \n",
        "# plotar a nova distribuição de classes\n",
        "sns.countplot(y);\n",
        "\n",
        "print(y.shape)"
      ],
      "execution_count": null,
      "outputs": [
        {
          "output_type": "stream",
          "text": [
            "/usr/local/lib/python3.7/dist-packages/sklearn/utils/deprecation.py:87: FutureWarning: Function safe_indexing is deprecated; safe_indexing is deprecated in version 0.22 and will be removed in version 0.24.\n",
            "  warnings.warn(msg, category=FutureWarning)\n",
            "/usr/local/lib/python3.7/dist-packages/sklearn/utils/deprecation.py:87: FutureWarning: Function safe_indexing is deprecated; safe_indexing is deprecated in version 0.22 and will be removed in version 0.24.\n",
            "  warnings.warn(msg, category=FutureWarning)\n"
          ],
          "name": "stderr"
        },
        {
          "output_type": "stream",
          "text": [
            "1    4640\n",
            "0    4640\n",
            "dtype: int64\n",
            "(9280,)\n"
          ],
          "name": "stdout"
        },
        {
          "output_type": "stream",
          "text": [
            "/usr/local/lib/python3.7/dist-packages/sklearn/utils/deprecation.py:87: FutureWarning: Function safe_indexing is deprecated; safe_indexing is deprecated in version 0.22 and will be removed in version 0.24.\n",
            "  warnings.warn(msg, category=FutureWarning)\n",
            "/usr/local/lib/python3.7/dist-packages/seaborn/_decorators.py:43: FutureWarning: Pass the following variable as a keyword arg: x. From version 0.12, the only valid positional argument will be `data`, and passing other arguments without an explicit keyword will result in an error or misinterpretation.\n",
            "  FutureWarning\n"
          ],
          "name": "stderr"
        },
        {
          "output_type": "display_data",
          "data": {
            "image/png": "[encoded data removed]",
            "text/plain": [
              "<Figure size 432x288 with 1 Axes>"
            ]
          },
          "metadata": {
            "needs_background": "light"
          }
        }
      ]
    },
    {
      "cell_type": "markdown",
      "metadata": {
        "id": "KKccLJv38Cp5"
      },
      "source": [
        "##Medindo o melhor algoritmo para treinamento usando validação cruzada k-fold "
      ]
    },
    {
      "cell_type": "markdown",
      "metadata": {
        "id": "gze9w8Mb5jF4"
      },
      "source": [
        " Algoritmos utilizados (kNN, SVM, Árvore de Decisão, Random Forest, Gradient Boosting e Redes Neurais)"
      ]
    },
    {
      "cell_type": "code",
      "metadata": {
        "id": "6sR2uexi1Ebj"
      },
      "source": [
        "'''#metricas\n",
        "#metricas = [\"f1\", \"precision\", \"recall\"]\n",
        "\n",
        "'''\n",
        "Colunas = [\n",
        "    'algoritmo',\n",
        "    'parametros',\n",
        "    'F1_score',\n",
        "]\n",
        "dataframe_grid = pd.DataFrame(columns= Colunas) #dataframe para guarda os valores dos grids\n",
        "\n",
        "\n",
        "#instanciando o 5-fold's\n",
        "kfold = KFold(n_splits=5, shuffle=True, random_state=42)\n"
      ],
      "execution_count": null,
      "outputs": []
    },
    {
      "cell_type": "markdown",
      "metadata": {
        "id": "vVUldxO-_VhX"
      },
      "source": [
        "##Pipeline e Gridsearch KNN"
      ]
    },
    {
      "cell_type": "code",
      "metadata": {
        "colab": {
          "base_uri": "https://localhost:8080/"
        },
        "id": "_1v-Rw8VnvMe",
        "outputId": "dd9346d2-a745-43f2-9ae7-96259c22b270"
      },
      "source": [
        "#criando o pipeline para KNN\n",
        "model_knn = Pipeline(steps=[('scaler_normalize', preprocessing.MinMaxScaler()),\n",
        "                        ('std_scaler', preprocessing.StandardScaler()),\n",
        "                       ('classifier', KNeighborsClassifier())\n",
        "])\n",
        "\n",
        "model_knn.get_params().keys()\n"
      ],
      "execution_count": null,
      "outputs": [
        {
          "output_type": "execute_result",
          "data": {
            "text/plain": [
              "dict_keys(['memory', 'steps', 'verbose', 'scaler_normalize', 'std_scaler', 'classifier', 'scaler_normalize__copy', 'scaler_normalize__feature_range', 'std_scaler__copy', 'std_scaler__with_mean', 'std_scaler__with_std', 'classifier__algorithm', 'classifier__leaf_size', 'classifier__metric', 'classifier__metric_params', 'classifier__n_jobs', 'classifier__n_neighbors', 'classifier__p', 'classifier__weights'])"
            ]
          },
          "metadata": {},
          "execution_count": 147
        }
      ]
    },
    {
      "cell_type": "code",
      "metadata": {
        "colab": {
          "base_uri": "https://localhost:8080/"
        },
        "id": "afmDUYWn7jqD",
        "outputId": "d35093fe-97ea-4c67-b3df-4e21f9b43d6d"
      },
      "source": [
        "#paramentros do knn para gridsearch\n",
        "parameters_knn = {'classifier__n_neighbors': [1,3,5,7], \n",
        "                  'classifier__algorithm': ['auto' , 'ball_tree', 'kd_tree', 'brute'],\n",
        "                  'classifier__weights': ['uniform' , 'distance'],\n",
        "                  'classifier__metric': ['euclidean' , 'manhattan']}\n",
        "\n",
        "#instanciando o gridsearch\n",
        "grid = GridSearchCV(model_knn, param_grid= parameters_knn ,cv=kfold, n_jobs=-1, scoring= 'f1', return_train_score=False)\n",
        "grid.fit(X, y)\n",
        "\n",
        "# qual o melhor combinação\n",
        "print(grid.best_estimator_)\n",
        "#melhor f1\n",
        "print(grid.best_score_)"
      ],
      "execution_count": null,
      "outputs": [
        {
          "output_type": "stream",
          "text": [
            "Pipeline(memory=None,\n",
            "         steps=[('scaler_normalize',\n",
            "                 MinMaxScaler(copy=True, feature_range=(0, 1))),\n",
            "                ('std_scaler',\n",
            "                 StandardScaler(copy=True, with_mean=True, with_std=True)),\n",
            "                ('classifier',\n",
            "                 KNeighborsClassifier(algorithm='auto', leaf_size=30,\n",
            "                                      metric='manhattan', metric_params=None,\n",
            "                                      n_jobs=None, n_neighbors=7, p=2,\n",
            "                                      weights='distance'))],\n",
            "         verbose=False)\n",
            "0.7508519068157608\n"
          ],
          "name": "stdout"
        }
      ]
    },
    {
      "cell_type": "code",
      "metadata": {
        "colab": {
          "base_uri": "https://localhost:8080/",
          "height": 80
        },
        "id": "zoAptE0aRClp",
        "outputId": "fa4daf6e-8cce-4e86-eec8-25a288c31b72"
      },
      "source": [
        "#adicionando resultados na dataframe\n",
        "dataframe_grid.loc[len(dataframe_grid)] = 'KNN' ,grid.best_params_ ,grid.best_score_\n",
        "\n",
        "dataframe_grid"
      ],
      "execution_count": null,
      "outputs": [
        {
          "output_type": "execute_result",
          "data": {
            "text/html": [
              "<div>\n",
              "<style scoped>\n",
              "    .dataframe tbody tr th:only-of-type {\n",
              "        vertical-align: middle;\n",
              "    }\n",
              "\n",
              "    .dataframe tbody tr th {\n",
              "        vertical-align: top;\n",
              "    }\n",
              "\n",
              "    .dataframe thead th {\n",
              "        text-align: right;\n",
              "    }\n",
              "</style>\n",
              "<table border=\"1\" class=\"dataframe\">\n",
              "  <thead>\n",
              "    <tr style=\"text-align: right;\">\n",
              "      <th></th>\n",
              "      <th>algoritmo</th>\n",
              "      <th>parametros</th>\n",
              "      <th>F1_score</th>\n",
              "    </tr>\n",
              "  </thead>\n",
              "  <tbody>\n",
              "    <tr>\n",
              "      <th>0</th>\n",
              "      <td>KNN</td>\n",
              "      <td>{'classifier__algorithm': 'auto', 'classifier_...</td>\n",
              "      <td>0.750852</td>\n",
              "    </tr>\n",
              "  </tbody>\n",
              "</table>\n",
              "</div>"
            ],
            "text/plain": [
              "  algoritmo                                         parametros  F1_score\n",
              "0       KNN  {'classifier__algorithm': 'auto', 'classifier_...  0.750852"
            ]
          },
          "metadata": {},
          "execution_count": 149
        }
      ]
    },
    {
      "cell_type": "markdown",
      "metadata": {
        "id": "OMD6vN1wGBe6"
      },
      "source": [
        "##Pipeline e Gridsearch SVM\n",
        "\n",
        "\n"
      ]
    },
    {
      "cell_type": "code",
      "metadata": {
        "colab": {
          "base_uri": "https://localhost:8080/"
        },
        "id": "YNCNnrtgGARB",
        "outputId": "9e55eee4-5bdc-408d-9004-850c844b72a8"
      },
      "source": [
        "#criando o pipeline para SVM\n",
        "model_svm = Pipeline(steps=[('scaler_normalize', preprocessing.MinMaxScaler()), \n",
        "                       ('std_scaler', preprocessing.StandardScaler()),\n",
        "                       ('classifier', svm.SVC(random_state=42))\n",
        "])\n",
        "\n",
        "model_svm.get_params().keys()"
      ],
      "execution_count": null,
      "outputs": [
        {
          "output_type": "execute_result",
          "data": {
            "text/plain": [
              "dict_keys(['memory', 'steps', 'verbose', 'scaler_normalize', 'std_scaler', 'classifier', 'scaler_normalize__copy', 'scaler_normalize__feature_range', 'std_scaler__copy', 'std_scaler__with_mean', 'std_scaler__with_std', 'classifier__C', 'classifier__break_ties', 'classifier__cache_size', 'classifier__class_weight', 'classifier__coef0', 'classifier__decision_function_shape', 'classifier__degree', 'classifier__gamma', 'classifier__kernel', 'classifier__max_iter', 'classifier__probability', 'classifier__random_state', 'classifier__shrinking', 'classifier__tol', 'classifier__verbose'])"
            ]
          },
          "metadata": {},
          "execution_count": 150
        }
      ]
    },
    {
      "cell_type": "code",
      "metadata": {
        "id": "hsxP91f8Gn25",
        "colab": {
          "base_uri": "https://localhost:8080/"
        },
        "outputId": "342698e6-915e-4024-f102-30fe4b45c49d"
      },
      "source": [
        "#paramentros do svm para gridsearch\n",
        "parameters_svm = {            \n",
        "             'classifier__C': np.logspace(0,4,10),\n",
        "             'classifier__kernel': ['rbf'],\n",
        "             'classifier__gamma': ['scale', 'auto'],\n",
        "             'classifier__max_iter': [-1,10,100]}\n",
        "\n",
        "#instanciando o gridsearch\n",
        "grid = GridSearchCV(model_svm, param_grid= parameters_svm ,cv=kfold, n_jobs=-1, scoring= 'f1', return_train_score=False)\n",
        "grid.fit(X, y)\n",
        "\n",
        "# qual o melhor combinação\n",
        "print(grid.best_estimator_)\n",
        "#melhor f1\n",
        "print(grid.best_score_)"
      ],
      "execution_count": null,
      "outputs": [
        {
          "output_type": "stream",
          "text": [
            "Pipeline(memory=None,\n",
            "         steps=[('scaler_normalize',\n",
            "                 MinMaxScaler(copy=True, feature_range=(0, 1))),\n",
            "                ('std_scaler',\n",
            "                 StandardScaler(copy=True, with_mean=True, with_std=True)),\n",
            "                ('classifier',\n",
            "                 SVC(C=1.0, break_ties=False, cache_size=200, class_weight=None,\n",
            "                     coef0=0.0, decision_function_shape='ovr', degree=3,\n",
            "                     gamma='scale', kernel='rbf', max_iter=-1,\n",
            "                     probability=False, random_state=42, shrinking=True,\n",
            "                     tol=0.001, verbose=False))],\n",
            "         verbose=False)\n",
            "0.8052826628391673\n"
          ],
          "name": "stdout"
        }
      ]
    },
    {
      "cell_type": "code",
      "metadata": {
        "colab": {
          "base_uri": "https://localhost:8080/",
          "height": 111
        },
        "id": "RpucM_G3V5c-",
        "outputId": "14bb134e-6f49-4747-a33b-24de83f6a41e"
      },
      "source": [
        "#adicionando resultados na dataframe\n",
        "dataframe_grid.loc[len(dataframe_grid)] = 'SVM' ,grid.best_params_ ,grid.best_score_\n",
        "\n",
        "dataframe_grid"
      ],
      "execution_count": null,
      "outputs": [
        {
          "output_type": "execute_result",
          "data": {
            "text/html": [
              "<div>\n",
              "<style scoped>\n",
              "    .dataframe tbody tr th:only-of-type {\n",
              "        vertical-align: middle;\n",
              "    }\n",
              "\n",
              "    .dataframe tbody tr th {\n",
              "        vertical-align: top;\n",
              "    }\n",
              "\n",
              "    .dataframe thead th {\n",
              "        text-align: right;\n",
              "    }\n",
              "</style>\n",
              "<table border=\"1\" class=\"dataframe\">\n",
              "  <thead>\n",
              "    <tr style=\"text-align: right;\">\n",
              "      <th></th>\n",
              "      <th>algoritmo</th>\n",
              "      <th>parametros</th>\n",
              "      <th>F1_score</th>\n",
              "    </tr>\n",
              "  </thead>\n",
              "  <tbody>\n",
              "    <tr>\n",
              "      <th>0</th>\n",
              "      <td>KNN</td>\n",
              "      <td>{'classifier__algorithm': 'auto', 'classifier_...</td>\n",
              "      <td>0.750852</td>\n",
              "    </tr>\n",
              "    <tr>\n",
              "      <th>1</th>\n",
              "      <td>SVM</td>\n",
              "      <td>{'classifier__C': 1.0, 'classifier__gamma': 's...</td>\n",
              "      <td>0.805283</td>\n",
              "    </tr>\n",
              "  </tbody>\n",
              "</table>\n",
              "</div>"
            ],
            "text/plain": [
              "  algoritmo                                         parametros  F1_score\n",
              "0       KNN  {'classifier__algorithm': 'auto', 'classifier_...  0.750852\n",
              "1       SVM  {'classifier__C': 1.0, 'classifier__gamma': 's...  0.805283"
            ]
          },
          "metadata": {},
          "execution_count": 152
        }
      ]
    },
    {
      "cell_type": "markdown",
      "metadata": {
        "id": "UwpB4J4oHy4r"
      },
      "source": [
        "##Pipeline e Gridseach Árvore de Decisão\n",
        "\n"
      ]
    },
    {
      "cell_type": "code",
      "metadata": {
        "colab": {
          "base_uri": "https://localhost:8080/"
        },
        "id": "IovSZJnyyKcl",
        "outputId": "3a0d3e0e-7c09-4655-8d3a-de34b1b97e73"
      },
      "source": [
        "#criando o pipeline para decisiontree\n",
        "model_decisiontree = Pipeline(steps=[('scaler_normalize', preprocessing.MinMaxScaler()), \n",
        "                       ('std_scaler', preprocessing.StandardScaler()),\n",
        "                       ('classifier', DecisionTreeClassifier())\n",
        "])\n",
        "\n",
        "model_decisiontree.get_params().keys()"
      ],
      "execution_count": null,
      "outputs": [
        {
          "output_type": "execute_result",
          "data": {
            "text/plain": [
              "dict_keys(['memory', 'steps', 'verbose', 'scaler_normalize', 'std_scaler', 'classifier', 'scaler_normalize__copy', 'scaler_normalize__feature_range', 'std_scaler__copy', 'std_scaler__with_mean', 'std_scaler__with_std', 'classifier__ccp_alpha', 'classifier__class_weight', 'classifier__criterion', 'classifier__max_depth', 'classifier__max_features', 'classifier__max_leaf_nodes', 'classifier__min_impurity_decrease', 'classifier__min_impurity_split', 'classifier__min_samples_leaf', 'classifier__min_samples_split', 'classifier__min_weight_fraction_leaf', 'classifier__presort', 'classifier__random_state', 'classifier__splitter'])"
            ]
          },
          "metadata": {},
          "execution_count": 153
        }
      ]
    },
    {
      "cell_type": "code",
      "metadata": {
        "id": "5Eep1wGMJw_o",
        "colab": {
          "base_uri": "https://localhost:8080/"
        },
        "outputId": "a2ad6d2a-6eae-47d3-bcbf-f821886fb726"
      },
      "source": [
        "#paramentros do grid para decisiontree\n",
        "parameters_decisiontree = {     \n",
        "             'classifier__criterion' : ['gini', 'entropy'],\n",
        "             'classifier__max_depth' : [2,4,6,8,10,12]\n",
        "             }\n",
        "\n",
        "#instanciando o gridsearch\n",
        "grid = GridSearchCV(model_decisiontree, param_grid= parameters_decisiontree ,cv=kfold, n_jobs=-1, scoring= 'f1', return_train_score=False)\n",
        "grid.fit(X, y)\n",
        "\n",
        "# qual o melhor combinação\n",
        "print(grid.best_estimator_)\n",
        "#melhor f1\n",
        "print(grid.best_score_)"
      ],
      "execution_count": null,
      "outputs": [
        {
          "output_type": "stream",
          "text": [
            "Pipeline(memory=None,\n",
            "         steps=[('scaler_normalize',\n",
            "                 MinMaxScaler(copy=True, feature_range=(0, 1))),\n",
            "                ('std_scaler',\n",
            "                 StandardScaler(copy=True, with_mean=True, with_std=True)),\n",
            "                ('classifier',\n",
            "                 DecisionTreeClassifier(ccp_alpha=0.0, class_weight=None,\n",
            "                                        criterion='gini', max_depth=8,\n",
            "                                        max_features=None, max_leaf_nodes=None,\n",
            "                                        min_impurity_decrease=0.0,\n",
            "                                        min_impurity_split=None,\n",
            "                                        min_samples_leaf=1, min_samples_split=2,\n",
            "                                        min_weight_fraction_leaf=0.0,\n",
            "                                        presort='deprecated', random_state=None,\n",
            "                                        splitter='best'))],\n",
            "         verbose=False)\n",
            "0.7996703469990074\n"
          ],
          "name": "stdout"
        }
      ]
    },
    {
      "cell_type": "code",
      "metadata": {
        "colab": {
          "base_uri": "https://localhost:8080/",
          "height": 142
        },
        "id": "YXpCO_gEZhBU",
        "outputId": "70d01470-50a0-4a77-ab80-59be73c38c71"
      },
      "source": [
        "#adicionando resultados na dataframe\n",
        "dataframe_grid.loc[len(dataframe_grid)] = 'Arvore de decisão' ,grid.best_params_ ,grid.best_score_\n",
        "\n",
        "dataframe_grid"
      ],
      "execution_count": null,
      "outputs": [
        {
          "output_type": "execute_result",
          "data": {
            "text/html": [
              "<div>\n",
              "<style scoped>\n",
              "    .dataframe tbody tr th:only-of-type {\n",
              "        vertical-align: middle;\n",
              "    }\n",
              "\n",
              "    .dataframe tbody tr th {\n",
              "        vertical-align: top;\n",
              "    }\n",
              "\n",
              "    .dataframe thead th {\n",
              "        text-align: right;\n",
              "    }\n",
              "</style>\n",
              "<table border=\"1\" class=\"dataframe\">\n",
              "  <thead>\n",
              "    <tr style=\"text-align: right;\">\n",
              "      <th></th>\n",
              "      <th>algoritmo</th>\n",
              "      <th>parametros</th>\n",
              "      <th>F1_score</th>\n",
              "    </tr>\n",
              "  </thead>\n",
              "  <tbody>\n",
              "    <tr>\n",
              "      <th>0</th>\n",
              "      <td>KNN</td>\n",
              "      <td>{'classifier__algorithm': 'auto', 'classifier_...</td>\n",
              "      <td>0.750852</td>\n",
              "    </tr>\n",
              "    <tr>\n",
              "      <th>1</th>\n",
              "      <td>SVM</td>\n",
              "      <td>{'classifier__C': 1.0, 'classifier__gamma': 's...</td>\n",
              "      <td>0.805283</td>\n",
              "    </tr>\n",
              "    <tr>\n",
              "      <th>2</th>\n",
              "      <td>Arvore de decisão</td>\n",
              "      <td>{'classifier__criterion': 'gini', 'classifier_...</td>\n",
              "      <td>0.799670</td>\n",
              "    </tr>\n",
              "  </tbody>\n",
              "</table>\n",
              "</div>"
            ],
            "text/plain": [
              "           algoritmo  ...  F1_score\n",
              "0                KNN  ...  0.750852\n",
              "1                SVM  ...  0.805283\n",
              "2  Arvore de decisão  ...  0.799670\n",
              "\n",
              "[3 rows x 3 columns]"
            ]
          },
          "metadata": {},
          "execution_count": 155
        }
      ]
    },
    {
      "cell_type": "markdown",
      "metadata": {
        "id": "HrALTXrsK5YD"
      },
      "source": [
        "##Pipeline e Gridseach Random Forest\n"
      ]
    },
    {
      "cell_type": "code",
      "metadata": {
        "colab": {
          "base_uri": "https://localhost:8080/"
        },
        "id": "WjB5b3aIVPzV",
        "outputId": "0f4005b0-8db3-4a66-97cb-34a34f189c57"
      },
      "source": [
        "#criando o pipeline para Random forest\n",
        "model_rf = Pipeline(steps=[('scaler_normalize', preprocessing.MinMaxScaler()), \n",
        "                       ('std_scaler', preprocessing.StandardScaler()),\n",
        "                       ('classifier', RandomForestClassifier(random_state=42))\n",
        "])\n",
        "\n",
        "model_rf.get_params().keys()"
      ],
      "execution_count": null,
      "outputs": [
        {
          "output_type": "execute_result",
          "data": {
            "text/plain": [
              "dict_keys(['memory', 'steps', 'verbose', 'scaler_normalize', 'std_scaler', 'classifier', 'scaler_normalize__copy', 'scaler_normalize__feature_range', 'std_scaler__copy', 'std_scaler__with_mean', 'std_scaler__with_std', 'classifier__bootstrap', 'classifier__ccp_alpha', 'classifier__class_weight', 'classifier__criterion', 'classifier__max_depth', 'classifier__max_features', 'classifier__max_leaf_nodes', 'classifier__max_samples', 'classifier__min_impurity_decrease', 'classifier__min_impurity_split', 'classifier__min_samples_leaf', 'classifier__min_samples_split', 'classifier__min_weight_fraction_leaf', 'classifier__n_estimators', 'classifier__n_jobs', 'classifier__oob_score', 'classifier__random_state', 'classifier__verbose', 'classifier__warm_start'])"
            ]
          },
          "metadata": {},
          "execution_count": 156
        }
      ]
    },
    {
      "cell_type": "code",
      "metadata": {
        "colab": {
          "base_uri": "https://localhost:8080/"
        },
        "id": "bdXxqk-VLntR",
        "outputId": "bdb2b538-a1c9-4b79-a70b-05e1a829d69f"
      },
      "source": [
        "#parametros para grid_seach Random forest\n",
        "parameters_rf = { \n",
        "    'classifier__n_estimators': [200, 500],\n",
        "    'classifier__max_features': ['auto', 'sqrt', 'log2'],\n",
        "    'classifier__max_depth' : [4,5,6,7,8],\n",
        "    'classifier__criterion' :['gini', 'entropy']\n",
        "}\n",
        "\n",
        "grid = GridSearchCV(model_rf, param_grid= parameters_rf ,cv=kfold, n_jobs=-1, scoring= 'f1', return_train_score=False)\n",
        "grid.fit(X, y)\n",
        "\n",
        "# qual o melhor combinação\n",
        "print(grid.best_estimator_)\n",
        "#melhor f1\n",
        "print(grid.best_score_)"
      ],
      "execution_count": null,
      "outputs": [
        {
          "output_type": "stream",
          "text": [
            "Pipeline(memory=None,\n",
            "         steps=[('scaler_normalize',\n",
            "                 MinMaxScaler(copy=True, feature_range=(0, 1))),\n",
            "                ('std_scaler',\n",
            "                 StandardScaler(copy=True, with_mean=True, with_std=True)),\n",
            "                ('classifier',\n",
            "                 RandomForestClassifier(bootstrap=True, ccp_alpha=0.0,\n",
            "                                        class_weight=None, criterion='gini',\n",
            "                                        max_depth=8, max_features='auto',\n",
            "                                        max_leaf_nodes=None, max_samples=None,\n",
            "                                        min_impurity_decrease=0.0,\n",
            "                                        min_impurity_split=None,\n",
            "                                        min_samples_leaf=1, min_samples_split=2,\n",
            "                                        min_weight_fraction_leaf=0.0,\n",
            "                                        n_estimators=200, n_jobs=None,\n",
            "                                        oob_score=False, random_state=42,\n",
            "                                        verbose=0, warm_start=False))],\n",
            "         verbose=False)\n",
            "0.8184387186219568\n"
          ],
          "name": "stdout"
        }
      ]
    },
    {
      "cell_type": "code",
      "metadata": {
        "colab": {
          "base_uri": "https://localhost:8080/",
          "height": 173
        },
        "id": "uN_mP9FzZiQV",
        "outputId": "de4ab671-af10-4623-a5d7-a529b28a2c30"
      },
      "source": [
        "#adicionando resultados na dataframe\n",
        "dataframe_grid.loc[len(dataframe_grid)] = 'Random forest' ,grid.best_params_ ,grid.best_score_\n",
        "\n",
        "dataframe_grid"
      ],
      "execution_count": null,
      "outputs": [
        {
          "output_type": "execute_result",
          "data": {
            "text/html": [
              "<div>\n",
              "<style scoped>\n",
              "    .dataframe tbody tr th:only-of-type {\n",
              "        vertical-align: middle;\n",
              "    }\n",
              "\n",
              "    .dataframe tbody tr th {\n",
              "        vertical-align: top;\n",
              "    }\n",
              "\n",
              "    .dataframe thead th {\n",
              "        text-align: right;\n",
              "    }\n",
              "</style>\n",
              "<table border=\"1\" class=\"dataframe\">\n",
              "  <thead>\n",
              "    <tr style=\"text-align: right;\">\n",
              "      <th></th>\n",
              "      <th>algoritmo</th>\n",
              "      <th>parametros</th>\n",
              "      <th>F1_score</th>\n",
              "    </tr>\n",
              "  </thead>\n",
              "  <tbody>\n",
              "    <tr>\n",
              "      <th>0</th>\n",
              "      <td>KNN</td>\n",
              "      <td>{'classifier__algorithm': 'auto', 'classifier_...</td>\n",
              "      <td>0.750852</td>\n",
              "    </tr>\n",
              "    <tr>\n",
              "      <th>1</th>\n",
              "      <td>SVM</td>\n",
              "      <td>{'classifier__C': 1.0, 'classifier__gamma': 's...</td>\n",
              "      <td>0.805283</td>\n",
              "    </tr>\n",
              "    <tr>\n",
              "      <th>2</th>\n",
              "      <td>Arvore de decisão</td>\n",
              "      <td>{'classifier__criterion': 'gini', 'classifier_...</td>\n",
              "      <td>0.799670</td>\n",
              "    </tr>\n",
              "    <tr>\n",
              "      <th>3</th>\n",
              "      <td>Random forest</td>\n",
              "      <td>{'classifier__criterion': 'gini', 'classifier_...</td>\n",
              "      <td>0.818439</td>\n",
              "    </tr>\n",
              "  </tbody>\n",
              "</table>\n",
              "</div>"
            ],
            "text/plain": [
              "           algoritmo  ...  F1_score\n",
              "0                KNN  ...  0.750852\n",
              "1                SVM  ...  0.805283\n",
              "2  Arvore de decisão  ...  0.799670\n",
              "3      Random forest  ...  0.818439\n",
              "\n",
              "[4 rows x 3 columns]"
            ]
          },
          "metadata": {},
          "execution_count": 158
        }
      ]
    },
    {
      "cell_type": "markdown",
      "metadata": {
        "id": "Zs92AZ0LNvXN"
      },
      "source": [
        "##Pipeline e Gridseach Gradient Boosting\n",
        "\n",
        "\n",
        "\n"
      ]
    },
    {
      "cell_type": "code",
      "metadata": {
        "colab": {
          "base_uri": "https://localhost:8080/"
        },
        "id": "1es_oZhCVnQw",
        "outputId": "2f8f6048-34fc-4a34-f966-3b7b7399cbfc"
      },
      "source": [
        "#criando o pipeline para Gradient Boosting\n",
        "model_GB = Pipeline(steps=[('std_scaler', preprocessing.StandardScaler()),\n",
        "                       ('classifier', GradientBoostingClassifier())\n",
        "])\n",
        "\n",
        "model_GB.get_params().keys()"
      ],
      "execution_count": null,
      "outputs": [
        {
          "output_type": "execute_result",
          "data": {
            "text/plain": [
              "dict_keys(['memory', 'steps', 'verbose', 'std_scaler', 'classifier', 'std_scaler__copy', 'std_scaler__with_mean', 'std_scaler__with_std', 'classifier__ccp_alpha', 'classifier__criterion', 'classifier__init', 'classifier__learning_rate', 'classifier__loss', 'classifier__max_depth', 'classifier__max_features', 'classifier__max_leaf_nodes', 'classifier__min_impurity_decrease', 'classifier__min_impurity_split', 'classifier__min_samples_leaf', 'classifier__min_samples_split', 'classifier__min_weight_fraction_leaf', 'classifier__n_estimators', 'classifier__n_iter_no_change', 'classifier__presort', 'classifier__random_state', 'classifier__subsample', 'classifier__tol', 'classifier__validation_fraction', 'classifier__verbose', 'classifier__warm_start'])"
            ]
          },
          "metadata": {},
          "execution_count": 159
        }
      ]
    },
    {
      "cell_type": "code",
      "metadata": {
        "id": "Eu7P7lYbQLS9",
        "colab": {
          "base_uri": "https://localhost:8080/"
        },
        "outputId": "67f2803c-183c-4d1a-f043-9c42d16725e0"
      },
      "source": [
        "model_GB =GradientBoostingClassifier()\n",
        "\n",
        "#parametros para grid_seach gradient boosting\n",
        "parameters_GB = {\n",
        "    \"learning_rate\": [0.01, 0.025, 0.05],\n",
        "    \"max_depth\":[3,4,5],\n",
        "    \"max_features\":[\"log2\"],\n",
        "    \"criterion\": [\"mae\"],\n",
        "    }\n",
        "\n",
        "grid = GridSearchCV(model_GB, param_grid= parameters_GB ,cv=kfold, n_jobs=-1, scoring= 'f1', return_train_score=False)\n",
        "grid.fit(X, y)\n",
        "\n",
        "# qual o melhor combinação\n",
        "print(grid.best_estimator_)\n",
        "#melhor f1\n",
        "print(grid.best_score_)\n"
      ],
      "execution_count": null,
      "outputs": [
        {
          "output_type": "stream",
          "text": [
            "GradientBoostingClassifier(ccp_alpha=0.0, criterion='mae', init=None,\n",
            "                           learning_rate=0.05, loss='deviance', max_depth=5,\n",
            "                           max_features='log2', max_leaf_nodes=None,\n",
            "                           min_impurity_decrease=0.0, min_impurity_split=None,\n",
            "                           min_samples_leaf=1, min_samples_split=2,\n",
            "                           min_weight_fraction_leaf=0.0, n_estimators=100,\n",
            "                           n_iter_no_change=None, presort='deprecated',\n",
            "                           random_state=None, subsample=1.0, tol=0.0001,\n",
            "                           validation_fraction=0.1, verbose=0,\n",
            "                           warm_start=False)\n",
            "0.8147091327303599\n"
          ],
          "name": "stdout"
        }
      ]
    },
    {
      "cell_type": "code",
      "metadata": {
        "colab": {
          "base_uri": "https://localhost:8080/"
        },
        "id": "6AehXKbvZjTQ",
        "outputId": "29ca3886-e6a0-4dc3-919e-e1e227668b47"
      },
      "source": [
        "#adicionando resultados na dataframe\n",
        "dataframe_grid.loc[len(dataframe_grid)] = 'Gradient boosting' ,grid.best_params_ ,grid.best_score_\n",
        "\n",
        "dataframe_grid"
      ],
      "execution_count": null,
      "outputs": [
        {
          "output_type": "execute_result",
          "data": {
            "text/html": [
              "<div>\n",
              "<style scoped>\n",
              "    .dataframe tbody tr th:only-of-type {\n",
              "        vertical-align: middle;\n",
              "    }\n",
              "\n",
              "    .dataframe tbody tr th {\n",
              "        vertical-align: top;\n",
              "    }\n",
              "\n",
              "    .dataframe thead th {\n",
              "        text-align: right;\n",
              "    }\n",
              "</style>\n",
              "<table border=\"1\" class=\"dataframe\">\n",
              "  <thead>\n",
              "    <tr style=\"text-align: right;\">\n",
              "      <th></th>\n",
              "      <th>algoritmo</th>\n",
              "      <th>parametros</th>\n",
              "      <th>F1_score</th>\n",
              "    </tr>\n",
              "  </thead>\n",
              "  <tbody>\n",
              "    <tr>\n",
              "      <th>0</th>\n",
              "      <td>KNN</td>\n",
              "      <td>{'classifier__algorithm': 'auto', 'classifier_...</td>\n",
              "      <td>0.750852</td>\n",
              "    </tr>\n",
              "    <tr>\n",
              "      <th>1</th>\n",
              "      <td>SVM</td>\n",
              "      <td>{'classifier__C': 1.0, 'classifier__gamma': 's...</td>\n",
              "      <td>0.805283</td>\n",
              "    </tr>\n",
              "    <tr>\n",
              "      <th>2</th>\n",
              "      <td>Arvore de decisão</td>\n",
              "      <td>{'classifier__criterion': 'gini', 'classifier_...</td>\n",
              "      <td>0.799670</td>\n",
              "    </tr>\n",
              "    <tr>\n",
              "      <th>3</th>\n",
              "      <td>Random forest</td>\n",
              "      <td>{'classifier__criterion': 'gini', 'classifier_...</td>\n",
              "      <td>0.818439</td>\n",
              "    </tr>\n",
              "    <tr>\n",
              "      <th>4</th>\n",
              "      <td>Gradient boosting</td>\n",
              "      <td>{'criterion': 'mae', 'learning_rate': 0.05, 'm...</td>\n",
              "      <td>0.814709</td>\n",
              "    </tr>\n",
              "  </tbody>\n",
              "</table>\n",
              "</div>"
            ],
            "text/plain": [
              "           algoritmo  ...  F1_score\n",
              "0                KNN  ...  0.750852\n",
              "1                SVM  ...  0.805283\n",
              "2  Arvore de decisão  ...  0.799670\n",
              "3      Random forest  ...  0.818439\n",
              "4  Gradient boosting  ...  0.814709\n",
              "\n",
              "[5 rows x 3 columns]"
            ]
          },
          "metadata": {},
          "execution_count": 161
        }
      ]
    },
    {
      "cell_type": "markdown",
      "metadata": {
        "id": "4tRmZ3AuUYug"
      },
      "source": [
        "##Pipeline e Gridseach Rede Neural\n"
      ]
    },
    {
      "cell_type": "code",
      "metadata": {
        "colab": {
          "base_uri": "https://localhost:8080/"
        },
        "id": "X6obCVlmWjMb",
        "outputId": "f8043132-b83c-4156-992f-3f56c6c2dee5"
      },
      "source": [
        "#criando o pipeline para Rede Neural\n",
        "model_RN = Pipeline(steps=[ ('std_scaler', preprocessing.StandardScaler()),\n",
        "                       ('classifier',MLPClassifier())\n",
        "])\n",
        "\n",
        "model_RN.get_params().keys()"
      ],
      "execution_count": null,
      "outputs": [
        {
          "output_type": "execute_result",
          "data": {
            "text/plain": [
              "dict_keys(['memory', 'steps', 'verbose', 'std_scaler', 'classifier', 'std_scaler__copy', 'std_scaler__with_mean', 'std_scaler__with_std', 'classifier__activation', 'classifier__alpha', 'classifier__batch_size', 'classifier__beta_1', 'classifier__beta_2', 'classifier__early_stopping', 'classifier__epsilon', 'classifier__hidden_layer_sizes', 'classifier__learning_rate', 'classifier__learning_rate_init', 'classifier__max_fun', 'classifier__max_iter', 'classifier__momentum', 'classifier__n_iter_no_change', 'classifier__nesterovs_momentum', 'classifier__power_t', 'classifier__random_state', 'classifier__shuffle', 'classifier__solver', 'classifier__tol', 'classifier__validation_fraction', 'classifier__verbose', 'classifier__warm_start'])"
            ]
          },
          "metadata": {},
          "execution_count": 162
        }
      ]
    },
    {
      "cell_type": "code",
      "metadata": {
        "colab": {
          "base_uri": "https://localhost:8080/"
        },
        "id": "sFKOeMzJUYW3",
        "outputId": "0ec48627-587d-4691-b9b9-968f3d387fb1"
      },
      "source": [
        "model_RN = MLPClassifier()\n",
        "\n",
        "parameters_RN = {\n",
        "    'solver': ['lbfgs'],\n",
        "    'max_iter': [500,1000],\n",
        "    'alpha': 10.0 ** -np.arange(1, 7), #valores de alpha 1.e-01, 1.e-02, 1.e-03, 1.e-04, 1.e-05, 1.e-06])\n",
        "    'hidden_layer_sizes':np.arange(5, 9),\n",
        "    'random_state':[3,4,5,6]\n",
        "  }\n",
        "  \n",
        "grid = GridSearchCV(model_RN, param_grid= parameters_RN ,cv=kfold, n_jobs=-1, scoring= 'f1', return_train_score=False)\n",
        "grid.fit(X,y)\n",
        "\n",
        "# qual o melhor combinação\n",
        "print(grid.best_estimator_)\n",
        "#melhor f1\n",
        "print(grid.best_score_)\n"
      ],
      "execution_count": null,
      "outputs": [
        {
          "output_type": "stream",
          "text": [
            "MLPClassifier(activation='relu', alpha=0.1, batch_size='auto', beta_1=0.9,\n",
            "              beta_2=0.999, early_stopping=False, epsilon=1e-08,\n",
            "              hidden_layer_sizes=6, learning_rate='constant',\n",
            "              learning_rate_init=0.001, max_fun=15000, max_iter=500,\n",
            "              momentum=0.9, n_iter_no_change=10, nesterovs_momentum=True,\n",
            "              power_t=0.5, random_state=3, shuffle=True, solver='lbfgs',\n",
            "              tol=0.0001, validation_fraction=0.1, verbose=False,\n",
            "              warm_start=False)\n",
            "0.6664289906571365\n"
          ],
          "name": "stdout"
        }
      ]
    },
    {
      "cell_type": "code",
      "metadata": {
        "colab": {
          "base_uri": "https://localhost:8080/"
        },
        "id": "5-M36nIsZkZr",
        "outputId": "938647c2-54a8-4e20-f7a5-d702aee68231"
      },
      "source": [
        "#adicionando resultados na dataframe\n",
        "dataframe_grid.loc[len(dataframe_grid)] = 'Rede Neural' ,grid.best_params_ ,grid.best_score_\n",
        "\n",
        "dataframe_grid"
      ],
      "execution_count": null,
      "outputs": [
        {
          "output_type": "execute_result",
          "data": {
            "text/html": [
              "<div>\n",
              "<style scoped>\n",
              "    .dataframe tbody tr th:only-of-type {\n",
              "        vertical-align: middle;\n",
              "    }\n",
              "\n",
              "    .dataframe tbody tr th {\n",
              "        vertical-align: top;\n",
              "    }\n",
              "\n",
              "    .dataframe thead th {\n",
              "        text-align: right;\n",
              "    }\n",
              "</style>\n",
              "<table border=\"1\" class=\"dataframe\">\n",
              "  <thead>\n",
              "    <tr style=\"text-align: right;\">\n",
              "      <th></th>\n",
              "      <th>algoritmo</th>\n",
              "      <th>parametros</th>\n",
              "      <th>F1_score</th>\n",
              "    </tr>\n",
              "  </thead>\n",
              "  <tbody>\n",
              "    <tr>\n",
              "      <th>0</th>\n",
              "      <td>KNN</td>\n",
              "      <td>{'classifier__algorithm': 'auto', 'classifier_...</td>\n",
              "      <td>0.750852</td>\n",
              "    </tr>\n",
              "    <tr>\n",
              "      <th>1</th>\n",
              "      <td>SVM</td>\n",
              "      <td>{'classifier__C': 1.0, 'classifier__gamma': 's...</td>\n",
              "      <td>0.805283</td>\n",
              "    </tr>\n",
              "    <tr>\n",
              "      <th>2</th>\n",
              "      <td>Arvore de decisão</td>\n",
              "      <td>{'classifier__criterion': 'gini', 'classifier_...</td>\n",
              "      <td>0.799670</td>\n",
              "    </tr>\n",
              "    <tr>\n",
              "      <th>3</th>\n",
              "      <td>Random forest</td>\n",
              "      <td>{'classifier__criterion': 'gini', 'classifier_...</td>\n",
              "      <td>0.818439</td>\n",
              "    </tr>\n",
              "    <tr>\n",
              "      <th>4</th>\n",
              "      <td>Gradient boosting</td>\n",
              "      <td>{'criterion': 'mae', 'learning_rate': 0.05, 'm...</td>\n",
              "      <td>0.814709</td>\n",
              "    </tr>\n",
              "    <tr>\n",
              "      <th>5</th>\n",
              "      <td>Rede Neural</td>\n",
              "      <td>{'alpha': 0.1, 'hidden_layer_sizes': 6, 'max_i...</td>\n",
              "      <td>0.666429</td>\n",
              "    </tr>\n",
              "  </tbody>\n",
              "</table>\n",
              "</div>"
            ],
            "text/plain": [
              "           algoritmo  ...  F1_score\n",
              "0                KNN  ...  0.750852\n",
              "1                SVM  ...  0.805283\n",
              "2  Arvore de decisão  ...  0.799670\n",
              "3      Random forest  ...  0.818439\n",
              "4  Gradient boosting  ...  0.814709\n",
              "5        Rede Neural  ...  0.666429\n",
              "\n",
              "[6 rows x 3 columns]"
            ]
          },
          "metadata": {},
          "execution_count": 164
        }
      ]
    },
    {
      "cell_type": "markdown",
      "metadata": {
        "id": "BUFORizMPugC"
      },
      "source": [
        "##Avaliando melhor modelo"
      ]
    },
    {
      "cell_type": "code",
      "metadata": {
        "colab": {
          "base_uri": "https://localhost:8080/"
        },
        "id": "1Y-epMZFPybV",
        "outputId": "e1203e5d-1ad6-45c9-a20c-ff569e7acab5"
      },
      "source": [
        "#encontrando o maior valor de F1 \n",
        "result = dataframe_grid.loc[dataframe_grid['F1_score'].idxmax()]\n",
        "print(result , \"\\n \\n Lista de parametros\")\n",
        "\n",
        "\n",
        "result.parametros\n"
      ],
      "execution_count": null,
      "outputs": [
        {
          "output_type": "stream",
          "text": [
            "algoritmo                                         Random forest\n",
            "parametros    {'classifier__criterion': 'gini', 'classifier_...\n",
            "F1_score                                               0.818439\n",
            "Name: 3, dtype: object \n",
            " \n",
            " Lista de parametros\n"
          ],
          "name": "stdout"
        },
        {
          "output_type": "execute_result",
          "data": {
            "text/plain": [
              "{'classifier__criterion': 'gini',\n",
              " 'classifier__max_depth': 8,\n",
              " 'classifier__max_features': 'auto',\n",
              " 'classifier__n_estimators': 200}"
            ]
          },
          "metadata": {},
          "execution_count": 165
        }
      ]
    }
  ]
}