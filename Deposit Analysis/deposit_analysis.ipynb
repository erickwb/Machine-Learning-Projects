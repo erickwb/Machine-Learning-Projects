{
  "nbformat": 4,
  "nbformat_minor": 0,
  "metadata": {
    "colab": {
      "name": "deposit_analysis.ipynb",
      "provenance": [],
      "collapsed_sections": [],
      "mount_file_id": "1zKeL_la_ZyIQbLOPcFq8fnkCj9PhGohO",
      "authorship_tag": "ABX9TyM/zmmBvTER9WhayWuv7gXW",
      "include_colab_link": true
    },
    "kernelspec": {
      "name": "python3",
      "display_name": "Python 3"
    },
    "language_info": {
      "name": "python"
    }
  },
  "cells": [
    {
      "cell_type": "markdown",
      "metadata": {
        "id": "view-in-github",
        "colab_type": "text"
      },
      "source": [
        "<a href=\"https://colab.research.google.com/github/erickwb/Machine-Learning-Projects-py/blob/main/Deposit%20Analysis/deposit_analysis.ipynb\" target=\"_parent\"><img src=\"https://colab.research.google.com/assets/colab-badge.svg\" alt=\"Open In Colab\"/></a>"
      ]
    },
    {
      "cell_type": "markdown",
      "metadata": {
        "id": "s4SOeRqDrSoh"
      },
      "source": [
        "Name: Erick Correia Silva\n",
        "\n",
        "Dataframe: bank-additional\n",
        "\n",
        "Date: 07/09/2021\n"
      ]
    },
    {
      "cell_type": "code",
      "metadata": {
        "id": "aQRFKTr1IXuw"
      },
      "source": [
        "#import das bibliotecas\n",
        "\n",
        "import pandas as pd\n",
        "import numpy as np\n",
        "from sklearn import preprocessing\n",
        "from sklearn.preprocessing import LabelEncoder \n",
        "from sklearn.neighbors import KNeighborsClassifier\n",
        "from sklearn.model_selection import train_test_split\n",
        "from imblearn.under_sampling import NearMiss\n",
        "from sklearn.model_selection import cross_val_score\n",
        "from sklearn.model_selection import KFold\n",
        "from sklearn.pipeline import Pipeline\n",
        "from sklearn.model_selection import GridSearchCV\n",
        "#classificadores\n",
        "from sklearn.tree import DecisionTreeClassifier\n",
        "from sklearn.naive_bayes import GaussianNB\n",
        "from sklearn import svm\n",
        "from sklearn.ensemble import RandomForestClassifier\n",
        "from sklearn.ensemble import GradientBoostingClassifier\n",
        "from sklearn.neural_network import MLPClassifier\n",
        "#metricas\n",
        "from yellowbrick.classifier import ConfusionMatrix\n",
        "from sklearn import metrics\n",
        "from sklearn.metrics import f1_score\n",
        "#graficos\n",
        "import seaborn as sns\n",
        "\n"
      ],
      "execution_count": 104,
      "outputs": []
    },
    {
      "cell_type": "markdown",
      "metadata": {
        "id": "EkWT4S_I8fFm"
      },
      "source": [
        "##Pre processamento dos dados\n"
      ]
    },
    {
      "cell_type": "markdown",
      "metadata": {
        "id": "w_F_r9Tb8lA6"
      },
      "source": [
        "(instanciando o datset ,verificando se a dados faltantes, dividindo os dados de amostra e classe, transformando os dados categorios em dados numericos, balanceando os dados da classe ) "
      ]
    },
    {
      "cell_type": "code",
      "metadata": {
        "id": "qSRvuoVfws8M",
        "colab": {
          "base_uri": "https://localhost:8080/",
          "height": 456
        },
        "outputId": "8ec7aa69-e0ab-4b15-c7a7-ce5611fa058c"
      },
      "source": [
        "#abrindo dataset\n",
        "data = pd.read_csv(\"/content/drive/MyDrive/ML atividades /Dadasets/bank/bank-additional-full.csv\", sep =\";\")\n",
        "print(data.shape)\n",
        "#pre visualizaçao do dataset\n",
        "data.head(100)"
      ],
      "execution_count": 74,
      "outputs": [
        {
          "output_type": "stream",
          "name": "stdout",
          "text": [
            "(41188, 21)\n"
          ]
        },
        {
          "output_type": "execute_result",
          "data": {
            "text/html": [
              "<div>\n",
              "<style scoped>\n",
              "    .dataframe tbody tr th:only-of-type {\n",
              "        vertical-align: middle;\n",
              "    }\n",
              "\n",
              "    .dataframe tbody tr th {\n",
              "        vertical-align: top;\n",
              "    }\n",
              "\n",
              "    .dataframe thead th {\n",
              "        text-align: right;\n",
              "    }\n",
              "</style>\n",
              "<table border=\"1\" class=\"dataframe\">\n",
              "  <thead>\n",
              "    <tr style=\"text-align: right;\">\n",
              "      <th></th>\n",
              "      <th>age</th>\n",
              "      <th>job</th>\n",
              "      <th>marital</th>\n",
              "      <th>education</th>\n",
              "      <th>default</th>\n",
              "      <th>housing</th>\n",
              "      <th>loan</th>\n",
              "      <th>contact</th>\n",
              "      <th>month</th>\n",
              "      <th>day_of_week</th>\n",
              "      <th>duration</th>\n",
              "      <th>campaign</th>\n",
              "      <th>pdays</th>\n",
              "      <th>previous</th>\n",
              "      <th>poutcome</th>\n",
              "      <th>emp.var.rate</th>\n",
              "      <th>cons.price.idx</th>\n",
              "      <th>cons.conf.idx</th>\n",
              "      <th>euribor3m</th>\n",
              "      <th>nr.employed</th>\n",
              "      <th>y</th>\n",
              "    </tr>\n",
              "  </thead>\n",
              "  <tbody>\n",
              "    <tr>\n",
              "      <th>0</th>\n",
              "      <td>56</td>\n",
              "      <td>housemaid</td>\n",
              "      <td>married</td>\n",
              "      <td>basic.4y</td>\n",
              "      <td>no</td>\n",
              "      <td>no</td>\n",
              "      <td>no</td>\n",
              "      <td>telephone</td>\n",
              "      <td>may</td>\n",
              "      <td>mon</td>\n",
              "      <td>261</td>\n",
              "      <td>1</td>\n",
              "      <td>999</td>\n",
              "      <td>0</td>\n",
              "      <td>nonexistent</td>\n",
              "      <td>1.1</td>\n",
              "      <td>93.994</td>\n",
              "      <td>-36.4</td>\n",
              "      <td>4.857</td>\n",
              "      <td>5191.0</td>\n",
              "      <td>no</td>\n",
              "    </tr>\n",
              "    <tr>\n",
              "      <th>1</th>\n",
              "      <td>57</td>\n",
              "      <td>services</td>\n",
              "      <td>married</td>\n",
              "      <td>high.school</td>\n",
              "      <td>unknown</td>\n",
              "      <td>no</td>\n",
              "      <td>no</td>\n",
              "      <td>telephone</td>\n",
              "      <td>may</td>\n",
              "      <td>mon</td>\n",
              "      <td>149</td>\n",
              "      <td>1</td>\n",
              "      <td>999</td>\n",
              "      <td>0</td>\n",
              "      <td>nonexistent</td>\n",
              "      <td>1.1</td>\n",
              "      <td>93.994</td>\n",
              "      <td>-36.4</td>\n",
              "      <td>4.857</td>\n",
              "      <td>5191.0</td>\n",
              "      <td>no</td>\n",
              "    </tr>\n",
              "    <tr>\n",
              "      <th>2</th>\n",
              "      <td>37</td>\n",
              "      <td>services</td>\n",
              "      <td>married</td>\n",
              "      <td>high.school</td>\n",
              "      <td>no</td>\n",
              "      <td>yes</td>\n",
              "      <td>no</td>\n",
              "      <td>telephone</td>\n",
              "      <td>may</td>\n",
              "      <td>mon</td>\n",
              "      <td>226</td>\n",
              "      <td>1</td>\n",
              "      <td>999</td>\n",
              "      <td>0</td>\n",
              "      <td>nonexistent</td>\n",
              "      <td>1.1</td>\n",
              "      <td>93.994</td>\n",
              "      <td>-36.4</td>\n",
              "      <td>4.857</td>\n",
              "      <td>5191.0</td>\n",
              "      <td>no</td>\n",
              "    </tr>\n",
              "    <tr>\n",
              "      <th>3</th>\n",
              "      <td>40</td>\n",
              "      <td>admin.</td>\n",
              "      <td>married</td>\n",
              "      <td>basic.6y</td>\n",
              "      <td>no</td>\n",
              "      <td>no</td>\n",
              "      <td>no</td>\n",
              "      <td>telephone</td>\n",
              "      <td>may</td>\n",
              "      <td>mon</td>\n",
              "      <td>151</td>\n",
              "      <td>1</td>\n",
              "      <td>999</td>\n",
              "      <td>0</td>\n",
              "      <td>nonexistent</td>\n",
              "      <td>1.1</td>\n",
              "      <td>93.994</td>\n",
              "      <td>-36.4</td>\n",
              "      <td>4.857</td>\n",
              "      <td>5191.0</td>\n",
              "      <td>no</td>\n",
              "    </tr>\n",
              "    <tr>\n",
              "      <th>4</th>\n",
              "      <td>56</td>\n",
              "      <td>services</td>\n",
              "      <td>married</td>\n",
              "      <td>high.school</td>\n",
              "      <td>no</td>\n",
              "      <td>no</td>\n",
              "      <td>yes</td>\n",
              "      <td>telephone</td>\n",
              "      <td>may</td>\n",
              "      <td>mon</td>\n",
              "      <td>307</td>\n",
              "      <td>1</td>\n",
              "      <td>999</td>\n",
              "      <td>0</td>\n",
              "      <td>nonexistent</td>\n",
              "      <td>1.1</td>\n",
              "      <td>93.994</td>\n",
              "      <td>-36.4</td>\n",
              "      <td>4.857</td>\n",
              "      <td>5191.0</td>\n",
              "      <td>no</td>\n",
              "    </tr>\n",
              "    <tr>\n",
              "      <th>...</th>\n",
              "      <td>...</td>\n",
              "      <td>...</td>\n",
              "      <td>...</td>\n",
              "      <td>...</td>\n",
              "      <td>...</td>\n",
              "      <td>...</td>\n",
              "      <td>...</td>\n",
              "      <td>...</td>\n",
              "      <td>...</td>\n",
              "      <td>...</td>\n",
              "      <td>...</td>\n",
              "      <td>...</td>\n",
              "      <td>...</td>\n",
              "      <td>...</td>\n",
              "      <td>...</td>\n",
              "      <td>...</td>\n",
              "      <td>...</td>\n",
              "      <td>...</td>\n",
              "      <td>...</td>\n",
              "      <td>...</td>\n",
              "      <td>...</td>\n",
              "    </tr>\n",
              "    <tr>\n",
              "      <th>95</th>\n",
              "      <td>45</td>\n",
              "      <td>services</td>\n",
              "      <td>married</td>\n",
              "      <td>professional.course</td>\n",
              "      <td>no</td>\n",
              "      <td>yes</td>\n",
              "      <td>no</td>\n",
              "      <td>telephone</td>\n",
              "      <td>may</td>\n",
              "      <td>mon</td>\n",
              "      <td>221</td>\n",
              "      <td>1</td>\n",
              "      <td>999</td>\n",
              "      <td>0</td>\n",
              "      <td>nonexistent</td>\n",
              "      <td>1.1</td>\n",
              "      <td>93.994</td>\n",
              "      <td>-36.4</td>\n",
              "      <td>4.857</td>\n",
              "      <td>5191.0</td>\n",
              "      <td>no</td>\n",
              "    </tr>\n",
              "    <tr>\n",
              "      <th>96</th>\n",
              "      <td>42</td>\n",
              "      <td>management</td>\n",
              "      <td>married</td>\n",
              "      <td>university.degree</td>\n",
              "      <td>no</td>\n",
              "      <td>no</td>\n",
              "      <td>no</td>\n",
              "      <td>telephone</td>\n",
              "      <td>may</td>\n",
              "      <td>mon</td>\n",
              "      <td>426</td>\n",
              "      <td>1</td>\n",
              "      <td>999</td>\n",
              "      <td>0</td>\n",
              "      <td>nonexistent</td>\n",
              "      <td>1.1</td>\n",
              "      <td>93.994</td>\n",
              "      <td>-36.4</td>\n",
              "      <td>4.857</td>\n",
              "      <td>5191.0</td>\n",
              "      <td>no</td>\n",
              "    </tr>\n",
              "    <tr>\n",
              "      <th>97</th>\n",
              "      <td>53</td>\n",
              "      <td>admin.</td>\n",
              "      <td>divorced</td>\n",
              "      <td>university.degree</td>\n",
              "      <td>unknown</td>\n",
              "      <td>no</td>\n",
              "      <td>no</td>\n",
              "      <td>telephone</td>\n",
              "      <td>may</td>\n",
              "      <td>mon</td>\n",
              "      <td>287</td>\n",
              "      <td>1</td>\n",
              "      <td>999</td>\n",
              "      <td>0</td>\n",
              "      <td>nonexistent</td>\n",
              "      <td>1.1</td>\n",
              "      <td>93.994</td>\n",
              "      <td>-36.4</td>\n",
              "      <td>4.857</td>\n",
              "      <td>5191.0</td>\n",
              "      <td>no</td>\n",
              "    </tr>\n",
              "    <tr>\n",
              "      <th>98</th>\n",
              "      <td>37</td>\n",
              "      <td>technician</td>\n",
              "      <td>single</td>\n",
              "      <td>professional.course</td>\n",
              "      <td>no</td>\n",
              "      <td>no</td>\n",
              "      <td>no</td>\n",
              "      <td>telephone</td>\n",
              "      <td>may</td>\n",
              "      <td>mon</td>\n",
              "      <td>197</td>\n",
              "      <td>1</td>\n",
              "      <td>999</td>\n",
              "      <td>0</td>\n",
              "      <td>nonexistent</td>\n",
              "      <td>1.1</td>\n",
              "      <td>93.994</td>\n",
              "      <td>-36.4</td>\n",
              "      <td>4.857</td>\n",
              "      <td>5191.0</td>\n",
              "      <td>no</td>\n",
              "    </tr>\n",
              "    <tr>\n",
              "      <th>99</th>\n",
              "      <td>44</td>\n",
              "      <td>blue-collar</td>\n",
              "      <td>married</td>\n",
              "      <td>basic.6y</td>\n",
              "      <td>no</td>\n",
              "      <td>no</td>\n",
              "      <td>no</td>\n",
              "      <td>telephone</td>\n",
              "      <td>may</td>\n",
              "      <td>mon</td>\n",
              "      <td>257</td>\n",
              "      <td>1</td>\n",
              "      <td>999</td>\n",
              "      <td>0</td>\n",
              "      <td>nonexistent</td>\n",
              "      <td>1.1</td>\n",
              "      <td>93.994</td>\n",
              "      <td>-36.4</td>\n",
              "      <td>4.857</td>\n",
              "      <td>5191.0</td>\n",
              "      <td>no</td>\n",
              "    </tr>\n",
              "  </tbody>\n",
              "</table>\n",
              "<p>100 rows × 21 columns</p>\n",
              "</div>"
            ],
            "text/plain": [
              "    age          job   marital  ... euribor3m nr.employed   y\n",
              "0    56    housemaid   married  ...     4.857      5191.0  no\n",
              "1    57     services   married  ...     4.857      5191.0  no\n",
              "2    37     services   married  ...     4.857      5191.0  no\n",
              "3    40       admin.   married  ...     4.857      5191.0  no\n",
              "4    56     services   married  ...     4.857      5191.0  no\n",
              "..  ...          ...       ...  ...       ...         ...  ..\n",
              "95   45     services   married  ...     4.857      5191.0  no\n",
              "96   42   management   married  ...     4.857      5191.0  no\n",
              "97   53       admin.  divorced  ...     4.857      5191.0  no\n",
              "98   37   technician    single  ...     4.857      5191.0  no\n",
              "99   44  blue-collar   married  ...     4.857      5191.0  no\n",
              "\n",
              "[100 rows x 21 columns]"
            ]
          },
          "metadata": {},
          "execution_count": 74
        }
      ]
    },
    {
      "cell_type": "code",
      "metadata": {
        "colab": {
          "base_uri": "https://localhost:8080/"
        },
        "id": "1WbjbpRA7-oI",
        "outputId": "269d18da-ee6a-4e4e-f48f-c9c7055658cf"
      },
      "source": [
        "#informaçoes sobre os dados\n",
        "print(data.info())\n",
        "print(\"\\n ##########################################\\n\")\n",
        "#verificando de a dados faltantes\n",
        "print(data.isna().sum())"
      ],
      "execution_count": 75,
      "outputs": [
        {
          "output_type": "stream",
          "name": "stdout",
          "text": [
            "<class 'pandas.core.frame.DataFrame'>\n",
            "RangeIndex: 41188 entries, 0 to 41187\n",
            "Data columns (total 21 columns):\n",
            " #   Column          Non-Null Count  Dtype  \n",
            "---  ------          --------------  -----  \n",
            " 0   age             41188 non-null  int64  \n",
            " 1   job             41188 non-null  object \n",
            " 2   marital         41188 non-null  object \n",
            " 3   education       41188 non-null  object \n",
            " 4   default         41188 non-null  object \n",
            " 5   housing         41188 non-null  object \n",
            " 6   loan            41188 non-null  object \n",
            " 7   contact         41188 non-null  object \n",
            " 8   month           41188 non-null  object \n",
            " 9   day_of_week     41188 non-null  object \n",
            " 10  duration        41188 non-null  int64  \n",
            " 11  campaign        41188 non-null  int64  \n",
            " 12  pdays           41188 non-null  int64  \n",
            " 13  previous        41188 non-null  int64  \n",
            " 14  poutcome        41188 non-null  object \n",
            " 15  emp.var.rate    41188 non-null  float64\n",
            " 16  cons.price.idx  41188 non-null  float64\n",
            " 17  cons.conf.idx   41188 non-null  float64\n",
            " 18  euribor3m       41188 non-null  float64\n",
            " 19  nr.employed     41188 non-null  float64\n",
            " 20  y               41188 non-null  object \n",
            "dtypes: float64(5), int64(5), object(11)\n",
            "memory usage: 6.6+ MB\n",
            "None\n",
            "\n",
            " ##########################################\n",
            "\n",
            "age               0\n",
            "job               0\n",
            "marital           0\n",
            "education         0\n",
            "default           0\n",
            "housing           0\n",
            "loan              0\n",
            "contact           0\n",
            "month             0\n",
            "day_of_week       0\n",
            "duration          0\n",
            "campaign          0\n",
            "pdays             0\n",
            "previous          0\n",
            "poutcome          0\n",
            "emp.var.rate      0\n",
            "cons.price.idx    0\n",
            "cons.conf.idx     0\n",
            "euribor3m         0\n",
            "nr.employed       0\n",
            "y                 0\n",
            "dtype: int64\n"
          ]
        }
      ]
    },
    {
      "cell_type": "markdown",
      "metadata": {
        "id": "kRhwbK-92ICx"
      },
      "source": [
        "Tratando os dados Unknown"
      ]
    },
    {
      "cell_type": "code",
      "metadata": {
        "id": "UBeAY3EA1gRt"
      },
      "source": [
        "index_names = data[ (data['age'] == 'unknown')\n",
        "                | (data['job'] == 'unknown')\n",
        "                |(data['marital'] == 'unknown')\n",
        "                |(data['education'] == 'unknown')\n",
        "                |(data['default'] == 'unknown')\n",
        "                |(data['housing'] == 'unknown')\n",
        "                |(data['loan'] == 'unknown')\n",
        "                |(data['contact'] == 'unknown')\n",
        "                |(data['month'] == 'unknown')\n",
        "                |(data['day_of_week'] == 'unknown')\n",
        "                |(data['duration'] == 'unknown')\n",
        "                |(data['campaign'] == 'unknown')\n",
        "                |(data['pdays'] == 'unknown')\n",
        "                |(data['previous'] == 'unknown')\n",
        "                |(data['poutcome'] == 'unknown')\n",
        "                |(data['emp.var.rate'] == 'unknown')\n",
        "                |(data['cons.price.idx'] == 'unknown')\n",
        "                |(data['cons.conf.idx'] == 'unknown')\n",
        "                |(data['euribor3m'] == 'unknown')\n",
        "                |(data['y'] == 'unknown')].index\n",
        "\n",
        "\n",
        "data.drop(index_names, inplace=True)"
      ],
      "execution_count": 76,
      "outputs": []
    },
    {
      "cell_type": "code",
      "metadata": {
        "colab": {
          "base_uri": "https://localhost:8080/",
          "height": 435
        },
        "id": "v32H6XkT_Fau",
        "outputId": "91ea4fc3-d1fb-4526-ed39-b05a32c44083"
      },
      "source": [
        "#verificação do balanceamento das classe \n",
        "print(data.y.value_counts())\n",
        "print(\"\\nDepositos dentro do prazo {:.4f}% do dataset.\\n\".format((data[data.y == 'yes'].shape[0] / data.shape[0]) * 100))\n",
        " \n",
        "# plotar gráfico de barras para as Classes\n",
        "sns.countplot('y', data=data);\n"
      ],
      "execution_count": 77,
      "outputs": [
        {
          "output_type": "stream",
          "name": "stdout",
          "text": [
            "no     26629\n",
            "yes     3859\n",
            "Name: y, dtype: int64\n",
            "\n",
            "Depositos dentro do prazo 12.6574% do dataset.\n",
            "\n"
          ]
        },
        {
          "output_type": "stream",
          "name": "stderr",
          "text": [
            "/usr/local/lib/python3.7/dist-packages/seaborn/_decorators.py:43: FutureWarning: Pass the following variable as a keyword arg: x. From version 0.12, the only valid positional argument will be `data`, and passing other arguments without an explicit keyword will result in an error or misinterpretation.\n",
            "  FutureWarning\n"
          ]
        },
        {
          "output_type": "display_data",
          "data": {
            "image/png": "[encoded data removed]",
            "text/plain": [
              "<Figure size 432x288 with 1 Axes>"
            ]
          },
          "metadata": {
            "needs_background": "light"
          }
        }
      ]
    },
    {
      "cell_type": "markdown",
      "metadata": {
        "id": "_Sg8AAvdSUv2"
      },
      "source": [
        "#Transformando dados categoricos em numericos"
      ]
    },
    {
      "cell_type": "markdown",
      "metadata": {
        "id": "pavSUmhUSp_q"
      },
      "source": [
        "Transformando a coluna y (classe) em numerica"
      ]
    },
    {
      "cell_type": "code",
      "metadata": {
        "id": "1qtQ9QdDr97O"
      },
      "source": [
        "y_map = {\"no\": 0, \"yes\": 1}\n",
        "data['y'].replace(y_map, inplace= True)"
      ],
      "execution_count": 78,
      "outputs": []
    },
    {
      "cell_type": "markdown",
      "metadata": {
        "id": "d_0Mz9JqStrC"
      },
      "source": [
        "Transformando a coluna job para numerica "
      ]
    },
    {
      "cell_type": "code",
      "metadata": {
        "id": "ZPeIVdXOSarf"
      },
      "source": [
        "job_map = {\"admin.\": 0, \"blue-collar\": 1, \"technician\": 2, \"services\": 3, \"management\": 4,\"retired\": 5, \n",
        "           \"self-employed\": 6, \"entrepreneur\": 7, \"unemployed\": 8, \"housemaid\": 9, \"student\": 10}\n",
        "\n",
        "data['job'].replace(job_map, inplace= True)"
      ],
      "execution_count": 79,
      "outputs": []
    },
    {
      "cell_type": "markdown",
      "metadata": {
        "id": "ElvNv_-oUn1H"
      },
      "source": [
        "Transformando a coluna marital em numerica"
      ]
    },
    {
      "cell_type": "code",
      "metadata": {
        "id": "0MF4GN3-UwNy"
      },
      "source": [
        "marital_map = {\"married\": 0, \"single\": 1, \"divorced\": 2}\n",
        "data['marital'].replace(marital_map, inplace= True)"
      ],
      "execution_count": 80,
      "outputs": []
    },
    {
      "cell_type": "markdown",
      "metadata": {
        "id": "buUOHL9WVo1Y"
      },
      "source": [
        "Transformando a coluna education em numerica"
      ]
    },
    {
      "cell_type": "code",
      "metadata": {
        "id": "-qFbEB54VpnN"
      },
      "source": [
        "education_map = {\"illiterate\": 0, \"basic.6y\": 1, \"basic.4y\": 2, \"basic.9y\": 3, \n",
        "                 \"professional.course\": 4, \"high.school\": 5, \"university.degree\": 6}\n",
        "\n",
        "data['education'].replace(education_map, inplace= True)"
      ],
      "execution_count": 81,
      "outputs": []
    },
    {
      "cell_type": "markdown",
      "metadata": {
        "id": "Py1J7taRWox8"
      },
      "source": [
        "Transformando a coluna defaul em numerica"
      ]
    },
    {
      "cell_type": "code",
      "metadata": {
        "id": "41kEzaYcWxES"
      },
      "source": [
        "default_map = {\"no\": 0, \"yes\": 1}\n",
        "                 \n",
        "data['default'].replace(default_map, inplace= True)"
      ],
      "execution_count": 82,
      "outputs": []
    },
    {
      "cell_type": "markdown",
      "metadata": {
        "id": "2Jcc0Z8CXQCU"
      },
      "source": [
        "Transformando a coluna housing em numerica"
      ]
    },
    {
      "cell_type": "code",
      "metadata": {
        "id": "FxzDSemXXZA6"
      },
      "source": [
        "housing_map = {\"no\": 0, \"yes\": 1}\n",
        "                 \n",
        "data['housing'].replace(housing_map, inplace= True)"
      ],
      "execution_count": 83,
      "outputs": []
    },
    {
      "cell_type": "markdown",
      "metadata": {
        "id": "A43j_q28Xs0_"
      },
      "source": [
        "Transformando a coluna loan em numerica"
      ]
    },
    {
      "cell_type": "code",
      "metadata": {
        "id": "-QgQFZbqXvmT"
      },
      "source": [
        "loan_map = {\"no\": 0, \"yes\": 1}\n",
        "                 \n",
        "data['loan'].replace(loan_map, inplace= True)"
      ],
      "execution_count": 84,
      "outputs": []
    },
    {
      "cell_type": "markdown",
      "metadata": {
        "id": "A3vneHBdX6_S"
      },
      "source": [
        "Transformando a coluna contact em numerica"
      ]
    },
    {
      "cell_type": "code",
      "metadata": {
        "id": "DKSRkHOuYDdT"
      },
      "source": [
        "contact_map = {\"cellular\": 0, \"telephone\": 1}\n",
        "\n",
        "data['contact'].replace(contact_map, inplace= True)"
      ],
      "execution_count": 85,
      "outputs": []
    },
    {
      "cell_type": "markdown",
      "metadata": {
        "id": "VadBHMTOYefz"
      },
      "source": [
        "Transformando a coluna month em numerica "
      ]
    },
    {
      "cell_type": "code",
      "metadata": {
        "id": "uRIY0bUWYiSg"
      },
      "source": [
        "month_map = {\"mar\": 0, \"apr\": 1, \"may\": 2, \"jun\": 3, \"jul\": 4, \"aug\": 5, \"sep\": 6, \"oct\": 7, \"nov\": 8, \"dec\": 9}\n",
        "\n",
        "data['month'].replace(month_map, inplace= True)"
      ],
      "execution_count": 86,
      "outputs": []
    },
    {
      "cell_type": "markdown",
      "metadata": {
        "id": "PfainNKSZo8b"
      },
      "source": [
        "Transformando a coluna day_of_week em numerica"
      ]
    },
    {
      "cell_type": "code",
      "metadata": {
        "id": "HVB4Td8DZs7V"
      },
      "source": [
        "day_of_week_map = {\"mon\": 0, \"tue\": 1, \"wed\": 2, \"thu\":3 ,\"fri\": 4}\n",
        "\n",
        "data['day_of_week'].replace(day_of_week_map, inplace= True)"
      ],
      "execution_count": 87,
      "outputs": []
    },
    {
      "cell_type": "markdown",
      "metadata": {
        "id": "EVa1yuYKaWjA"
      },
      "source": [
        "Transformando a coluna poutcome em numerica "
      ]
    },
    {
      "cell_type": "code",
      "metadata": {
        "id": "ndsVnmh-aa4y"
      },
      "source": [
        "poutcome_map = {\"nonexistent\": 0, \"failure\": 1, \"success\": 2}\n",
        "\n",
        "data['poutcome'].replace(poutcome_map, inplace= True)"
      ],
      "execution_count": 88,
      "outputs": []
    },
    {
      "cell_type": "code",
      "metadata": {
        "colab": {
          "base_uri": "https://localhost:8080/",
          "height": 932
        },
        "id": "k_feLg1ZbVtx",
        "outputId": "c3dbb8f1-f022-4dc6-c500-d86af6eb68e0"
      },
      "source": [
        "#new dataset\n",
        "print(data.info())\n",
        "\n",
        "data"
      ],
      "execution_count": 98,
      "outputs": [
        {
          "output_type": "stream",
          "name": "stdout",
          "text": [
            "<class 'pandas.core.frame.DataFrame'>\n",
            "Int64Index: 30488 entries, 0 to 41187\n",
            "Data columns (total 21 columns):\n",
            " #   Column          Non-Null Count  Dtype  \n",
            "---  ------          --------------  -----  \n",
            " 0   age             30488 non-null  int64  \n",
            " 1   job             30488 non-null  int64  \n",
            " 2   marital         30488 non-null  int64  \n",
            " 3   education       30488 non-null  int64  \n",
            " 4   default         30488 non-null  int64  \n",
            " 5   housing         30488 non-null  int64  \n",
            " 6   loan            30488 non-null  int64  \n",
            " 7   contact         30488 non-null  int64  \n",
            " 8   month           30488 non-null  int64  \n",
            " 9   day_of_week     30488 non-null  int64  \n",
            " 10  duration        30488 non-null  int64  \n",
            " 11  campaign        30488 non-null  int64  \n",
            " 12  pdays           30488 non-null  int64  \n",
            " 13  previous        30488 non-null  int64  \n",
            " 14  poutcome        30488 non-null  int64  \n",
            " 15  emp.var.rate    30488 non-null  float64\n",
            " 16  cons.price.idx  30488 non-null  float64\n",
            " 17  cons.conf.idx   30488 non-null  float64\n",
            " 18  euribor3m       30488 non-null  float64\n",
            " 19  nr.employed     30488 non-null  float64\n",
            " 20  y               30488 non-null  int64  \n",
            "dtypes: float64(5), int64(16)\n",
            "memory usage: 6.4 MB\n",
            "None\n"
          ]
        },
        {
          "output_type": "execute_result",
          "data": {
            "text/html": [
              "<div>\n",
              "<style scoped>\n",
              "    .dataframe tbody tr th:only-of-type {\n",
              "        vertical-align: middle;\n",
              "    }\n",
              "\n",
              "    .dataframe tbody tr th {\n",
              "        vertical-align: top;\n",
              "    }\n",
              "\n",
              "    .dataframe thead th {\n",
              "        text-align: right;\n",
              "    }\n",
              "</style>\n",
              "<table border=\"1\" class=\"dataframe\">\n",
              "  <thead>\n",
              "    <tr style=\"text-align: right;\">\n",
              "      <th></th>\n",
              "      <th>age</th>\n",
              "      <th>job</th>\n",
              "      <th>marital</th>\n",
              "      <th>education</th>\n",
              "      <th>default</th>\n",
              "      <th>housing</th>\n",
              "      <th>loan</th>\n",
              "      <th>contact</th>\n",
              "      <th>month</th>\n",
              "      <th>day_of_week</th>\n",
              "      <th>duration</th>\n",
              "      <th>campaign</th>\n",
              "      <th>pdays</th>\n",
              "      <th>previous</th>\n",
              "      <th>poutcome</th>\n",
              "      <th>emp.var.rate</th>\n",
              "      <th>cons.price.idx</th>\n",
              "      <th>cons.conf.idx</th>\n",
              "      <th>euribor3m</th>\n",
              "      <th>nr.employed</th>\n",
              "      <th>y</th>\n",
              "    </tr>\n",
              "  </thead>\n",
              "  <tbody>\n",
              "    <tr>\n",
              "      <th>0</th>\n",
              "      <td>56</td>\n",
              "      <td>9</td>\n",
              "      <td>0</td>\n",
              "      <td>2</td>\n",
              "      <td>0</td>\n",
              "      <td>0</td>\n",
              "      <td>0</td>\n",
              "      <td>1</td>\n",
              "      <td>2</td>\n",
              "      <td>0</td>\n",
              "      <td>261</td>\n",
              "      <td>1</td>\n",
              "      <td>999</td>\n",
              "      <td>0</td>\n",
              "      <td>0</td>\n",
              "      <td>1.1</td>\n",
              "      <td>93.994</td>\n",
              "      <td>-36.4</td>\n",
              "      <td>4.857</td>\n",
              "      <td>5191.0</td>\n",
              "      <td>0</td>\n",
              "    </tr>\n",
              "    <tr>\n",
              "      <th>2</th>\n",
              "      <td>37</td>\n",
              "      <td>3</td>\n",
              "      <td>0</td>\n",
              "      <td>5</td>\n",
              "      <td>0</td>\n",
              "      <td>1</td>\n",
              "      <td>0</td>\n",
              "      <td>1</td>\n",
              "      <td>2</td>\n",
              "      <td>0</td>\n",
              "      <td>226</td>\n",
              "      <td>1</td>\n",
              "      <td>999</td>\n",
              "      <td>0</td>\n",
              "      <td>0</td>\n",
              "      <td>1.1</td>\n",
              "      <td>93.994</td>\n",
              "      <td>-36.4</td>\n",
              "      <td>4.857</td>\n",
              "      <td>5191.0</td>\n",
              "      <td>0</td>\n",
              "    </tr>\n",
              "    <tr>\n",
              "      <th>3</th>\n",
              "      <td>40</td>\n",
              "      <td>0</td>\n",
              "      <td>0</td>\n",
              "      <td>1</td>\n",
              "      <td>0</td>\n",
              "      <td>0</td>\n",
              "      <td>0</td>\n",
              "      <td>1</td>\n",
              "      <td>2</td>\n",
              "      <td>0</td>\n",
              "      <td>151</td>\n",
              "      <td>1</td>\n",
              "      <td>999</td>\n",
              "      <td>0</td>\n",
              "      <td>0</td>\n",
              "      <td>1.1</td>\n",
              "      <td>93.994</td>\n",
              "      <td>-36.4</td>\n",
              "      <td>4.857</td>\n",
              "      <td>5191.0</td>\n",
              "      <td>0</td>\n",
              "    </tr>\n",
              "    <tr>\n",
              "      <th>4</th>\n",
              "      <td>56</td>\n",
              "      <td>3</td>\n",
              "      <td>0</td>\n",
              "      <td>5</td>\n",
              "      <td>0</td>\n",
              "      <td>0</td>\n",
              "      <td>1</td>\n",
              "      <td>1</td>\n",
              "      <td>2</td>\n",
              "      <td>0</td>\n",
              "      <td>307</td>\n",
              "      <td>1</td>\n",
              "      <td>999</td>\n",
              "      <td>0</td>\n",
              "      <td>0</td>\n",
              "      <td>1.1</td>\n",
              "      <td>93.994</td>\n",
              "      <td>-36.4</td>\n",
              "      <td>4.857</td>\n",
              "      <td>5191.0</td>\n",
              "      <td>0</td>\n",
              "    </tr>\n",
              "    <tr>\n",
              "      <th>6</th>\n",
              "      <td>59</td>\n",
              "      <td>0</td>\n",
              "      <td>0</td>\n",
              "      <td>4</td>\n",
              "      <td>0</td>\n",
              "      <td>0</td>\n",
              "      <td>0</td>\n",
              "      <td>1</td>\n",
              "      <td>2</td>\n",
              "      <td>0</td>\n",
              "      <td>139</td>\n",
              "      <td>1</td>\n",
              "      <td>999</td>\n",
              "      <td>0</td>\n",
              "      <td>0</td>\n",
              "      <td>1.1</td>\n",
              "      <td>93.994</td>\n",
              "      <td>-36.4</td>\n",
              "      <td>4.857</td>\n",
              "      <td>5191.0</td>\n",
              "      <td>0</td>\n",
              "    </tr>\n",
              "    <tr>\n",
              "      <th>...</th>\n",
              "      <td>...</td>\n",
              "      <td>...</td>\n",
              "      <td>...</td>\n",
              "      <td>...</td>\n",
              "      <td>...</td>\n",
              "      <td>...</td>\n",
              "      <td>...</td>\n",
              "      <td>...</td>\n",
              "      <td>...</td>\n",
              "      <td>...</td>\n",
              "      <td>...</td>\n",
              "      <td>...</td>\n",
              "      <td>...</td>\n",
              "      <td>...</td>\n",
              "      <td>...</td>\n",
              "      <td>...</td>\n",
              "      <td>...</td>\n",
              "      <td>...</td>\n",
              "      <td>...</td>\n",
              "      <td>...</td>\n",
              "      <td>...</td>\n",
              "    </tr>\n",
              "    <tr>\n",
              "      <th>41183</th>\n",
              "      <td>73</td>\n",
              "      <td>5</td>\n",
              "      <td>0</td>\n",
              "      <td>4</td>\n",
              "      <td>0</td>\n",
              "      <td>1</td>\n",
              "      <td>0</td>\n",
              "      <td>0</td>\n",
              "      <td>8</td>\n",
              "      <td>4</td>\n",
              "      <td>334</td>\n",
              "      <td>1</td>\n",
              "      <td>999</td>\n",
              "      <td>0</td>\n",
              "      <td>0</td>\n",
              "      <td>-1.1</td>\n",
              "      <td>94.767</td>\n",
              "      <td>-50.8</td>\n",
              "      <td>1.028</td>\n",
              "      <td>4963.6</td>\n",
              "      <td>1</td>\n",
              "    </tr>\n",
              "    <tr>\n",
              "      <th>41184</th>\n",
              "      <td>46</td>\n",
              "      <td>1</td>\n",
              "      <td>0</td>\n",
              "      <td>4</td>\n",
              "      <td>0</td>\n",
              "      <td>0</td>\n",
              "      <td>0</td>\n",
              "      <td>0</td>\n",
              "      <td>8</td>\n",
              "      <td>4</td>\n",
              "      <td>383</td>\n",
              "      <td>1</td>\n",
              "      <td>999</td>\n",
              "      <td>0</td>\n",
              "      <td>0</td>\n",
              "      <td>-1.1</td>\n",
              "      <td>94.767</td>\n",
              "      <td>-50.8</td>\n",
              "      <td>1.028</td>\n",
              "      <td>4963.6</td>\n",
              "      <td>0</td>\n",
              "    </tr>\n",
              "    <tr>\n",
              "      <th>41185</th>\n",
              "      <td>56</td>\n",
              "      <td>5</td>\n",
              "      <td>0</td>\n",
              "      <td>6</td>\n",
              "      <td>0</td>\n",
              "      <td>1</td>\n",
              "      <td>0</td>\n",
              "      <td>0</td>\n",
              "      <td>8</td>\n",
              "      <td>4</td>\n",
              "      <td>189</td>\n",
              "      <td>2</td>\n",
              "      <td>999</td>\n",
              "      <td>0</td>\n",
              "      <td>0</td>\n",
              "      <td>-1.1</td>\n",
              "      <td>94.767</td>\n",
              "      <td>-50.8</td>\n",
              "      <td>1.028</td>\n",
              "      <td>4963.6</td>\n",
              "      <td>0</td>\n",
              "    </tr>\n",
              "    <tr>\n",
              "      <th>41186</th>\n",
              "      <td>44</td>\n",
              "      <td>2</td>\n",
              "      <td>0</td>\n",
              "      <td>4</td>\n",
              "      <td>0</td>\n",
              "      <td>0</td>\n",
              "      <td>0</td>\n",
              "      <td>0</td>\n",
              "      <td>8</td>\n",
              "      <td>4</td>\n",
              "      <td>442</td>\n",
              "      <td>1</td>\n",
              "      <td>999</td>\n",
              "      <td>0</td>\n",
              "      <td>0</td>\n",
              "      <td>-1.1</td>\n",
              "      <td>94.767</td>\n",
              "      <td>-50.8</td>\n",
              "      <td>1.028</td>\n",
              "      <td>4963.6</td>\n",
              "      <td>1</td>\n",
              "    </tr>\n",
              "    <tr>\n",
              "      <th>41187</th>\n",
              "      <td>74</td>\n",
              "      <td>5</td>\n",
              "      <td>0</td>\n",
              "      <td>4</td>\n",
              "      <td>0</td>\n",
              "      <td>1</td>\n",
              "      <td>0</td>\n",
              "      <td>0</td>\n",
              "      <td>8</td>\n",
              "      <td>4</td>\n",
              "      <td>239</td>\n",
              "      <td>3</td>\n",
              "      <td>999</td>\n",
              "      <td>1</td>\n",
              "      <td>1</td>\n",
              "      <td>-1.1</td>\n",
              "      <td>94.767</td>\n",
              "      <td>-50.8</td>\n",
              "      <td>1.028</td>\n",
              "      <td>4963.6</td>\n",
              "      <td>0</td>\n",
              "    </tr>\n",
              "  </tbody>\n",
              "</table>\n",
              "<p>30488 rows × 21 columns</p>\n",
              "</div>"
            ],
            "text/plain": [
              "       age  job  marital  education  ...  cons.conf.idx  euribor3m  nr.employed  y\n",
              "0       56    9        0          2  ...          -36.4      4.857       5191.0  0\n",
              "2       37    3        0          5  ...          -36.4      4.857       5191.0  0\n",
              "3       40    0        0          1  ...          -36.4      4.857       5191.0  0\n",
              "4       56    3        0          5  ...          -36.4      4.857       5191.0  0\n",
              "6       59    0        0          4  ...          -36.4      4.857       5191.0  0\n",
              "...    ...  ...      ...        ...  ...            ...        ...          ... ..\n",
              "41183   73    5        0          4  ...          -50.8      1.028       4963.6  1\n",
              "41184   46    1        0          4  ...          -50.8      1.028       4963.6  0\n",
              "41185   56    5        0          6  ...          -50.8      1.028       4963.6  0\n",
              "41186   44    2        0          4  ...          -50.8      1.028       4963.6  1\n",
              "41187   74    5        0          4  ...          -50.8      1.028       4963.6  0\n",
              "\n",
              "[30488 rows x 21 columns]"
            ]
          },
          "metadata": {},
          "execution_count": 98
        }
      ]
    },
    {
      "cell_type": "code",
      "metadata": {
        "id": "YOuF1KfRJjP6"
      },
      "source": [
        "#separando as amostras da classe do dataset\n",
        "X = data.iloc[:,:20].values \n",
        "y = data.iloc[:,20].values\n",
        "\n",
        "#Separando as amostras em treino e validação \n",
        "\n",
        "\n"
      ],
      "execution_count": 101,
      "outputs": []
    },
    {
      "cell_type": "markdown",
      "metadata": {
        "id": "KKccLJv38Cp5"
      },
      "source": [
        "##Medindo o melhor algoritmo para treinamento usando validação cruzada k-fold "
      ]
    },
    {
      "cell_type": "markdown",
      "metadata": {
        "id": "gze9w8Mb5jF4"
      },
      "source": [
        " Algoritmos utilizados (kNN, SVM, Árvore de Decisão, Random Forest, Gradient Boosting e Redes Neurais)"
      ]
    },
    {
      "cell_type": "code",
      "metadata": {
        "id": "6sR2uexi1Ebj"
      },
      "source": [
        "Colunas_result = [\n",
        "    'algoritmo',\n",
        "    'parametros',\n",
        "    'F1_score', \n",
        "]\n",
        "\n",
        "dataframe_grid = pd.DataFrame(columns= Colunas_result) #dataframe para guarda os valores dos grids\n",
        "\n",
        "\n",
        "#instanciando o 5-fold's\n",
        "kfold = KFold(n_splits=5, shuffle=True, random_state=42)\n"
      ],
      "execution_count": 100,
      "outputs": []
    },
    {
      "cell_type": "markdown",
      "metadata": {
        "id": "vVUldxO-_VhX"
      },
      "source": [
        "##Pipeline e Gridsearch KNN"
      ]
    },
    {
      "cell_type": "code",
      "metadata": {
        "colab": {
          "base_uri": "https://localhost:8080/"
        },
        "id": "_1v-Rw8VnvMe",
        "outputId": "8fc065b2-e756-4315-f153-32fce336bd84"
      },
      "source": [
        "#criando o pipeline para KNN\n",
        "model_knn = Pipeline(steps=[('scaler_normalize', preprocessing.MinMaxScaler()),\n",
        "                        ('std_scaler', preprocessing.StandardScaler()),\n",
        "                       ('classifier', KNeighborsClassifier())\n",
        "])\n",
        "\n",
        "model_knn.get_params().keys()\n"
      ],
      "execution_count": 102,
      "outputs": [
        {
          "output_type": "execute_result",
          "data": {
            "text/plain": [
              "dict_keys(['memory', 'steps', 'verbose', 'scaler_normalize', 'std_scaler', 'classifier', 'scaler_normalize__copy', 'scaler_normalize__feature_range', 'std_scaler__copy', 'std_scaler__with_mean', 'std_scaler__with_std', 'classifier__algorithm', 'classifier__leaf_size', 'classifier__metric', 'classifier__metric_params', 'classifier__n_jobs', 'classifier__n_neighbors', 'classifier__p', 'classifier__weights'])"
            ]
          },
          "metadata": {},
          "execution_count": 102
        }
      ]
    },
    {
      "cell_type": "code",
      "metadata": {
        "colab": {
          "base_uri": "https://localhost:8080/",
          "height": 374
        },
        "id": "afmDUYWn7jqD",
        "outputId": "4078f4e3-b3c5-4a6f-f1ff-1585f1c6803a"
      },
      "source": [
        "#paramentros do knn para gridsearch\n",
        "parameters_knn = {'classifier__n_neighbors': [1,3,5,7], \n",
        "                  'classifier__algorithm': ['auto' , 'ball_tree', 'kd_tree', 'brute'],\n",
        "                  'classifier__weights': ['uniform' , 'distance'],\n",
        "                  'classifier__metric': ['euclidean' , 'manhattan']}\n",
        "\n",
        "#instanciando o gridsearch\n",
        "grid = GridSearchCV(model_knn, param_grid= parameters_knn ,cv=kfold, n_jobs=-1, scoring= 'f1', return_train_score=False)\n",
        "grid.fit(X, y)\n",
        "\n",
        "# qual o melhor combinação\n",
        "print(grid.best_estimator_)\n",
        "#melhor f1\n",
        "print(grid.best_score_)"
      ],
      "execution_count": 107,
      "outputs": [
        {
          "output_type": "error",
          "ename": "KeyboardInterrupt",
          "evalue": "ignored",
          "traceback": [
            "\u001b[0;31m---------------------------------------------------------------------------\u001b[0m",
            "\u001b[0;31mKeyboardInterrupt\u001b[0m                         Traceback (most recent call last)",
            "\u001b[0;32m<ipython-input-107-ea9aba6173db>\u001b[0m in \u001b[0;36m<module>\u001b[0;34m()\u001b[0m\n\u001b[1;32m      7\u001b[0m \u001b[0;31m#instanciando o gridsearch\u001b[0m\u001b[0;34m\u001b[0m\u001b[0;34m\u001b[0m\u001b[0;34m\u001b[0m\u001b[0m\n\u001b[1;32m      8\u001b[0m \u001b[0mgrid\u001b[0m \u001b[0;34m=\u001b[0m \u001b[0mGridSearchCV\u001b[0m\u001b[0;34m(\u001b[0m\u001b[0mmodel_knn\u001b[0m\u001b[0;34m,\u001b[0m \u001b[0mparam_grid\u001b[0m\u001b[0;34m=\u001b[0m \u001b[0mparameters_knn\u001b[0m \u001b[0;34m,\u001b[0m\u001b[0mcv\u001b[0m\u001b[0;34m=\u001b[0m\u001b[0mkfold\u001b[0m\u001b[0;34m,\u001b[0m \u001b[0mn_jobs\u001b[0m\u001b[0;34m=\u001b[0m\u001b[0;34m-\u001b[0m\u001b[0;36m1\u001b[0m\u001b[0;34m,\u001b[0m \u001b[0mscoring\u001b[0m\u001b[0;34m=\u001b[0m \u001b[0;34m'f1'\u001b[0m\u001b[0;34m,\u001b[0m \u001b[0mreturn_train_score\u001b[0m\u001b[0;34m=\u001b[0m\u001b[0;32mFalse\u001b[0m\u001b[0;34m)\u001b[0m\u001b[0;34m\u001b[0m\u001b[0;34m\u001b[0m\u001b[0m\n\u001b[0;32m----> 9\u001b[0;31m \u001b[0mgrid\u001b[0m\u001b[0;34m.\u001b[0m\u001b[0mfit\u001b[0m\u001b[0;34m(\u001b[0m\u001b[0mX\u001b[0m\u001b[0;34m,\u001b[0m \u001b[0my\u001b[0m\u001b[0;34m)\u001b[0m\u001b[0;34m\u001b[0m\u001b[0;34m\u001b[0m\u001b[0m\n\u001b[0m\u001b[1;32m     10\u001b[0m \u001b[0;34m\u001b[0m\u001b[0m\n\u001b[1;32m     11\u001b[0m \u001b[0;31m# qual o melhor combinação\u001b[0m\u001b[0;34m\u001b[0m\u001b[0;34m\u001b[0m\u001b[0;34m\u001b[0m\u001b[0m\n",
            "\u001b[0;32m/usr/local/lib/python3.7/dist-packages/sklearn/model_selection/_search.py\u001b[0m in \u001b[0;36mfit\u001b[0;34m(self, X, y, groups, **fit_params)\u001b[0m\n\u001b[1;32m    708\u001b[0m                 \u001b[0;32mreturn\u001b[0m \u001b[0mresults\u001b[0m\u001b[0;34m\u001b[0m\u001b[0;34m\u001b[0m\u001b[0m\n\u001b[1;32m    709\u001b[0m \u001b[0;34m\u001b[0m\u001b[0m\n\u001b[0;32m--> 710\u001b[0;31m             \u001b[0mself\u001b[0m\u001b[0;34m.\u001b[0m\u001b[0m_run_search\u001b[0m\u001b[0;34m(\u001b[0m\u001b[0mevaluate_candidates\u001b[0m\u001b[0;34m)\u001b[0m\u001b[0;34m\u001b[0m\u001b[0;34m\u001b[0m\u001b[0m\n\u001b[0m\u001b[1;32m    711\u001b[0m \u001b[0;34m\u001b[0m\u001b[0m\n\u001b[1;32m    712\u001b[0m         \u001b[0;31m# For multi-metric evaluation, store the best_index_, best_params_ and\u001b[0m\u001b[0;34m\u001b[0m\u001b[0;34m\u001b[0m\u001b[0;34m\u001b[0m\u001b[0m\n",
            "\u001b[0;32m/usr/local/lib/python3.7/dist-packages/sklearn/model_selection/_search.py\u001b[0m in \u001b[0;36m_run_search\u001b[0;34m(self, evaluate_candidates)\u001b[0m\n\u001b[1;32m   1149\u001b[0m     \u001b[0;32mdef\u001b[0m \u001b[0m_run_search\u001b[0m\u001b[0;34m(\u001b[0m\u001b[0mself\u001b[0m\u001b[0;34m,\u001b[0m \u001b[0mevaluate_candidates\u001b[0m\u001b[0;34m)\u001b[0m\u001b[0;34m:\u001b[0m\u001b[0;34m\u001b[0m\u001b[0;34m\u001b[0m\u001b[0m\n\u001b[1;32m   1150\u001b[0m         \u001b[0;34m\"\"\"Search all candidates in param_grid\"\"\"\u001b[0m\u001b[0;34m\u001b[0m\u001b[0;34m\u001b[0m\u001b[0m\n\u001b[0;32m-> 1151\u001b[0;31m         \u001b[0mevaluate_candidates\u001b[0m\u001b[0;34m(\u001b[0m\u001b[0mParameterGrid\u001b[0m\u001b[0;34m(\u001b[0m\u001b[0mself\u001b[0m\u001b[0;34m.\u001b[0m\u001b[0mparam_grid\u001b[0m\u001b[0;34m)\u001b[0m\u001b[0;34m)\u001b[0m\u001b[0;34m\u001b[0m\u001b[0;34m\u001b[0m\u001b[0m\n\u001b[0m\u001b[1;32m   1152\u001b[0m \u001b[0;34m\u001b[0m\u001b[0m\n\u001b[1;32m   1153\u001b[0m \u001b[0;34m\u001b[0m\u001b[0m\n",
            "\u001b[0;32m/usr/local/lib/python3.7/dist-packages/sklearn/model_selection/_search.py\u001b[0m in \u001b[0;36mevaluate_candidates\u001b[0;34m(candidate_params)\u001b[0m\n\u001b[1;32m    687\u001b[0m                                \u001b[0;32mfor\u001b[0m \u001b[0mparameters\u001b[0m\u001b[0;34m,\u001b[0m \u001b[0;34m(\u001b[0m\u001b[0mtrain\u001b[0m\u001b[0;34m,\u001b[0m \u001b[0mtest\u001b[0m\u001b[0;34m)\u001b[0m\u001b[0;34m\u001b[0m\u001b[0;34m\u001b[0m\u001b[0m\n\u001b[1;32m    688\u001b[0m                                in product(candidate_params,\n\u001b[0;32m--> 689\u001b[0;31m                                           cv.split(X, y, groups)))\n\u001b[0m\u001b[1;32m    690\u001b[0m \u001b[0;34m\u001b[0m\u001b[0m\n\u001b[1;32m    691\u001b[0m                 \u001b[0;32mif\u001b[0m \u001b[0mlen\u001b[0m\u001b[0;34m(\u001b[0m\u001b[0mout\u001b[0m\u001b[0;34m)\u001b[0m \u001b[0;34m<\u001b[0m \u001b[0;36m1\u001b[0m\u001b[0;34m:\u001b[0m\u001b[0;34m\u001b[0m\u001b[0;34m\u001b[0m\u001b[0m\n",
            "\u001b[0;32m/usr/local/lib/python3.7/dist-packages/joblib/parallel.py\u001b[0m in \u001b[0;36m__call__\u001b[0;34m(self, iterable)\u001b[0m\n\u001b[1;32m   1052\u001b[0m \u001b[0;34m\u001b[0m\u001b[0m\n\u001b[1;32m   1053\u001b[0m             \u001b[0;32mwith\u001b[0m \u001b[0mself\u001b[0m\u001b[0;34m.\u001b[0m\u001b[0m_backend\u001b[0m\u001b[0;34m.\u001b[0m\u001b[0mretrieval_context\u001b[0m\u001b[0;34m(\u001b[0m\u001b[0;34m)\u001b[0m\u001b[0;34m:\u001b[0m\u001b[0;34m\u001b[0m\u001b[0;34m\u001b[0m\u001b[0m\n\u001b[0;32m-> 1054\u001b[0;31m                 \u001b[0mself\u001b[0m\u001b[0;34m.\u001b[0m\u001b[0mretrieve\u001b[0m\u001b[0;34m(\u001b[0m\u001b[0;34m)\u001b[0m\u001b[0;34m\u001b[0m\u001b[0;34m\u001b[0m\u001b[0m\n\u001b[0m\u001b[1;32m   1055\u001b[0m             \u001b[0;31m# Make sure that we get a last message telling us we are done\u001b[0m\u001b[0;34m\u001b[0m\u001b[0;34m\u001b[0m\u001b[0;34m\u001b[0m\u001b[0m\n\u001b[1;32m   1056\u001b[0m             \u001b[0melapsed_time\u001b[0m \u001b[0;34m=\u001b[0m \u001b[0mtime\u001b[0m\u001b[0;34m.\u001b[0m\u001b[0mtime\u001b[0m\u001b[0;34m(\u001b[0m\u001b[0;34m)\u001b[0m \u001b[0;34m-\u001b[0m \u001b[0mself\u001b[0m\u001b[0;34m.\u001b[0m\u001b[0m_start_time\u001b[0m\u001b[0;34m\u001b[0m\u001b[0;34m\u001b[0m\u001b[0m\n",
            "\u001b[0;32m/usr/local/lib/python3.7/dist-packages/joblib/parallel.py\u001b[0m in \u001b[0;36mretrieve\u001b[0;34m(self)\u001b[0m\n\u001b[1;32m    931\u001b[0m             \u001b[0;32mtry\u001b[0m\u001b[0;34m:\u001b[0m\u001b[0;34m\u001b[0m\u001b[0;34m\u001b[0m\u001b[0m\n\u001b[1;32m    932\u001b[0m                 \u001b[0;32mif\u001b[0m \u001b[0mgetattr\u001b[0m\u001b[0;34m(\u001b[0m\u001b[0mself\u001b[0m\u001b[0;34m.\u001b[0m\u001b[0m_backend\u001b[0m\u001b[0;34m,\u001b[0m \u001b[0;34m'supports_timeout'\u001b[0m\u001b[0;34m,\u001b[0m \u001b[0;32mFalse\u001b[0m\u001b[0;34m)\u001b[0m\u001b[0;34m:\u001b[0m\u001b[0;34m\u001b[0m\u001b[0;34m\u001b[0m\u001b[0m\n\u001b[0;32m--> 933\u001b[0;31m                     \u001b[0mself\u001b[0m\u001b[0;34m.\u001b[0m\u001b[0m_output\u001b[0m\u001b[0;34m.\u001b[0m\u001b[0mextend\u001b[0m\u001b[0;34m(\u001b[0m\u001b[0mjob\u001b[0m\u001b[0;34m.\u001b[0m\u001b[0mget\u001b[0m\u001b[0;34m(\u001b[0m\u001b[0mtimeout\u001b[0m\u001b[0;34m=\u001b[0m\u001b[0mself\u001b[0m\u001b[0;34m.\u001b[0m\u001b[0mtimeout\u001b[0m\u001b[0;34m)\u001b[0m\u001b[0;34m)\u001b[0m\u001b[0;34m\u001b[0m\u001b[0;34m\u001b[0m\u001b[0m\n\u001b[0m\u001b[1;32m    934\u001b[0m                 \u001b[0;32melse\u001b[0m\u001b[0;34m:\u001b[0m\u001b[0;34m\u001b[0m\u001b[0;34m\u001b[0m\u001b[0m\n\u001b[1;32m    935\u001b[0m                     \u001b[0mself\u001b[0m\u001b[0;34m.\u001b[0m\u001b[0m_output\u001b[0m\u001b[0;34m.\u001b[0m\u001b[0mextend\u001b[0m\u001b[0;34m(\u001b[0m\u001b[0mjob\u001b[0m\u001b[0;34m.\u001b[0m\u001b[0mget\u001b[0m\u001b[0;34m(\u001b[0m\u001b[0;34m)\u001b[0m\u001b[0;34m)\u001b[0m\u001b[0;34m\u001b[0m\u001b[0;34m\u001b[0m\u001b[0m\n",
            "\u001b[0;32m/usr/local/lib/python3.7/dist-packages/joblib/_parallel_backends.py\u001b[0m in \u001b[0;36mwrap_future_result\u001b[0;34m(future, timeout)\u001b[0m\n\u001b[1;32m    540\u001b[0m         AsyncResults.get from multiprocessing.\"\"\"\n\u001b[1;32m    541\u001b[0m         \u001b[0;32mtry\u001b[0m\u001b[0;34m:\u001b[0m\u001b[0;34m\u001b[0m\u001b[0;34m\u001b[0m\u001b[0m\n\u001b[0;32m--> 542\u001b[0;31m             \u001b[0;32mreturn\u001b[0m \u001b[0mfuture\u001b[0m\u001b[0;34m.\u001b[0m\u001b[0mresult\u001b[0m\u001b[0;34m(\u001b[0m\u001b[0mtimeout\u001b[0m\u001b[0;34m=\u001b[0m\u001b[0mtimeout\u001b[0m\u001b[0;34m)\u001b[0m\u001b[0;34m\u001b[0m\u001b[0;34m\u001b[0m\u001b[0m\n\u001b[0m\u001b[1;32m    543\u001b[0m         \u001b[0;32mexcept\u001b[0m \u001b[0mCfTimeoutError\u001b[0m \u001b[0;32mas\u001b[0m \u001b[0me\u001b[0m\u001b[0;34m:\u001b[0m\u001b[0;34m\u001b[0m\u001b[0;34m\u001b[0m\u001b[0m\n\u001b[1;32m    544\u001b[0m             \u001b[0;32mraise\u001b[0m \u001b[0mTimeoutError\u001b[0m \u001b[0;32mfrom\u001b[0m \u001b[0me\u001b[0m\u001b[0;34m\u001b[0m\u001b[0;34m\u001b[0m\u001b[0m\n",
            "\u001b[0;32m/usr/lib/python3.7/concurrent/futures/_base.py\u001b[0m in \u001b[0;36mresult\u001b[0;34m(self, timeout)\u001b[0m\n\u001b[1;32m    428\u001b[0m                 \u001b[0;32mreturn\u001b[0m \u001b[0mself\u001b[0m\u001b[0;34m.\u001b[0m\u001b[0m__get_result\u001b[0m\u001b[0;34m(\u001b[0m\u001b[0;34m)\u001b[0m\u001b[0;34m\u001b[0m\u001b[0;34m\u001b[0m\u001b[0m\n\u001b[1;32m    429\u001b[0m \u001b[0;34m\u001b[0m\u001b[0m\n\u001b[0;32m--> 430\u001b[0;31m             \u001b[0mself\u001b[0m\u001b[0;34m.\u001b[0m\u001b[0m_condition\u001b[0m\u001b[0;34m.\u001b[0m\u001b[0mwait\u001b[0m\u001b[0;34m(\u001b[0m\u001b[0mtimeout\u001b[0m\u001b[0;34m)\u001b[0m\u001b[0;34m\u001b[0m\u001b[0;34m\u001b[0m\u001b[0m\n\u001b[0m\u001b[1;32m    431\u001b[0m \u001b[0;34m\u001b[0m\u001b[0m\n\u001b[1;32m    432\u001b[0m             \u001b[0;32mif\u001b[0m \u001b[0mself\u001b[0m\u001b[0;34m.\u001b[0m\u001b[0m_state\u001b[0m \u001b[0;32min\u001b[0m \u001b[0;34m[\u001b[0m\u001b[0mCANCELLED\u001b[0m\u001b[0;34m,\u001b[0m \u001b[0mCANCELLED_AND_NOTIFIED\u001b[0m\u001b[0;34m]\u001b[0m\u001b[0;34m:\u001b[0m\u001b[0;34m\u001b[0m\u001b[0;34m\u001b[0m\u001b[0m\n",
            "\u001b[0;32m/usr/lib/python3.7/threading.py\u001b[0m in \u001b[0;36mwait\u001b[0;34m(self, timeout)\u001b[0m\n\u001b[1;32m    294\u001b[0m         \u001b[0;32mtry\u001b[0m\u001b[0;34m:\u001b[0m    \u001b[0;31m# restore state no matter what (e.g., KeyboardInterrupt)\u001b[0m\u001b[0;34m\u001b[0m\u001b[0;34m\u001b[0m\u001b[0m\n\u001b[1;32m    295\u001b[0m             \u001b[0;32mif\u001b[0m \u001b[0mtimeout\u001b[0m \u001b[0;32mis\u001b[0m \u001b[0;32mNone\u001b[0m\u001b[0;34m:\u001b[0m\u001b[0;34m\u001b[0m\u001b[0;34m\u001b[0m\u001b[0m\n\u001b[0;32m--> 296\u001b[0;31m                 \u001b[0mwaiter\u001b[0m\u001b[0;34m.\u001b[0m\u001b[0macquire\u001b[0m\u001b[0;34m(\u001b[0m\u001b[0;34m)\u001b[0m\u001b[0;34m\u001b[0m\u001b[0;34m\u001b[0m\u001b[0m\n\u001b[0m\u001b[1;32m    297\u001b[0m                 \u001b[0mgotit\u001b[0m \u001b[0;34m=\u001b[0m \u001b[0;32mTrue\u001b[0m\u001b[0;34m\u001b[0m\u001b[0;34m\u001b[0m\u001b[0m\n\u001b[1;32m    298\u001b[0m             \u001b[0;32melse\u001b[0m\u001b[0;34m:\u001b[0m\u001b[0;34m\u001b[0m\u001b[0;34m\u001b[0m\u001b[0m\n",
            "\u001b[0;31mKeyboardInterrupt\u001b[0m: "
          ]
        }
      ]
    },
    {
      "cell_type": "code",
      "metadata": {
        "id": "zoAptE0aRClp"
      },
      "source": [
        "#adicionando resultados na dataframe\n",
        "dataframe_grid.loc[len(dataframe_grid)] = 'KNN' ,grid.best_params_ ,grid.best_score_\n",
        "\n",
        "dataframe_grid"
      ],
      "execution_count": null,
      "outputs": []
    },
    {
      "cell_type": "markdown",
      "metadata": {
        "id": "OMD6vN1wGBe6"
      },
      "source": [
        "##Pipeline e Gridsearch SVM\n",
        "\n",
        "\n"
      ]
    },
    {
      "cell_type": "code",
      "metadata": {
        "id": "YNCNnrtgGARB"
      },
      "source": [
        "#criando o pipeline para SVM\n",
        "model_svm = Pipeline(steps=[('scaler_normalize', preprocessing.MinMaxScaler()), \n",
        "                       ('std_scaler', preprocessing.StandardScaler()),\n",
        "                       ('classifier', svm.SVC(random_state=42))\n",
        "])\n",
        "\n",
        "model_svm.get_params().keys()"
      ],
      "execution_count": null,
      "outputs": []
    },
    {
      "cell_type": "code",
      "metadata": {
        "id": "hsxP91f8Gn25"
      },
      "source": [
        "#paramentros do svm para gridsearch\n",
        "parameters_svm = {            \n",
        "             'classifier__C': np.logspace(0,4,10),\n",
        "             'classifier__kernel': ['rbf'],\n",
        "             'classifier__gamma': ['scale', 'auto'],\n",
        "             'classifier__max_iter': [-1,10,100]}\n",
        "\n",
        "#instanciando o gridsearch\n",
        "grid = GridSearchCV(model_svm, param_grid= parameters_svm ,cv=kfold, n_jobs=-1, scoring= 'f1', return_train_score=False)\n",
        "grid.fit(X, y)\n",
        "\n",
        "# qual o melhor combinação\n",
        "print(grid.best_estimator_)\n",
        "#melhor f1\n",
        "print(grid.best_score_)"
      ],
      "execution_count": null,
      "outputs": []
    },
    {
      "cell_type": "code",
      "metadata": {
        "id": "RpucM_G3V5c-"
      },
      "source": [
        "#adicionando resultados na dataframe\n",
        "dataframe_grid.loc[len(dataframe_grid)] = 'SVM' ,grid.best_params_ ,grid.best_score_\n",
        "\n",
        "dataframe_grid"
      ],
      "execution_count": null,
      "outputs": []
    },
    {
      "cell_type": "markdown",
      "metadata": {
        "id": "UwpB4J4oHy4r"
      },
      "source": [
        "##Pipeline e Gridseach Árvore de Decisão\n",
        "\n"
      ]
    },
    {
      "cell_type": "code",
      "metadata": {
        "id": "IovSZJnyyKcl"
      },
      "source": [
        "#criando o pipeline para decisiontree\n",
        "model_decisiontree = Pipeline(steps=[('scaler_normalize', preprocessing.MinMaxScaler()), \n",
        "                       ('std_scaler', preprocessing.StandardScaler()),\n",
        "                       ('classifier', DecisionTreeClassifier())\n",
        "])\n",
        "\n",
        "model_decisiontree.get_params().keys()"
      ],
      "execution_count": null,
      "outputs": []
    },
    {
      "cell_type": "code",
      "metadata": {
        "id": "5Eep1wGMJw_o"
      },
      "source": [
        "#paramentros do grid para decisiontree\n",
        "parameters_decisiontree = {     \n",
        "             'classifier__criterion' : ['gini', 'entropy'],\n",
        "             'classifier__max_depth' : [2,4,6,8,10,12]\n",
        "             }\n",
        "\n",
        "#instanciando o gridsearch\n",
        "grid = GridSearchCV(model_decisiontree, param_grid= parameters_decisiontree ,cv=kfold, n_jobs=-1, scoring= 'f1', return_train_score=False)\n",
        "grid.fit(X, y)\n",
        "\n",
        "# qual o melhor combinação\n",
        "print(grid.best_estimator_)\n",
        "#melhor f1\n",
        "print(grid.best_score_)"
      ],
      "execution_count": null,
      "outputs": []
    },
    {
      "cell_type": "code",
      "metadata": {
        "id": "YXpCO_gEZhBU"
      },
      "source": [
        "#adicionando resultados na dataframe\n",
        "dataframe_grid.loc[len(dataframe_grid)] = 'Arvore de decisão' ,grid.best_params_ ,grid.best_score_\n",
        "\n",
        "dataframe_grid"
      ],
      "execution_count": null,
      "outputs": []
    },
    {
      "cell_type": "markdown",
      "metadata": {
        "id": "HrALTXrsK5YD"
      },
      "source": [
        "##Pipeline e Gridseach Random Forest\n"
      ]
    },
    {
      "cell_type": "code",
      "metadata": {
        "id": "WjB5b3aIVPzV"
      },
      "source": [
        "#criando o pipeline para Random forest\n",
        "model_rf = Pipeline(steps=[('scaler_normalize', preprocessing.MinMaxScaler()), \n",
        "                       ('std_scaler', preprocessing.StandardScaler()),\n",
        "                       ('classifier', RandomForestClassifier(random_state=42))\n",
        "])\n",
        "\n",
        "model_rf.get_params().keys()"
      ],
      "execution_count": null,
      "outputs": []
    },
    {
      "cell_type": "code",
      "metadata": {
        "id": "bdXxqk-VLntR"
      },
      "source": [
        "#parametros para grid_seach Random forest\n",
        "parameters_rf = { \n",
        "    'classifier__n_estimators': [200, 500],\n",
        "    'classifier__max_features': ['auto', 'sqrt', 'log2'],\n",
        "    'classifier__max_depth' : [4,5,6,7,8],\n",
        "    'classifier__criterion' :['gini', 'entropy']\n",
        "}\n",
        "\n",
        "grid = GridSearchCV(model_rf, param_grid= parameters_rf ,cv=kfold, n_jobs=-1, scoring= 'f1', return_train_score=False)\n",
        "grid.fit(X, y)\n",
        "\n",
        "# qual o melhor combinação\n",
        "print(grid.best_estimator_)\n",
        "#melhor f1\n",
        "print(grid.best_score_)"
      ],
      "execution_count": null,
      "outputs": []
    },
    {
      "cell_type": "code",
      "metadata": {
        "id": "uN_mP9FzZiQV"
      },
      "source": [
        "#adicionando resultados na dataframe\n",
        "dataframe_grid.loc[len(dataframe_grid)] = 'Random forest' ,grid.best_params_ ,grid.best_score_\n",
        "\n",
        "dataframe_grid"
      ],
      "execution_count": null,
      "outputs": []
    },
    {
      "cell_type": "markdown",
      "metadata": {
        "id": "Zs92AZ0LNvXN"
      },
      "source": [
        "##Pipeline e Gridseach Gradient Boosting\n",
        "\n",
        "\n",
        "\n"
      ]
    },
    {
      "cell_type": "code",
      "metadata": {
        "id": "1es_oZhCVnQw"
      },
      "source": [
        "#criando o pipeline para Gradient Boosting\n",
        "model_GB = Pipeline(steps=[('std_scaler', preprocessing.StandardScaler()),\n",
        "                       ('classifier', GradientBoostingClassifier())\n",
        "])\n",
        "\n",
        "model_GB.get_params().keys()"
      ],
      "execution_count": null,
      "outputs": []
    },
    {
      "cell_type": "code",
      "metadata": {
        "id": "Eu7P7lYbQLS9"
      },
      "source": [
        "model_GB =GradientBoostingClassifier()\n",
        "\n",
        "#parametros para grid_seach gradient boosting\n",
        "parameters_GB = {\n",
        "    \"learning_rate\": [0.01, 0.025, 0.05],\n",
        "    \"max_depth\":[3,4,5],\n",
        "    \"max_features\":[\"log2\"],\n",
        "    \"criterion\": [\"mae\"],\n",
        "    }\n",
        "\n",
        "grid = GridSearchCV(model_GB, param_grid= parameters_GB ,cv=kfold, n_jobs=-1, scoring= 'f1', return_train_score=False)\n",
        "grid.fit(X, y)\n",
        "\n",
        "# qual o melhor combinação\n",
        "print(grid.best_estimator_)\n",
        "#melhor f1\n",
        "print(grid.best_score_)\n"
      ],
      "execution_count": null,
      "outputs": []
    },
    {
      "cell_type": "code",
      "metadata": {
        "id": "6AehXKbvZjTQ"
      },
      "source": [
        "#adicionando resultados na dataframe\n",
        "dataframe_grid.loc[len(dataframe_grid)] = 'Gradient boosting' ,grid.best_params_ ,grid.best_score_\n",
        "\n",
        "dataframe_grid"
      ],
      "execution_count": null,
      "outputs": []
    },
    {
      "cell_type": "markdown",
      "metadata": {
        "id": "4tRmZ3AuUYug"
      },
      "source": [
        "##Pipeline e Gridseach Rede Neural\n"
      ]
    },
    {
      "cell_type": "code",
      "metadata": {
        "id": "X6obCVlmWjMb"
      },
      "source": [
        "#criando o pipeline para Rede Neural\n",
        "model_RN = Pipeline(steps=[ ('std_scaler', preprocessing.StandardScaler()),\n",
        "                       ('classifier',MLPClassifier())\n",
        "])\n",
        "\n",
        "model_RN.get_params().keys()"
      ],
      "execution_count": null,
      "outputs": []
    },
    {
      "cell_type": "code",
      "metadata": {
        "id": "sFKOeMzJUYW3"
      },
      "source": [
        "model_RN = MLPClassifier()\n",
        "\n",
        "parameters_RN = {\n",
        "    'solver': ['lbfgs'],\n",
        "    'max_iter': [500,1000],\n",
        "    'alpha': 10.0 ** -np.arange(1, 7), #valores de alpha 1.e-01, 1.e-02, 1.e-03, 1.e-04, 1.e-05, 1.e-06])\n",
        "    'hidden_layer_sizes':np.arange(5, 9),\n",
        "    'random_state':[3,4,5,6]\n",
        "  }\n",
        "  \n",
        "grid = GridSearchCV(model_RN, param_grid= parameters_RN ,cv=kfold, n_jobs=-1, scoring= 'f1', return_train_score=False)\n",
        "grid.fit(X,y)\n",
        "\n",
        "# qual o melhor combinação\n",
        "print(grid.best_estimator_)\n",
        "#melhor f1\n",
        "print(grid.best_score_)\n"
      ],
      "execution_count": null,
      "outputs": []
    },
    {
      "cell_type": "code",
      "metadata": {
        "id": "5-M36nIsZkZr"
      },
      "source": [
        "#adicionando resultados na dataframe\n",
        "dataframe_grid.loc[len(dataframe_grid)] = 'Rede Neural' ,grid.best_params_ ,grid.best_score_\n",
        "\n",
        "dataframe_grid"
      ],
      "execution_count": null,
      "outputs": []
    },
    {
      "cell_type": "markdown",
      "metadata": {
        "id": "BUFORizMPugC"
      },
      "source": [
        "##Avaliando melhor modelo"
      ]
    },
    {
      "cell_type": "code",
      "metadata": {
        "id": "1Y-epMZFPybV"
      },
      "source": [
        "#encontrando o maior valor de F1 \n",
        "result = dataframe_grid.loc[dataframe_grid['F1_score'].idxmax()]\n",
        "print(result , \"\\n \\n Lista de parametros\")\n",
        "\n",
        "\n",
        "result.parametros\n"
      ],
      "execution_count": null,
      "outputs": []
    }
  ]
}